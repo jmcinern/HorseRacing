{
  "nbformat": 4,
  "nbformat_minor": 0,
  "metadata": {
    "colab": {
      "provenance": [],
      "gpuType": "T4",
      "toc_visible": true
    },
    "kernelspec": {
      "name": "python3",
      "display_name": "Python 3"
    },
    "language_info": {
      "name": "python"
    },
    "accelerator": "GPU"
  },
  "cells": [
    {
      "cell_type": "markdown",
      "source": [
        "#TF_IDF Embeddings\n"
      ],
      "metadata": {
        "id": "evQtKko217uG"
      }
    },
    {
      "cell_type": "markdown",
      "source": [
        "##Imports"
      ],
      "metadata": {
        "id": "T7r6ScsCwY6d"
      }
    },
    {
      "cell_type": "code",
      "source": [
        "!pip install transformers"
      ],
      "metadata": {
        "colab": {
          "base_uri": "https://localhost:8080/"
        },
        "id": "dihU050n6o8A",
        "outputId": "def57df9-6d7c-46f9-82d7-baf73fdf9653"
      },
      "execution_count": null,
      "outputs": [
        {
          "output_type": "stream",
          "name": "stdout",
          "text": [
            "Looking in indexes: https://pypi.org/simple, https://us-python.pkg.dev/colab-wheels/public/simple/\n",
            "Collecting transformers\n",
            "  Downloading transformers-4.30.2-py3-none-any.whl (7.2 MB)\n",
            "\u001b[2K     \u001b[90m━━━━━━━━━━━━━━━━━━━━━━━━━━━━━━━━━━━━━━━━\u001b[0m \u001b[32m7.2/7.2 MB\u001b[0m \u001b[31m63.9 MB/s\u001b[0m eta \u001b[36m0:00:00\u001b[0m\n",
            "\u001b[?25hRequirement already satisfied: filelock in /usr/local/lib/python3.10/dist-packages (from transformers) (3.12.0)\n",
            "Collecting huggingface-hub<1.0,>=0.14.1 (from transformers)\n",
            "  Downloading huggingface_hub-0.15.1-py3-none-any.whl (236 kB)\n",
            "\u001b[2K     \u001b[90m━━━━━━━━━━━━━━━━━━━━━━━━━━━━━━━━━━━━━━\u001b[0m \u001b[32m236.8/236.8 kB\u001b[0m \u001b[31m30.3 MB/s\u001b[0m eta \u001b[36m0:00:00\u001b[0m\n",
            "\u001b[?25hRequirement already satisfied: numpy>=1.17 in /usr/local/lib/python3.10/dist-packages (from transformers) (1.22.4)\n",
            "Requirement already satisfied: packaging>=20.0 in /usr/local/lib/python3.10/dist-packages (from transformers) (23.1)\n",
            "Requirement already satisfied: pyyaml>=5.1 in /usr/local/lib/python3.10/dist-packages (from transformers) (6.0)\n",
            "Requirement already satisfied: regex!=2019.12.17 in /usr/local/lib/python3.10/dist-packages (from transformers) (2022.10.31)\n",
            "Requirement already satisfied: requests in /usr/local/lib/python3.10/dist-packages (from transformers) (2.27.1)\n",
            "Collecting tokenizers!=0.11.3,<0.14,>=0.11.1 (from transformers)\n",
            "  Downloading tokenizers-0.13.3-cp310-cp310-manylinux_2_17_x86_64.manylinux2014_x86_64.whl (7.8 MB)\n",
            "\u001b[2K     \u001b[90m━━━━━━━━━━━━━━━━━━━━━━━━━━━━━━━━━━━━━━━━\u001b[0m \u001b[32m7.8/7.8 MB\u001b[0m \u001b[31m117.4 MB/s\u001b[0m eta \u001b[36m0:00:00\u001b[0m\n",
            "\u001b[?25hCollecting safetensors>=0.3.1 (from transformers)\n",
            "  Downloading safetensors-0.3.1-cp310-cp310-manylinux_2_17_x86_64.manylinux2014_x86_64.whl (1.3 MB)\n",
            "\u001b[2K     \u001b[90m━━━━━━━━━━━━━━━━━━━━━━━━━━━━━━━━━━━━━━━━\u001b[0m \u001b[32m1.3/1.3 MB\u001b[0m \u001b[31m63.7 MB/s\u001b[0m eta \u001b[36m0:00:00\u001b[0m\n",
            "\u001b[?25hRequirement already satisfied: tqdm>=4.27 in /usr/local/lib/python3.10/dist-packages (from transformers) (4.65.0)\n",
            "Requirement already satisfied: fsspec in /usr/local/lib/python3.10/dist-packages (from huggingface-hub<1.0,>=0.14.1->transformers) (2023.4.0)\n",
            "Requirement already satisfied: typing-extensions>=3.7.4.3 in /usr/local/lib/python3.10/dist-packages (from huggingface-hub<1.0,>=0.14.1->transformers) (4.5.0)\n",
            "Requirement already satisfied: urllib3<1.27,>=1.21.1 in /usr/local/lib/python3.10/dist-packages (from requests->transformers) (1.26.15)\n",
            "Requirement already satisfied: certifi>=2017.4.17 in /usr/local/lib/python3.10/dist-packages (from requests->transformers) (2022.12.7)\n",
            "Requirement already satisfied: charset-normalizer~=2.0.0 in /usr/local/lib/python3.10/dist-packages (from requests->transformers) (2.0.12)\n",
            "Requirement already satisfied: idna<4,>=2.5 in /usr/local/lib/python3.10/dist-packages (from requests->transformers) (3.4)\n",
            "Installing collected packages: tokenizers, safetensors, huggingface-hub, transformers\n",
            "Successfully installed huggingface-hub-0.15.1 safetensors-0.3.1 tokenizers-0.13.3 transformers-4.30.2\n"
          ]
        }
      ]
    },
    {
      "cell_type": "code",
      "source": [
        "import pandas as pd\n",
        "import numpy as np\n",
        "from sklearn.feature_extraction.text import TfidfVectorizer\n",
        "from sklearn.feature_extraction.text import CountVectorizer\n",
        "import torch\n",
        "from torch import nn, optim\n",
        "from torch.utils.data import Dataset, DataLoader\n",
        "from torch.nn.utils.rnn import pad_sequence\n",
        "from sklearn.model_selection import train_test_split\n",
        "import torch.nn.functional as F\n",
        "from itertools import combinations\n",
        "from collections import defaultdict\n",
        "from sklearn.metrics import ndcg_score\n",
        "from transformers import BertPreTrainedModel, BertModel\n",
        "from transformers import AutoConfig, AutoTokenizer\n",
        "import matplotlib.pyplot as plt\n",
        "import seaborn as sns\n",
        "from sklearn.preprocessing import MinMaxScaler\n",
        "from tqdm import tqdm"
      ],
      "metadata": {
        "id": "cTOHMEAA2krV"
      },
      "execution_count": null,
      "outputs": []
    },
    {
      "cell_type": "code",
      "source": [
        "#downloading the predictions and results csv files\n",
        "from google.colab import files\n",
        "\n",
        "\n",
        "uploaded = files.upload()"
      ],
      "metadata": {
        "id": "XoSJ7jps2sLS",
        "colab": {
          "base_uri": "https://localhost:8080/",
          "height": 113
        },
        "outputId": "40307dcb-bffb-40a2-c93b-0e7abd06e667"
      },
      "execution_count": null,
      "outputs": [
        {
          "output_type": "display_data",
          "data": {
            "text/plain": [
              "<IPython.core.display.HTML object>"
            ],
            "text/html": [
              "\n",
              "     <input type=\"file\" id=\"files-f91f3e46-286c-4fea-9367-2f1cc4d5592b\" name=\"files[]\" multiple disabled\n",
              "        style=\"border:none\" />\n",
              "     <output id=\"result-f91f3e46-286c-4fea-9367-2f1cc4d5592b\">\n",
              "      Upload widget is only available when the cell has been executed in the\n",
              "      current browser session. Please rerun this cell to enable.\n",
              "      </output>\n",
              "      <script>// Copyright 2017 Google LLC\n",
              "//\n",
              "// Licensed under the Apache License, Version 2.0 (the \"License\");\n",
              "// you may not use this file except in compliance with the License.\n",
              "// You may obtain a copy of the License at\n",
              "//\n",
              "//      http://www.apache.org/licenses/LICENSE-2.0\n",
              "//\n",
              "// Unless required by applicable law or agreed to in writing, software\n",
              "// distributed under the License is distributed on an \"AS IS\" BASIS,\n",
              "// WITHOUT WARRANTIES OR CONDITIONS OF ANY KIND, either express or implied.\n",
              "// See the License for the specific language governing permissions and\n",
              "// limitations under the License.\n",
              "\n",
              "/**\n",
              " * @fileoverview Helpers for google.colab Python module.\n",
              " */\n",
              "(function(scope) {\n",
              "function span(text, styleAttributes = {}) {\n",
              "  const element = document.createElement('span');\n",
              "  element.textContent = text;\n",
              "  for (const key of Object.keys(styleAttributes)) {\n",
              "    element.style[key] = styleAttributes[key];\n",
              "  }\n",
              "  return element;\n",
              "}\n",
              "\n",
              "// Max number of bytes which will be uploaded at a time.\n",
              "const MAX_PAYLOAD_SIZE = 100 * 1024;\n",
              "\n",
              "function _uploadFiles(inputId, outputId) {\n",
              "  const steps = uploadFilesStep(inputId, outputId);\n",
              "  const outputElement = document.getElementById(outputId);\n",
              "  // Cache steps on the outputElement to make it available for the next call\n",
              "  // to uploadFilesContinue from Python.\n",
              "  outputElement.steps = steps;\n",
              "\n",
              "  return _uploadFilesContinue(outputId);\n",
              "}\n",
              "\n",
              "// This is roughly an async generator (not supported in the browser yet),\n",
              "// where there are multiple asynchronous steps and the Python side is going\n",
              "// to poll for completion of each step.\n",
              "// This uses a Promise to block the python side on completion of each step,\n",
              "// then passes the result of the previous step as the input to the next step.\n",
              "function _uploadFilesContinue(outputId) {\n",
              "  const outputElement = document.getElementById(outputId);\n",
              "  const steps = outputElement.steps;\n",
              "\n",
              "  const next = steps.next(outputElement.lastPromiseValue);\n",
              "  return Promise.resolve(next.value.promise).then((value) => {\n",
              "    // Cache the last promise value to make it available to the next\n",
              "    // step of the generator.\n",
              "    outputElement.lastPromiseValue = value;\n",
              "    return next.value.response;\n",
              "  });\n",
              "}\n",
              "\n",
              "/**\n",
              " * Generator function which is called between each async step of the upload\n",
              " * process.\n",
              " * @param {string} inputId Element ID of the input file picker element.\n",
              " * @param {string} outputId Element ID of the output display.\n",
              " * @return {!Iterable<!Object>} Iterable of next steps.\n",
              " */\n",
              "function* uploadFilesStep(inputId, outputId) {\n",
              "  const inputElement = document.getElementById(inputId);\n",
              "  inputElement.disabled = false;\n",
              "\n",
              "  const outputElement = document.getElementById(outputId);\n",
              "  outputElement.innerHTML = '';\n",
              "\n",
              "  const pickedPromise = new Promise((resolve) => {\n",
              "    inputElement.addEventListener('change', (e) => {\n",
              "      resolve(e.target.files);\n",
              "    });\n",
              "  });\n",
              "\n",
              "  const cancel = document.createElement('button');\n",
              "  inputElement.parentElement.appendChild(cancel);\n",
              "  cancel.textContent = 'Cancel upload';\n",
              "  const cancelPromise = new Promise((resolve) => {\n",
              "    cancel.onclick = () => {\n",
              "      resolve(null);\n",
              "    };\n",
              "  });\n",
              "\n",
              "  // Wait for the user to pick the files.\n",
              "  const files = yield {\n",
              "    promise: Promise.race([pickedPromise, cancelPromise]),\n",
              "    response: {\n",
              "      action: 'starting',\n",
              "    }\n",
              "  };\n",
              "\n",
              "  cancel.remove();\n",
              "\n",
              "  // Disable the input element since further picks are not allowed.\n",
              "  inputElement.disabled = true;\n",
              "\n",
              "  if (!files) {\n",
              "    return {\n",
              "      response: {\n",
              "        action: 'complete',\n",
              "      }\n",
              "    };\n",
              "  }\n",
              "\n",
              "  for (const file of files) {\n",
              "    const li = document.createElement('li');\n",
              "    li.append(span(file.name, {fontWeight: 'bold'}));\n",
              "    li.append(span(\n",
              "        `(${file.type || 'n/a'}) - ${file.size} bytes, ` +\n",
              "        `last modified: ${\n",
              "            file.lastModifiedDate ? file.lastModifiedDate.toLocaleDateString() :\n",
              "                                    'n/a'} - `));\n",
              "    const percent = span('0% done');\n",
              "    li.appendChild(percent);\n",
              "\n",
              "    outputElement.appendChild(li);\n",
              "\n",
              "    const fileDataPromise = new Promise((resolve) => {\n",
              "      const reader = new FileReader();\n",
              "      reader.onload = (e) => {\n",
              "        resolve(e.target.result);\n",
              "      };\n",
              "      reader.readAsArrayBuffer(file);\n",
              "    });\n",
              "    // Wait for the data to be ready.\n",
              "    let fileData = yield {\n",
              "      promise: fileDataPromise,\n",
              "      response: {\n",
              "        action: 'continue',\n",
              "      }\n",
              "    };\n",
              "\n",
              "    // Use a chunked sending to avoid message size limits. See b/62115660.\n",
              "    let position = 0;\n",
              "    do {\n",
              "      const length = Math.min(fileData.byteLength - position, MAX_PAYLOAD_SIZE);\n",
              "      const chunk = new Uint8Array(fileData, position, length);\n",
              "      position += length;\n",
              "\n",
              "      const base64 = btoa(String.fromCharCode.apply(null, chunk));\n",
              "      yield {\n",
              "        response: {\n",
              "          action: 'append',\n",
              "          file: file.name,\n",
              "          data: base64,\n",
              "        },\n",
              "      };\n",
              "\n",
              "      let percentDone = fileData.byteLength === 0 ?\n",
              "          100 :\n",
              "          Math.round((position / fileData.byteLength) * 100);\n",
              "      percent.textContent = `${percentDone}% done`;\n",
              "\n",
              "    } while (position < fileData.byteLength);\n",
              "  }\n",
              "\n",
              "  // All done.\n",
              "  yield {\n",
              "    response: {\n",
              "      action: 'complete',\n",
              "    }\n",
              "  };\n",
              "}\n",
              "\n",
              "scope.google = scope.google || {};\n",
              "scope.google.colab = scope.google.colab || {};\n",
              "scope.google.colab._files = {\n",
              "  _uploadFiles,\n",
              "  _uploadFilesContinue,\n",
              "};\n",
              "})(self);\n",
              "</script> "
            ]
          },
          "metadata": {}
        },
        {
          "output_type": "stream",
          "name": "stdout",
          "text": [
            "Saving preds.csv to preds (1).csv\n",
            "Saving results.csv to results (1).csv\n"
          ]
        }
      ]
    },
    {
      "cell_type": "markdown",
      "source": [
        "##Data Processing\n",
        "\n",
        "Here we take our scraped data: the predictions (textual) and the numerical data and convert the predictions to a BoW representation for the 100 words in the vocabulary with the highest tf_idf scores"
      ],
      "metadata": {
        "id": "EhxYK5Y_2Cb9"
      }
    },
    {
      "cell_type": "code",
      "source": [
        "#preparing predictions csv\n",
        "df_preds = pd.read_csv(\"preds.csv\")\n",
        "\n",
        "\n",
        "# clean the data\n",
        "df_preds['Race Location'] = df_preds['Race Location'].str.replace(r'\\(.*?\\)', '', regex=True)\n",
        "\n",
        "df_preds = df_preds[df_preds['Date'] != 'Date']  #deleting rows with the column titles\n",
        "df_preds = df_preds.reset_index()\n",
        "df_preds = df_preds.drop(\"index\", axis = 1)  #dropping index columns\n",
        "df_preds = df_preds.replace('[\\'NaN\\']', np.nan)\n",
        "\n",
        "#just want horse-race id and the predictions\n",
        "df_preds['horse_race_id'] = df_preds['Date']+ \"_\" + df_preds['Time'] + \"_\" + df_preds[\"Race Location\"]+ \"_\" + df_preds[\"Horse Name\"] #create horse id\n",
        "df_preds = df_preds.drop([\"Date\", \"Time\", \"Race Location\", \"Going\", \"Horse Name\"], axis = 1) #drop all data now stored in horse id\n",
        "df_preds = df_preds.drop_duplicates()\n",
        "df_preds.Prediction = df_preds.Prediction.astype(str)\n",
        "df_preds.horse_race_id = df_preds.horse_race_id.astype(str)\n",
        "df_preds = df_preds.replace('-', np.nan)\n",
        "\n",
        "for i in df_preds.columns[df_preds.isnull().any(axis=0)]:     # replace nan with the mean of a column\n",
        "    df_preds[i].fillna(pd.to_numeric(df_preds[i]).mean(),inplace=True)\n",
        "\n",
        "\n",
        "cols_to_norm = ['Horse Age', 'Horse Top Speed', 'Horse RPRS Ranking', 'Horse ORS Ranking', 'Horse Weight', 'Jockey Last 14', 'Trainer Last 14']\n",
        "\n",
        "normalized_df_preds = df_preds[cols_to_norm].astype(float)  #standardize the data\n",
        "normalized_df_preds = (normalized_df_preds-normalized_df_preds.mean())/normalized_df_preds.std()\n",
        "\n",
        "df_preds[cols_to_norm] = normalized_df_preds\n",
        "\n",
        "df_preds['horse_race_id'] = df_preds['horse_race_id'].apply(lambda x: x.strip())\n",
        "\n"
      ],
      "metadata": {
        "id": "dzVYyKSp5DmL"
      },
      "execution_count": null,
      "outputs": []
    },
    {
      "cell_type": "code",
      "source": [
        "#prepare the results csv\n",
        "df_res = pd.read_csv(\"results.csv\")\n",
        "\n",
        "df_res['Race Location'] = df_res['Race Location'].str.replace(r'\\(.*?\\)', '', regex=True)\n",
        "\n",
        "\n",
        "#as above\n",
        "df_res = df_res[df_res['Date'] != 'Date']\n",
        "df_res = df_res.drop_duplicates()\n",
        "df_res = df_res.reset_index()\n",
        "df_res = df_res.drop(\"index\", axis = 1)\n",
        "df_res['horse_race_id'] = df_res['Date']+ \"_\" + df_res['Time'] + \"_\" + df_res[\"Race Location\"]+ \"_\" + df_res[\"Horse Name\"]\n",
        "df_res = df_res[[\"horse_race_id\", \"Position\"]]\n",
        "\n",
        "def get_type(x):  #sometimes position is text ie NR for the horse being a Non_Runne, want to penalise this so give a high score\n",
        "    try:\n",
        "        return float(x)\n",
        "    except:\n",
        "        return 100\n",
        "\n",
        "\n",
        "df_res['Position'] = df_res['Position'].apply(get_type) #apply the above function to Position values\n",
        "df_res.reset_index(inplace = True)\n",
        "df_res = df_res.drop([\"index\"], axis = 1)\n",
        "df_res.horse_race_id = df_res.horse_race_id.astype(str)\n",
        "df_res['horse_race_id'] = df_res['horse_race_id'].apply(lambda x: x.strip())"
      ],
      "metadata": {
        "id": "-98mgt1P5tcd"
      },
      "execution_count": null,
      "outputs": []
    },
    {
      "cell_type": "code",
      "source": [
        "#merge the two to get our data\n",
        "df = pd.merge(df_preds, df_res, on='horse_race_id')\n",
        "\n",
        "df['Race_Id'] = df['horse_race_id'].apply(lambda x: \"_\".join(x.split(\"_\")[:3]))\n",
        "df = df.drop_duplicates(subset='horse_race_id')\n",
        "df = df.reset_index()\n",
        "df = df.drop(\"index\", axis = 1)  #dropping index columns"
      ],
      "metadata": {
        "id": "y1hV_zvH6JMy"
      },
      "execution_count": null,
      "outputs": []
    },
    {
      "cell_type": "code",
      "source": [
        "#clean text data:\n",
        "\n",
        "df['Prediction'] = df['Prediction'].apply(lambda x: x.lower())  #make all lowercase\n",
        "df[\"Prediction\"] = df['Prediction'].str.replace('[^\\w\\s]','')   #remove punctuation"
      ],
      "metadata": {
        "id": "c_9yEhq6Fh_l",
        "colab": {
          "base_uri": "https://localhost:8080/"
        },
        "outputId": "7a905cb8-ddbe-4288-bfa6-69faf7291e1f"
      },
      "execution_count": null,
      "outputs": [
        {
          "output_type": "stream",
          "name": "stderr",
          "text": [
            "<ipython-input-8-584b2841ef84>:4: FutureWarning: The default value of regex will change from True to False in a future version.\n",
            "  df[\"Prediction\"] = df['Prediction'].str.replace('[^\\w\\s]','')   #remove punctuation\n"
          ]
        }
      ]
    },
    {
      "cell_type": "code",
      "source": [
        "df.to_csv(\"data.csv\")\n",
        "df.head()"
      ],
      "metadata": {
        "id": "Zcf8C4Oq6tSx",
        "colab": {
          "base_uri": "https://localhost:8080/",
          "height": 206
        },
        "outputId": "e393c13e-b4f9-408d-925e-67af1606a47e"
      },
      "execution_count": null,
      "outputs": [
        {
          "output_type": "execute_result",
          "data": {
            "text/plain": [
              "   Horse Age  Horse Top Speed  Horse RPRS Ranking  Horse ORS Ranking  \\\n",
              "0   0.976862         0.189400           -0.232839           0.131542   \n",
              "1   0.976862         0.337204           -0.014574           0.091271   \n",
              "2   0.976862         0.374155           -0.050951           0.050999   \n",
              "3   0.527672        -0.290962           -0.378349           0.010727   \n",
              "4   0.976862         0.411106           -0.160084          -0.069816   \n",
              "\n",
              "   Horse Weight                                         Prediction  \\\n",
              "0      1.512574  up a fairly harsh 6lb for cd success but shoul...   \n",
              "1      1.445191  up in the weights for his hattrick bid but loo...   \n",
              "2      1.377660  third on his switch to fences and gives the im...   \n",
              "3      1.310277  no more than minor promise in his three chases...   \n",
              "4      1.175215  decent debut over fences but was beaten a long...   \n",
              "\n",
              "   Jockey Last 14  Trainer Last 14  \\\n",
              "0       -0.263538        -0.175146   \n",
              "1       -0.263538        -0.175146   \n",
              "2       -0.263538        -0.175146   \n",
              "3       -0.263538        -0.175146   \n",
              "4       -0.263538        -0.175146   \n",
              "\n",
              "                                 horse_race_id  Position  \\\n",
              "0        28-03-2023_1:30_Huntingdon_Spotty Dog       8.0   \n",
              "1          28-03-2023_1:30_Huntingdon_Le Tueur       4.0   \n",
              "2    28-03-2023_1:30_Huntingdon_Holerday Ridge     100.0   \n",
              "3       28-03-2023_1:30_Huntingdon_Drop Him In       1.0   \n",
              "4  28-03-2023_1:30_Huntingdon_Methodtothemagic       6.0   \n",
              "\n",
              "                      Race_Id  \n",
              "0  28-03-2023_1:30_Huntingdon  \n",
              "1  28-03-2023_1:30_Huntingdon  \n",
              "2  28-03-2023_1:30_Huntingdon  \n",
              "3  28-03-2023_1:30_Huntingdon  \n",
              "4  28-03-2023_1:30_Huntingdon  "
            ],
            "text/html": [
              "\n",
              "  <div id=\"df-fc23c292-a5ac-4462-9852-4f91e2605d0d\">\n",
              "    <div class=\"colab-df-container\">\n",
              "      <div>\n",
              "<style scoped>\n",
              "    .dataframe tbody tr th:only-of-type {\n",
              "        vertical-align: middle;\n",
              "    }\n",
              "\n",
              "    .dataframe tbody tr th {\n",
              "        vertical-align: top;\n",
              "    }\n",
              "\n",
              "    .dataframe thead th {\n",
              "        text-align: right;\n",
              "    }\n",
              "</style>\n",
              "<table border=\"1\" class=\"dataframe\">\n",
              "  <thead>\n",
              "    <tr style=\"text-align: right;\">\n",
              "      <th></th>\n",
              "      <th>Horse Age</th>\n",
              "      <th>Horse Top Speed</th>\n",
              "      <th>Horse RPRS Ranking</th>\n",
              "      <th>Horse ORS Ranking</th>\n",
              "      <th>Horse Weight</th>\n",
              "      <th>Prediction</th>\n",
              "      <th>Jockey Last 14</th>\n",
              "      <th>Trainer Last 14</th>\n",
              "      <th>horse_race_id</th>\n",
              "      <th>Position</th>\n",
              "      <th>Race_Id</th>\n",
              "    </tr>\n",
              "  </thead>\n",
              "  <tbody>\n",
              "    <tr>\n",
              "      <th>0</th>\n",
              "      <td>0.976862</td>\n",
              "      <td>0.189400</td>\n",
              "      <td>-0.232839</td>\n",
              "      <td>0.131542</td>\n",
              "      <td>1.512574</td>\n",
              "      <td>up a fairly harsh 6lb for cd success but shoul...</td>\n",
              "      <td>-0.263538</td>\n",
              "      <td>-0.175146</td>\n",
              "      <td>28-03-2023_1:30_Huntingdon_Spotty Dog</td>\n",
              "      <td>8.0</td>\n",
              "      <td>28-03-2023_1:30_Huntingdon</td>\n",
              "    </tr>\n",
              "    <tr>\n",
              "      <th>1</th>\n",
              "      <td>0.976862</td>\n",
              "      <td>0.337204</td>\n",
              "      <td>-0.014574</td>\n",
              "      <td>0.091271</td>\n",
              "      <td>1.445191</td>\n",
              "      <td>up in the weights for his hattrick bid but loo...</td>\n",
              "      <td>-0.263538</td>\n",
              "      <td>-0.175146</td>\n",
              "      <td>28-03-2023_1:30_Huntingdon_Le Tueur</td>\n",
              "      <td>4.0</td>\n",
              "      <td>28-03-2023_1:30_Huntingdon</td>\n",
              "    </tr>\n",
              "    <tr>\n",
              "      <th>2</th>\n",
              "      <td>0.976862</td>\n",
              "      <td>0.374155</td>\n",
              "      <td>-0.050951</td>\n",
              "      <td>0.050999</td>\n",
              "      <td>1.377660</td>\n",
              "      <td>third on his switch to fences and gives the im...</td>\n",
              "      <td>-0.263538</td>\n",
              "      <td>-0.175146</td>\n",
              "      <td>28-03-2023_1:30_Huntingdon_Holerday Ridge</td>\n",
              "      <td>100.0</td>\n",
              "      <td>28-03-2023_1:30_Huntingdon</td>\n",
              "    </tr>\n",
              "    <tr>\n",
              "      <th>3</th>\n",
              "      <td>0.527672</td>\n",
              "      <td>-0.290962</td>\n",
              "      <td>-0.378349</td>\n",
              "      <td>0.010727</td>\n",
              "      <td>1.310277</td>\n",
              "      <td>no more than minor promise in his three chases...</td>\n",
              "      <td>-0.263538</td>\n",
              "      <td>-0.175146</td>\n",
              "      <td>28-03-2023_1:30_Huntingdon_Drop Him In</td>\n",
              "      <td>1.0</td>\n",
              "      <td>28-03-2023_1:30_Huntingdon</td>\n",
              "    </tr>\n",
              "    <tr>\n",
              "      <th>4</th>\n",
              "      <td>0.976862</td>\n",
              "      <td>0.411106</td>\n",
              "      <td>-0.160084</td>\n",
              "      <td>-0.069816</td>\n",
              "      <td>1.175215</td>\n",
              "      <td>decent debut over fences but was beaten a long...</td>\n",
              "      <td>-0.263538</td>\n",
              "      <td>-0.175146</td>\n",
              "      <td>28-03-2023_1:30_Huntingdon_Methodtothemagic</td>\n",
              "      <td>6.0</td>\n",
              "      <td>28-03-2023_1:30_Huntingdon</td>\n",
              "    </tr>\n",
              "  </tbody>\n",
              "</table>\n",
              "</div>\n",
              "      <button class=\"colab-df-convert\" onclick=\"convertToInteractive('df-fc23c292-a5ac-4462-9852-4f91e2605d0d')\"\n",
              "              title=\"Convert this dataframe to an interactive table.\"\n",
              "              style=\"display:none;\">\n",
              "        \n",
              "  <svg xmlns=\"http://www.w3.org/2000/svg\" height=\"24px\"viewBox=\"0 0 24 24\"\n",
              "       width=\"24px\">\n",
              "    <path d=\"M0 0h24v24H0V0z\" fill=\"none\"/>\n",
              "    <path d=\"M18.56 5.44l.94 2.06.94-2.06 2.06-.94-2.06-.94-.94-2.06-.94 2.06-2.06.94zm-11 1L8.5 8.5l.94-2.06 2.06-.94-2.06-.94L8.5 2.5l-.94 2.06-2.06.94zm10 10l.94 2.06.94-2.06 2.06-.94-2.06-.94-.94-2.06-.94 2.06-2.06.94z\"/><path d=\"M17.41 7.96l-1.37-1.37c-.4-.4-.92-.59-1.43-.59-.52 0-1.04.2-1.43.59L10.3 9.45l-7.72 7.72c-.78.78-.78 2.05 0 2.83L4 21.41c.39.39.9.59 1.41.59.51 0 1.02-.2 1.41-.59l7.78-7.78 2.81-2.81c.8-.78.8-2.07 0-2.86zM5.41 20L4 18.59l7.72-7.72 1.47 1.35L5.41 20z\"/>\n",
              "  </svg>\n",
              "      </button>\n",
              "      \n",
              "  <style>\n",
              "    .colab-df-container {\n",
              "      display:flex;\n",
              "      flex-wrap:wrap;\n",
              "      gap: 12px;\n",
              "    }\n",
              "\n",
              "    .colab-df-convert {\n",
              "      background-color: #E8F0FE;\n",
              "      border: none;\n",
              "      border-radius: 50%;\n",
              "      cursor: pointer;\n",
              "      display: none;\n",
              "      fill: #1967D2;\n",
              "      height: 32px;\n",
              "      padding: 0 0 0 0;\n",
              "      width: 32px;\n",
              "    }\n",
              "\n",
              "    .colab-df-convert:hover {\n",
              "      background-color: #E2EBFA;\n",
              "      box-shadow: 0px 1px 2px rgba(60, 64, 67, 0.3), 0px 1px 3px 1px rgba(60, 64, 67, 0.15);\n",
              "      fill: #174EA6;\n",
              "    }\n",
              "\n",
              "    [theme=dark] .colab-df-convert {\n",
              "      background-color: #3B4455;\n",
              "      fill: #D2E3FC;\n",
              "    }\n",
              "\n",
              "    [theme=dark] .colab-df-convert:hover {\n",
              "      background-color: #434B5C;\n",
              "      box-shadow: 0px 1px 3px 1px rgba(0, 0, 0, 0.15);\n",
              "      filter: drop-shadow(0px 1px 2px rgba(0, 0, 0, 0.3));\n",
              "      fill: #FFFFFF;\n",
              "    }\n",
              "  </style>\n",
              "\n",
              "      <script>\n",
              "        const buttonEl =\n",
              "          document.querySelector('#df-fc23c292-a5ac-4462-9852-4f91e2605d0d button.colab-df-convert');\n",
              "        buttonEl.style.display =\n",
              "          google.colab.kernel.accessAllowed ? 'block' : 'none';\n",
              "\n",
              "        async function convertToInteractive(key) {\n",
              "          const element = document.querySelector('#df-fc23c292-a5ac-4462-9852-4f91e2605d0d');\n",
              "          const dataTable =\n",
              "            await google.colab.kernel.invokeFunction('convertToInteractive',\n",
              "                                                     [key], {});\n",
              "          if (!dataTable) return;\n",
              "\n",
              "          const docLinkHtml = 'Like what you see? Visit the ' +\n",
              "            '<a target=\"_blank\" href=https://colab.research.google.com/notebooks/data_table.ipynb>data table notebook</a>'\n",
              "            + ' to learn more about interactive tables.';\n",
              "          element.innerHTML = '';\n",
              "          dataTable['output_type'] = 'display_data';\n",
              "          await google.colab.output.renderOutput(dataTable, element);\n",
              "          const docLink = document.createElement('div');\n",
              "          docLink.innerHTML = docLinkHtml;\n",
              "          element.appendChild(docLink);\n",
              "        }\n",
              "      </script>\n",
              "    </div>\n",
              "  </div>\n",
              "  "
            ]
          },
          "metadata": {},
          "execution_count": 9
        }
      ]
    },
    {
      "cell_type": "code",
      "source": [
        "#embed the predicitons with the tf_idf BoW representation\n",
        "\n",
        "def add_tf_idf(df, n):\n",
        "    tfidf_vectorizer = TfidfVectorizer()\n",
        "\n",
        "    # Fit and transform the \"Prediction\" column\n",
        "    tfidf_separate = tfidf_vectorizer.fit_transform(df[\"Prediction\"])\n",
        "\n",
        "    # Get the vocabulary and its corresponding indices\n",
        "    vocab = tfidf_vectorizer.vocabulary_\n",
        "    vocab_indices = tfidf_vectorizer.get_feature_names_out()\n",
        "\n",
        "    # Sum the tf-idf values for each word for each document (i.e., summing the columns of the tfidf_separate matrix above)\n",
        "    combined_tfidf = tfidf_separate.toarray().sum(axis=0)\n",
        "\n",
        "    # Sort the combined_tfidf values in descending order and take the first n indices\n",
        "    indices_n_highest = combined_tfidf.argsort()[::-1][:n]\n",
        "\n",
        "    # Get the words corresponding to the highest tf-idf values\n",
        "    words_n_highest = [vocab_indices[i] for i in indices_n_highest]\n",
        "\n",
        "    #perform BOW using the highest tfidf words as our set of words\n",
        "    bow_counter = CountVectorizer()\n",
        "    bow_counter.fit(words_n_highest)\n",
        "    bow_applied = bow_counter.transform(df['Prediction'])\n",
        "\n",
        "    #add these new values to the dataframe\n",
        "    df = pd.concat([df.reset_index(drop=True), pd.DataFrame(bow_applied.toarray()).reset_index(drop=True)], axis=1)\n",
        "    return(df)\n",
        "\n",
        "#add this new data, can go higher than 100\n",
        "df = add_tf_idf(df, 100)\n",
        "\n",
        "#drop the prediction sentences\n",
        "df = df.drop('Prediction', axis = 1)\n",
        "\n",
        "df.to_csv(\"tf_idf_data.csv\")"
      ],
      "metadata": {
        "id": "t1N25Bih6WGi"
      },
      "execution_count": null,
      "outputs": []
    },
    {
      "cell_type": "code",
      "source": [
        "df.head()"
      ],
      "metadata": {
        "id": "x6deLPFr7MUQ",
        "colab": {
          "base_uri": "https://localhost:8080/",
          "height": 236
        },
        "outputId": "136e7863-a7d7-46cd-9e85-0588db047bc9"
      },
      "execution_count": null,
      "outputs": [
        {
          "output_type": "execute_result",
          "data": {
            "text/plain": [
              "   Horse Age  Horse Top Speed  Horse RPRS Ranking  Horse ORS Ranking  \\\n",
              "0   0.976862         0.189400           -0.232839           0.131542   \n",
              "1   0.976862         0.337204           -0.014574           0.091271   \n",
              "2   0.976862         0.374155           -0.050951           0.050999   \n",
              "3   0.527672        -0.290962           -0.378349           0.010727   \n",
              "4   0.976862         0.411106           -0.160084          -0.069816   \n",
              "\n",
              "   Horse Weight  Jockey Last 14  Trainer Last 14  \\\n",
              "0      1.512574       -0.263538        -0.175146   \n",
              "1      1.445191       -0.263538        -0.175146   \n",
              "2      1.377660       -0.263538        -0.175146   \n",
              "3      1.310277       -0.263538        -0.175146   \n",
              "4      1.175215       -0.263538        -0.175146   \n",
              "\n",
              "                                 horse_race_id  Position  \\\n",
              "0        28-03-2023_1:30_Huntingdon_Spotty Dog       8.0   \n",
              "1          28-03-2023_1:30_Huntingdon_Le Tueur       4.0   \n",
              "2    28-03-2023_1:30_Huntingdon_Holerday Ridge     100.0   \n",
              "3       28-03-2023_1:30_Huntingdon_Drop Him In       1.0   \n",
              "4  28-03-2023_1:30_Huntingdon_Methodtothemagic       6.0   \n",
              "\n",
              "                      Race_Id  ...  90  91  92  93  94  95  96  97  98  99  \n",
              "0  28-03-2023_1:30_Huntingdon  ...   0   0   0   0   0   0   0   0   0   0  \n",
              "1  28-03-2023_1:30_Huntingdon  ...   0   0   0   0   0   0   0   0   0   0  \n",
              "2  28-03-2023_1:30_Huntingdon  ...   0   0   0   0   0   0   0   0   0   0  \n",
              "3  28-03-2023_1:30_Huntingdon  ...   0   0   0   0   0   0   0   0   0   0  \n",
              "4  28-03-2023_1:30_Huntingdon  ...   0   0   0   0   0   0   0   0   0   0  \n",
              "\n",
              "[5 rows x 110 columns]"
            ],
            "text/html": [
              "\n",
              "  <div id=\"df-7a7bdd9b-2473-48f7-abc5-04d8473e3f0c\">\n",
              "    <div class=\"colab-df-container\">\n",
              "      <div>\n",
              "<style scoped>\n",
              "    .dataframe tbody tr th:only-of-type {\n",
              "        vertical-align: middle;\n",
              "    }\n",
              "\n",
              "    .dataframe tbody tr th {\n",
              "        vertical-align: top;\n",
              "    }\n",
              "\n",
              "    .dataframe thead th {\n",
              "        text-align: right;\n",
              "    }\n",
              "</style>\n",
              "<table border=\"1\" class=\"dataframe\">\n",
              "  <thead>\n",
              "    <tr style=\"text-align: right;\">\n",
              "      <th></th>\n",
              "      <th>Horse Age</th>\n",
              "      <th>Horse Top Speed</th>\n",
              "      <th>Horse RPRS Ranking</th>\n",
              "      <th>Horse ORS Ranking</th>\n",
              "      <th>Horse Weight</th>\n",
              "      <th>Jockey Last 14</th>\n",
              "      <th>Trainer Last 14</th>\n",
              "      <th>horse_race_id</th>\n",
              "      <th>Position</th>\n",
              "      <th>Race_Id</th>\n",
              "      <th>...</th>\n",
              "      <th>90</th>\n",
              "      <th>91</th>\n",
              "      <th>92</th>\n",
              "      <th>93</th>\n",
              "      <th>94</th>\n",
              "      <th>95</th>\n",
              "      <th>96</th>\n",
              "      <th>97</th>\n",
              "      <th>98</th>\n",
              "      <th>99</th>\n",
              "    </tr>\n",
              "  </thead>\n",
              "  <tbody>\n",
              "    <tr>\n",
              "      <th>0</th>\n",
              "      <td>0.976862</td>\n",
              "      <td>0.189400</td>\n",
              "      <td>-0.232839</td>\n",
              "      <td>0.131542</td>\n",
              "      <td>1.512574</td>\n",
              "      <td>-0.263538</td>\n",
              "      <td>-0.175146</td>\n",
              "      <td>28-03-2023_1:30_Huntingdon_Spotty Dog</td>\n",
              "      <td>8.0</td>\n",
              "      <td>28-03-2023_1:30_Huntingdon</td>\n",
              "      <td>...</td>\n",
              "      <td>0</td>\n",
              "      <td>0</td>\n",
              "      <td>0</td>\n",
              "      <td>0</td>\n",
              "      <td>0</td>\n",
              "      <td>0</td>\n",
              "      <td>0</td>\n",
              "      <td>0</td>\n",
              "      <td>0</td>\n",
              "      <td>0</td>\n",
              "    </tr>\n",
              "    <tr>\n",
              "      <th>1</th>\n",
              "      <td>0.976862</td>\n",
              "      <td>0.337204</td>\n",
              "      <td>-0.014574</td>\n",
              "      <td>0.091271</td>\n",
              "      <td>1.445191</td>\n",
              "      <td>-0.263538</td>\n",
              "      <td>-0.175146</td>\n",
              "      <td>28-03-2023_1:30_Huntingdon_Le Tueur</td>\n",
              "      <td>4.0</td>\n",
              "      <td>28-03-2023_1:30_Huntingdon</td>\n",
              "      <td>...</td>\n",
              "      <td>0</td>\n",
              "      <td>0</td>\n",
              "      <td>0</td>\n",
              "      <td>0</td>\n",
              "      <td>0</td>\n",
              "      <td>0</td>\n",
              "      <td>0</td>\n",
              "      <td>0</td>\n",
              "      <td>0</td>\n",
              "      <td>0</td>\n",
              "    </tr>\n",
              "    <tr>\n",
              "      <th>2</th>\n",
              "      <td>0.976862</td>\n",
              "      <td>0.374155</td>\n",
              "      <td>-0.050951</td>\n",
              "      <td>0.050999</td>\n",
              "      <td>1.377660</td>\n",
              "      <td>-0.263538</td>\n",
              "      <td>-0.175146</td>\n",
              "      <td>28-03-2023_1:30_Huntingdon_Holerday Ridge</td>\n",
              "      <td>100.0</td>\n",
              "      <td>28-03-2023_1:30_Huntingdon</td>\n",
              "      <td>...</td>\n",
              "      <td>0</td>\n",
              "      <td>0</td>\n",
              "      <td>0</td>\n",
              "      <td>0</td>\n",
              "      <td>0</td>\n",
              "      <td>0</td>\n",
              "      <td>0</td>\n",
              "      <td>0</td>\n",
              "      <td>0</td>\n",
              "      <td>0</td>\n",
              "    </tr>\n",
              "    <tr>\n",
              "      <th>3</th>\n",
              "      <td>0.527672</td>\n",
              "      <td>-0.290962</td>\n",
              "      <td>-0.378349</td>\n",
              "      <td>0.010727</td>\n",
              "      <td>1.310277</td>\n",
              "      <td>-0.263538</td>\n",
              "      <td>-0.175146</td>\n",
              "      <td>28-03-2023_1:30_Huntingdon_Drop Him In</td>\n",
              "      <td>1.0</td>\n",
              "      <td>28-03-2023_1:30_Huntingdon</td>\n",
              "      <td>...</td>\n",
              "      <td>0</td>\n",
              "      <td>0</td>\n",
              "      <td>0</td>\n",
              "      <td>0</td>\n",
              "      <td>0</td>\n",
              "      <td>0</td>\n",
              "      <td>0</td>\n",
              "      <td>0</td>\n",
              "      <td>0</td>\n",
              "      <td>0</td>\n",
              "    </tr>\n",
              "    <tr>\n",
              "      <th>4</th>\n",
              "      <td>0.976862</td>\n",
              "      <td>0.411106</td>\n",
              "      <td>-0.160084</td>\n",
              "      <td>-0.069816</td>\n",
              "      <td>1.175215</td>\n",
              "      <td>-0.263538</td>\n",
              "      <td>-0.175146</td>\n",
              "      <td>28-03-2023_1:30_Huntingdon_Methodtothemagic</td>\n",
              "      <td>6.0</td>\n",
              "      <td>28-03-2023_1:30_Huntingdon</td>\n",
              "      <td>...</td>\n",
              "      <td>0</td>\n",
              "      <td>0</td>\n",
              "      <td>0</td>\n",
              "      <td>0</td>\n",
              "      <td>0</td>\n",
              "      <td>0</td>\n",
              "      <td>0</td>\n",
              "      <td>0</td>\n",
              "      <td>0</td>\n",
              "      <td>0</td>\n",
              "    </tr>\n",
              "  </tbody>\n",
              "</table>\n",
              "<p>5 rows × 110 columns</p>\n",
              "</div>\n",
              "      <button class=\"colab-df-convert\" onclick=\"convertToInteractive('df-7a7bdd9b-2473-48f7-abc5-04d8473e3f0c')\"\n",
              "              title=\"Convert this dataframe to an interactive table.\"\n",
              "              style=\"display:none;\">\n",
              "        \n",
              "  <svg xmlns=\"http://www.w3.org/2000/svg\" height=\"24px\"viewBox=\"0 0 24 24\"\n",
              "       width=\"24px\">\n",
              "    <path d=\"M0 0h24v24H0V0z\" fill=\"none\"/>\n",
              "    <path d=\"M18.56 5.44l.94 2.06.94-2.06 2.06-.94-2.06-.94-.94-2.06-.94 2.06-2.06.94zm-11 1L8.5 8.5l.94-2.06 2.06-.94-2.06-.94L8.5 2.5l-.94 2.06-2.06.94zm10 10l.94 2.06.94-2.06 2.06-.94-2.06-.94-.94-2.06-.94 2.06-2.06.94z\"/><path d=\"M17.41 7.96l-1.37-1.37c-.4-.4-.92-.59-1.43-.59-.52 0-1.04.2-1.43.59L10.3 9.45l-7.72 7.72c-.78.78-.78 2.05 0 2.83L4 21.41c.39.39.9.59 1.41.59.51 0 1.02-.2 1.41-.59l7.78-7.78 2.81-2.81c.8-.78.8-2.07 0-2.86zM5.41 20L4 18.59l7.72-7.72 1.47 1.35L5.41 20z\"/>\n",
              "  </svg>\n",
              "      </button>\n",
              "      \n",
              "  <style>\n",
              "    .colab-df-container {\n",
              "      display:flex;\n",
              "      flex-wrap:wrap;\n",
              "      gap: 12px;\n",
              "    }\n",
              "\n",
              "    .colab-df-convert {\n",
              "      background-color: #E8F0FE;\n",
              "      border: none;\n",
              "      border-radius: 50%;\n",
              "      cursor: pointer;\n",
              "      display: none;\n",
              "      fill: #1967D2;\n",
              "      height: 32px;\n",
              "      padding: 0 0 0 0;\n",
              "      width: 32px;\n",
              "    }\n",
              "\n",
              "    .colab-df-convert:hover {\n",
              "      background-color: #E2EBFA;\n",
              "      box-shadow: 0px 1px 2px rgba(60, 64, 67, 0.3), 0px 1px 3px 1px rgba(60, 64, 67, 0.15);\n",
              "      fill: #174EA6;\n",
              "    }\n",
              "\n",
              "    [theme=dark] .colab-df-convert {\n",
              "      background-color: #3B4455;\n",
              "      fill: #D2E3FC;\n",
              "    }\n",
              "\n",
              "    [theme=dark] .colab-df-convert:hover {\n",
              "      background-color: #434B5C;\n",
              "      box-shadow: 0px 1px 3px 1px rgba(0, 0, 0, 0.15);\n",
              "      filter: drop-shadow(0px 1px 2px rgba(0, 0, 0, 0.3));\n",
              "      fill: #FFFFFF;\n",
              "    }\n",
              "  </style>\n",
              "\n",
              "      <script>\n",
              "        const buttonEl =\n",
              "          document.querySelector('#df-7a7bdd9b-2473-48f7-abc5-04d8473e3f0c button.colab-df-convert');\n",
              "        buttonEl.style.display =\n",
              "          google.colab.kernel.accessAllowed ? 'block' : 'none';\n",
              "\n",
              "        async function convertToInteractive(key) {\n",
              "          const element = document.querySelector('#df-7a7bdd9b-2473-48f7-abc5-04d8473e3f0c');\n",
              "          const dataTable =\n",
              "            await google.colab.kernel.invokeFunction('convertToInteractive',\n",
              "                                                     [key], {});\n",
              "          if (!dataTable) return;\n",
              "\n",
              "          const docLinkHtml = 'Like what you see? Visit the ' +\n",
              "            '<a target=\"_blank\" href=https://colab.research.google.com/notebooks/data_table.ipynb>data table notebook</a>'\n",
              "            + ' to learn more about interactive tables.';\n",
              "          element.innerHTML = '';\n",
              "          dataTable['output_type'] = 'display_data';\n",
              "          await google.colab.output.renderOutput(dataTable, element);\n",
              "          const docLink = document.createElement('div');\n",
              "          docLink.innerHTML = docLinkHtml;\n",
              "          element.appendChild(docLink);\n",
              "        }\n",
              "      </script>\n",
              "    </div>\n",
              "  </div>\n",
              "  "
            ]
          },
          "metadata": {},
          "execution_count": 11
        }
      ]
    },
    {
      "cell_type": "markdown",
      "source": [
        "##Pointwise (Regression)\n",
        "A regression model taking in a horse's embeddings and trying to predict its position."
      ],
      "metadata": {
        "id": "z6MWsIz67SNP"
      }
    },
    {
      "cell_type": "code",
      "source": [
        "ptwise_df = pd.read_csv(\"tf_idf_data.csv\")\n",
        "#clean data\n",
        "ptwise_df = ptwise_df.drop(ptwise_df.columns[0], axis = 1)\n",
        "ptwise_df = ptwise_df.drop(['horse_race_id', 'Race_Id'], axis = 1)\n",
        "\n",
        "#create datasets for train test and val data\n",
        "class PointwiseDataset(Dataset):\n",
        "    def __init__(self, dataframe):\n",
        "        self.data = dataframe\n",
        "\n",
        "    def __len__(self):\n",
        "        return len(self.data)\n",
        "\n",
        "    def __getitem__(self, idx):\n",
        "        sample = self.data.iloc[idx]\n",
        "\n",
        "        # Extract the input features and target\n",
        "        features = torch.tensor(sample.drop('Position').values, dtype=torch.float32)\n",
        "        target = torch.tensor(sample['Position'], dtype=torch.float32)\n",
        "\n",
        "        return features, target\n",
        "\n",
        "# Split the dataframe into train, validation, and test sets\n",
        "pt_train_df, pt_test_df = train_test_split(ptwise_df, test_size=0.2, random_state=42)\n",
        "pt_train_df, pt_val_df = train_test_split(pt_train_df, test_size=0.2, random_state=42)\n",
        "\n",
        "# Create the train, validation, and test datasets\n",
        "pt_train_dataset = PointwiseDataset(pt_train_df)\n",
        "pt_val_dataset = PointwiseDataset(pt_val_df)\n",
        "pt_test_dataset = PointwiseDataset(pt_test_df)\n",
        "\n",
        "batch_size = 32\n",
        "pt_train_dataloader = DataLoader(pt_train_dataset, batch_size=batch_size, shuffle=True)\n",
        "pt_val_dataloader = DataLoader(pt_val_dataset, batch_size=batch_size)\n",
        "pt_test_dataloader = DataLoader(pt_test_dataset, batch_size=batch_size)"
      ],
      "metadata": {
        "id": "yf5GSQRp7Uyw"
      },
      "execution_count": null,
      "outputs": []
    },
    {
      "cell_type": "code",
      "source": [
        "#define our model\n",
        "\n",
        "class Pointwise(nn.Module):  # inheriting from nn.Module\n",
        "\n",
        "    def __init__(self, emb_size, hidden_layer_size, dropout):\n",
        "        \"\"\" - d is the size of the vectors representing the objects to classify\n",
        "            - hidden_layer_size is ... the size of the hidden layer\n",
        "        \"\"\"\n",
        "        super(Pointwise, self).__init__()\n",
        "        self.linear_1 = nn.Linear(emb_size, hidden_layer_size)\n",
        "        self.linear_2 = nn.Linear(hidden_layer_size, 1)\n",
        "        self.dropout = nn.Dropout(dropout)\n",
        "        self.relu = nn.ReLU()\n",
        "\n",
        "    def forward(self, X):\n",
        "        out = self.linear_1(X)  # out shape (batch_size, hidden_layer_size)\n",
        "        out = self.relu(out)  # same shape\n",
        "        out = self.dropout(out)\n",
        "        out = self.linear_2(out)  # out shape (batch_size, nb_classes)\n",
        "        return out  # no need to reshape the output\n",
        "\n",
        "emb_size = 107\n",
        "hidden_layer_size = 200\n",
        "dropout = 0.5\n",
        "\n",
        "pointwise = Pointwise(emb_size, hidden_layer_size, dropout)"
      ],
      "metadata": {
        "id": "JwnEJQveD3YF"
      },
      "execution_count": null,
      "outputs": []
    },
    {
      "cell_type": "code",
      "source": [
        "#training\n",
        "\n",
        "num_epochs = 25\n",
        "learning_rate = 0.001\n",
        "\n",
        "# Define the loss function and optimizer\n",
        "loss_function = nn.MSELoss()\n",
        "optimizer = optim.Adam(pointwise.parameters(), lr=learning_rate)\n",
        "\n",
        "\n",
        "pt_training_loss = []\n",
        "pt_validation_loss = []\n",
        "# Training loop\n",
        "for epoch in range(num_epochs):\n",
        "    pointwise.train()  # Set the model to training mode\n",
        "\n",
        "    running_loss = 0.0\n",
        "\n",
        "    # Training the model\n",
        "\n",
        "    with tqdm(pt_train_dataloader, unit=\"batch\") as tepoch:\n",
        "\n",
        "        for features, y_true in tepoch:\n",
        "\n",
        "            optimizer.zero_grad()\n",
        "\n",
        "            y_pred = pointwise(features)\n",
        "\n",
        "            loss = loss_function(y_pred, y_true.unsqueeze(1))\n",
        "\n",
        "            loss.backward()\n",
        "            optimizer.step()\n",
        "\n",
        "            running_loss += loss.item()\n",
        "\n",
        "    # Print the average loss for the epoch\n",
        "    average_loss = running_loss / len(pt_train_dataloader)\n",
        "    print(f\"Epoch {epoch + 1}/{num_epochs}, Loss: {average_loss}\")\n",
        "    pt_training_loss.append(average_loss)\n",
        "\n",
        "    # Validation loop\n",
        "    pointwise.eval()  # Set the model to evaluation mode\n",
        "    val_loss = 0.0\n",
        "    with torch.no_grad():\n",
        "        for features, y_true in pt_val_dataloader:\n",
        "            y_pred = pointwise(features)\n",
        "            loss = loss_function(y_pred, y_true.unsqueeze(1))\n",
        "            val_loss += loss.item()\n",
        "\n",
        "    # Print the validation loss for the epoch.\n",
        "    average_val_loss = val_loss / len(pt_val_dataloader)\n",
        "    print(f\"Validation Loss: {average_val_loss} \\n\")\n",
        "    pt_validation_loss.append(average_val_loss)\n",
        "\n",
        "# Testing loop\n",
        "pointwise.eval()  # Set the model to evaluation mode\n",
        "test_loss = 0.0\n",
        "with torch.no_grad():\n",
        "    for features, y_true in pt_test_dataloader:\n",
        "        y_pred = pointwise(features)\n",
        "        loss = loss_function(y_pred, y_true.unsqueeze(1))\n",
        "        test_loss += loss.item()\n",
        "\n",
        "# Print the average test loss\n",
        "average_test_loss = test_loss / len(pt_test_dataloader)\n",
        "print(f\"Average Test Loss: {average_test_loss}\")"
      ],
      "metadata": {
        "id": "Go6dDZ-_Eg98",
        "colab": {
          "base_uri": "https://localhost:8080/"
        },
        "outputId": "c4ab1ea6-b946-41e2-f913-97c5a7020418"
      },
      "execution_count": null,
      "outputs": [
        {
          "output_type": "stream",
          "name": "stderr",
          "text": [
            "100%|██████████| 52/52 [00:01<00:00, 41.79batch/s]\n"
          ]
        },
        {
          "output_type": "stream",
          "name": "stdout",
          "text": [
            "Epoch 1/25, Loss: 963.1060007535494\n",
            "Validation Loss: 883.8599662780762 \n",
            "\n"
          ]
        },
        {
          "output_type": "stream",
          "name": "stderr",
          "text": [
            "100%|██████████| 52/52 [00:01<00:00, 30.31batch/s]\n"
          ]
        },
        {
          "output_type": "stream",
          "name": "stdout",
          "text": [
            "Epoch 2/25, Loss: 856.342224928049\n",
            "Validation Loss: 764.7108659010667 \n",
            "\n"
          ]
        },
        {
          "output_type": "stream",
          "name": "stderr",
          "text": [
            "100%|██████████| 52/52 [00:01<00:00, 49.68batch/s]\n"
          ]
        },
        {
          "output_type": "stream",
          "name": "stdout",
          "text": [
            "Epoch 3/25, Loss: 758.3965078500601\n",
            "Validation Loss: 727.3921626164363 \n",
            "\n"
          ]
        },
        {
          "output_type": "stream",
          "name": "stderr",
          "text": [
            "100%|██████████| 52/52 [00:01<00:00, 49.86batch/s]\n"
          ]
        },
        {
          "output_type": "stream",
          "name": "stdout",
          "text": [
            "Epoch 4/25, Loss: 725.339062323937\n",
            "Validation Loss: 726.4950573260968 \n",
            "\n"
          ]
        },
        {
          "output_type": "stream",
          "name": "stderr",
          "text": [
            "100%|██████████| 52/52 [00:01<00:00, 49.76batch/s]\n"
          ]
        },
        {
          "output_type": "stream",
          "name": "stdout",
          "text": [
            "Epoch 5/25, Loss: 717.1730455251841\n",
            "Validation Loss: 726.8303656944862 \n",
            "\n"
          ]
        },
        {
          "output_type": "stream",
          "name": "stderr",
          "text": [
            "100%|██████████| 52/52 [00:01<00:00, 35.56batch/s]\n"
          ]
        },
        {
          "output_type": "stream",
          "name": "stdout",
          "text": [
            "Epoch 6/25, Loss: 718.4791509188138\n",
            "Validation Loss: 727.7785016573392 \n",
            "\n"
          ]
        },
        {
          "output_type": "stream",
          "name": "stderr",
          "text": [
            "100%|██████████| 52/52 [00:01<00:00, 34.27batch/s]\n"
          ]
        },
        {
          "output_type": "stream",
          "name": "stdout",
          "text": [
            "Epoch 7/25, Loss: 710.4994524442233\n",
            "Validation Loss: 727.5096042339618 \n",
            "\n"
          ]
        },
        {
          "output_type": "stream",
          "name": "stderr",
          "text": [
            "100%|██████████| 52/52 [00:01<00:00, 49.43batch/s]\n"
          ]
        },
        {
          "output_type": "stream",
          "name": "stdout",
          "text": [
            "Epoch 8/25, Loss: 707.1106769855206\n",
            "Validation Loss: 729.1845808762771 \n",
            "\n"
          ]
        },
        {
          "output_type": "stream",
          "name": "stderr",
          "text": [
            "100%|██████████| 52/52 [00:01<00:00, 50.15batch/s]\n"
          ]
        },
        {
          "output_type": "stream",
          "name": "stdout",
          "text": [
            "Epoch 9/25, Loss: 701.5916714301476\n",
            "Validation Loss: 729.5498991746169 \n",
            "\n"
          ]
        },
        {
          "output_type": "stream",
          "name": "stderr",
          "text": [
            "100%|██████████| 52/52 [00:01<00:00, 48.81batch/s]\n"
          ]
        },
        {
          "output_type": "stream",
          "name": "stdout",
          "text": [
            "Epoch 10/25, Loss: 688.8225766695463\n",
            "Validation Loss: 730.5236546443059 \n",
            "\n"
          ]
        },
        {
          "output_type": "stream",
          "name": "stderr",
          "text": [
            "100%|██████████| 52/52 [00:01<00:00, 46.61batch/s]\n"
          ]
        },
        {
          "output_type": "stream",
          "name": "stdout",
          "text": [
            "Epoch 11/25, Loss: 683.0648750892052\n",
            "Validation Loss: 732.6502574040339 \n",
            "\n"
          ]
        },
        {
          "output_type": "stream",
          "name": "stderr",
          "text": [
            "100%|██████████| 52/52 [00:01<00:00, 47.00batch/s]\n"
          ]
        },
        {
          "output_type": "stream",
          "name": "stdout",
          "text": [
            "Epoch 12/25, Loss: 678.7688466585599\n",
            "Validation Loss: 733.4807844895583 \n",
            "\n"
          ]
        },
        {
          "output_type": "stream",
          "name": "stderr",
          "text": [
            "100%|██████████| 52/52 [00:01<00:00, 46.61batch/s]\n"
          ]
        },
        {
          "output_type": "stream",
          "name": "stdout",
          "text": [
            "Epoch 13/25, Loss: 677.5329092465914\n",
            "Validation Loss: 735.7611518272987 \n",
            "\n"
          ]
        },
        {
          "output_type": "stream",
          "name": "stderr",
          "text": [
            "100%|██████████| 52/52 [00:01<00:00, 36.09batch/s]\n"
          ]
        },
        {
          "output_type": "stream",
          "name": "stdout",
          "text": [
            "Epoch 14/25, Loss: 661.2236216618464\n",
            "Validation Loss: 739.0886688232422 \n",
            "\n"
          ]
        },
        {
          "output_type": "stream",
          "name": "stderr",
          "text": [
            "100%|██████████| 52/52 [00:01<00:00, 34.00batch/s]\n"
          ]
        },
        {
          "output_type": "stream",
          "name": "stdout",
          "text": [
            "Epoch 15/25, Loss: 665.6548011486346\n",
            "Validation Loss: 741.6392446664663 \n",
            "\n"
          ]
        },
        {
          "output_type": "stream",
          "name": "stderr",
          "text": [
            "100%|██████████| 52/52 [00:01<00:00, 33.39batch/s]\n"
          ]
        },
        {
          "output_type": "stream",
          "name": "stdout",
          "text": [
            "Epoch 16/25, Loss: 661.013116983267\n",
            "Validation Loss: 743.913332425631 \n",
            "\n"
          ]
        },
        {
          "output_type": "stream",
          "name": "stderr",
          "text": [
            "100%|██████████| 52/52 [00:01<00:00, 43.20batch/s]\n"
          ]
        },
        {
          "output_type": "stream",
          "name": "stdout",
          "text": [
            "Epoch 17/25, Loss: 649.0835208892822\n",
            "Validation Loss: 745.5181673490084 \n",
            "\n"
          ]
        },
        {
          "output_type": "stream",
          "name": "stderr",
          "text": [
            "100%|██████████| 52/52 [00:01<00:00, 46.24batch/s]\n"
          ]
        },
        {
          "output_type": "stream",
          "name": "stdout",
          "text": [
            "Epoch 18/25, Loss: 649.6662401052622\n",
            "Validation Loss: 748.7051162719727 \n",
            "\n"
          ]
        },
        {
          "output_type": "stream",
          "name": "stderr",
          "text": [
            "100%|██████████| 52/52 [00:01<00:00, 46.93batch/s]\n"
          ]
        },
        {
          "output_type": "stream",
          "name": "stdout",
          "text": [
            "Epoch 19/25, Loss: 641.3348479270935\n",
            "Validation Loss: 752.1714935302734 \n",
            "\n"
          ]
        },
        {
          "output_type": "stream",
          "name": "stderr",
          "text": [
            "100%|██████████| 52/52 [00:01<00:00, 46.66batch/s]\n"
          ]
        },
        {
          "output_type": "stream",
          "name": "stdout",
          "text": [
            "Epoch 20/25, Loss: 638.5057103083684\n",
            "Validation Loss: 752.2887009840745 \n",
            "\n"
          ]
        },
        {
          "output_type": "stream",
          "name": "stderr",
          "text": [
            "100%|██████████| 52/52 [00:02<00:00, 25.43batch/s]\n"
          ]
        },
        {
          "output_type": "stream",
          "name": "stdout",
          "text": [
            "Epoch 21/25, Loss: 627.8016719818115\n",
            "Validation Loss: 756.187008197491 \n",
            "\n"
          ]
        },
        {
          "output_type": "stream",
          "name": "stderr",
          "text": [
            "100%|██████████| 52/52 [00:02<00:00, 19.18batch/s]\n"
          ]
        },
        {
          "output_type": "stream",
          "name": "stdout",
          "text": [
            "Epoch 22/25, Loss: 631.3246260422927\n",
            "Validation Loss: 758.5247051532452 \n",
            "\n"
          ]
        },
        {
          "output_type": "stream",
          "name": "stderr",
          "text": [
            "100%|██████████| 52/52 [00:03<00:00, 15.72batch/s]\n"
          ]
        },
        {
          "output_type": "stream",
          "name": "stdout",
          "text": [
            "Epoch 23/25, Loss: 630.6105822049655\n",
            "Validation Loss: 760.4306746262771 \n",
            "\n"
          ]
        },
        {
          "output_type": "stream",
          "name": "stderr",
          "text": [
            "100%|██████████| 52/52 [00:02<00:00, 19.29batch/s]\n"
          ]
        },
        {
          "output_type": "stream",
          "name": "stdout",
          "text": [
            "Epoch 24/25, Loss: 614.4730503375714\n",
            "Validation Loss: 764.0769506601187 \n",
            "\n"
          ]
        },
        {
          "output_type": "stream",
          "name": "stderr",
          "text": [
            "100%|██████████| 52/52 [00:02<00:00, 21.53batch/s]\n"
          ]
        },
        {
          "output_type": "stream",
          "name": "stdout",
          "text": [
            "Epoch 25/25, Loss: 609.2612216656024\n",
            "Validation Loss: 766.3338141808143 \n",
            "\n",
            "Average Test Loss: 838.2465367036707\n"
          ]
        }
      ]
    },
    {
      "cell_type": "code",
      "source": [
        "plt.plot(pt_training_loss, label='Training')\n",
        "plt.plot(pt_validation_loss, label='Validation')\n",
        "plt.title('Pointwise Regression Loss')\n",
        "plt.xlabel('Epoch')\n",
        "plt.ylabel('Loss')\n",
        "plt.legend()\n",
        "plt.grid(True, linestyle='--', alpha=0.5, color='gray')\n",
        "plt.show()"
      ],
      "metadata": {
        "id": "egVIAadzevkG",
        "colab": {
          "base_uri": "https://localhost:8080/",
          "height": 472
        },
        "outputId": "754b7e48-cdbc-4ce1-a2c3-1650593fdd22"
      },
      "execution_count": null,
      "outputs": [
        {
          "output_type": "display_data",
          "data": {
            "text/plain": [
              "<Figure size 640x480 with 1 Axes>"
            ],
            "image/png": "[encoded data removed]"
          },
          "metadata": {}
        }
      ]
    },
    {
      "cell_type": "markdown",
      "source": [
        "##Pairwise (Classification)\n",
        "For every race, we take every combination of pairs of horses and predict which of the two will win. Although this is binary classification and logistic regression could be used, given the above model is regression, we wanted to try classification. Note for every pair of horses, we subtract their embeddings to keep the number of parameters low (rather than concatenating the embeddings)."
      ],
      "metadata": {
        "id": "gwMDjkFeHxSh"
      }
    },
    {
      "cell_type": "markdown",
      "source": [
        "###Data Preparation for Binary\n"
      ],
      "metadata": {
        "id": "iybErZu0IS3a"
      }
    },
    {
      "cell_type": "code",
      "source": [
        "df = pd.read_csv(\"tf_idf_data.csv\")\n",
        "df = df.drop(df.columns[0], axis = 1)\n",
        "\n",
        "# Initialize a defaultdict to store the results\n",
        "results_dict = defaultdict(list)\n",
        "\n",
        "# Get unique race IDs\n",
        "race_ids = df['Race_Id'].unique()\n",
        "\n",
        "# Iterate over race IDs\n",
        "for race_id in race_ids:\n",
        "    # Get the rows for the current race ID\n",
        "    rows = df[df['Race_Id'] == race_id]\n",
        "\n",
        "    # Iterate over all combinations of horse IDs in the current race\n",
        "    for i, j in combinations(rows.index, 2):\n",
        "        # Store the common information\n",
        "        results_dict['Race_Id'].append(race_id)\n",
        "        results_dict['Position_x'].append(rows.loc[i, 'Position'])\n",
        "        results_dict['Position_y'].append(rows.loc[j, 'Position'])\n",
        "\n",
        "        # Calculate the differences between the values for each column\n",
        "        # Calculate the differences between the values for each column\n",
        "        for col_name in [col for col in rows.columns if col not in ['horse_race_id', 'Position', 'Race_Id']]:\n",
        "            col_diff = float(rows.loc[i, col_name]) - float(rows.loc[j, col_name])\n",
        "            results_dict[col_name].append(col_diff)\n",
        "\n",
        "# Create a DataFrame from the dictionary\n",
        "results_df = pd.DataFrame(results_dict)\n",
        "\n",
        "def positions(x):\n",
        "    if x['Position_x'] > x['Position_y']: #if horse 1 finishes later than horse 2\n",
        "        return 0\n",
        "    else:\n",
        "        return 1\n",
        "\n",
        "results_df['comparison'] = results_df[['Position_x', 'Position_y']].apply(positions, axis = 1)\n",
        "\n",
        "df = results_df.drop(['Race_Id', 'Position_x', 'Position_y'], axis = 1)"
      ],
      "metadata": {
        "id": "vR2QOm23IYA-"
      },
      "execution_count": null,
      "outputs": []
    },
    {
      "cell_type": "code",
      "source": [
        "df.head()"
      ],
      "metadata": {
        "id": "1YkY4Ot4IxUp",
        "colab": {
          "base_uri": "https://localhost:8080/",
          "height": 236
        },
        "outputId": "d65b9bab-e01b-4918-881d-ac86c8e0a333"
      },
      "execution_count": null,
      "outputs": [
        {
          "output_type": "execute_result",
          "data": {
            "text/plain": [
              "   Horse Age  Horse Top Speed  Horse RPRS Ranking  Horse ORS Ranking  \\\n",
              "0    0.00000        -0.147804           -0.218265           0.040272   \n",
              "1    0.00000        -0.184755           -0.181887           0.080543   \n",
              "2    0.44919         0.480362            0.145510           0.120815   \n",
              "3    0.00000        -0.221706           -0.072755           0.201359   \n",
              "4   -0.44919         0.189400           -0.232839           0.402717   \n",
              "\n",
              "   Horse Weight  Jockey Last 14  Trainer Last 14    0    1    2  ...   91  \\\n",
              "0      0.067383             0.0              0.0  0.0  0.0  0.0  ...  0.0   \n",
              "1      0.134914             0.0              0.0  0.0  0.0  0.0  ...  0.0   \n",
              "2      0.202296             0.0              0.0  0.0  0.0  0.0  ...  0.0   \n",
              "3      0.337359             0.0              0.0  0.0  0.0  0.0  ...  0.0   \n",
              "4      0.674718             0.0              0.0  0.0  0.0  0.0  ... -1.0   \n",
              "\n",
              "    92   93   94   95   96   97   98   99  comparison  \n",
              "0  0.0  0.0  0.0  0.0  0.0  0.0  0.0  0.0           0  \n",
              "1  0.0  0.0  0.0  0.0  0.0  0.0  0.0  0.0           1  \n",
              "2  0.0  0.0  0.0  0.0  0.0  0.0  0.0  0.0           0  \n",
              "3  0.0  0.0  0.0  0.0  0.0  0.0  0.0  0.0           0  \n",
              "4  0.0  0.0  0.0  0.0 -1.0  0.0  0.0  0.0           0  \n",
              "\n",
              "[5 rows x 108 columns]"
            ],
            "text/html": [
              "\n",
              "  <div id=\"df-1eea876e-d546-471b-8798-b4e0f4dc9173\">\n",
              "    <div class=\"colab-df-container\">\n",
              "      <div>\n",
              "<style scoped>\n",
              "    .dataframe tbody tr th:only-of-type {\n",
              "        vertical-align: middle;\n",
              "    }\n",
              "\n",
              "    .dataframe tbody tr th {\n",
              "        vertical-align: top;\n",
              "    }\n",
              "\n",
              "    .dataframe thead th {\n",
              "        text-align: right;\n",
              "    }\n",
              "</style>\n",
              "<table border=\"1\" class=\"dataframe\">\n",
              "  <thead>\n",
              "    <tr style=\"text-align: right;\">\n",
              "      <th></th>\n",
              "      <th>Horse Age</th>\n",
              "      <th>Horse Top Speed</th>\n",
              "      <th>Horse RPRS Ranking</th>\n",
              "      <th>Horse ORS Ranking</th>\n",
              "      <th>Horse Weight</th>\n",
              "      <th>Jockey Last 14</th>\n",
              "      <th>Trainer Last 14</th>\n",
              "      <th>0</th>\n",
              "      <th>1</th>\n",
              "      <th>2</th>\n",
              "      <th>...</th>\n",
              "      <th>91</th>\n",
              "      <th>92</th>\n",
              "      <th>93</th>\n",
              "      <th>94</th>\n",
              "      <th>95</th>\n",
              "      <th>96</th>\n",
              "      <th>97</th>\n",
              "      <th>98</th>\n",
              "      <th>99</th>\n",
              "      <th>comparison</th>\n",
              "    </tr>\n",
              "  </thead>\n",
              "  <tbody>\n",
              "    <tr>\n",
              "      <th>0</th>\n",
              "      <td>0.00000</td>\n",
              "      <td>-0.147804</td>\n",
              "      <td>-0.218265</td>\n",
              "      <td>0.040272</td>\n",
              "      <td>0.067383</td>\n",
              "      <td>0.0</td>\n",
              "      <td>0.0</td>\n",
              "      <td>0.0</td>\n",
              "      <td>0.0</td>\n",
              "      <td>0.0</td>\n",
              "      <td>...</td>\n",
              "      <td>0.0</td>\n",
              "      <td>0.0</td>\n",
              "      <td>0.0</td>\n",
              "      <td>0.0</td>\n",
              "      <td>0.0</td>\n",
              "      <td>0.0</td>\n",
              "      <td>0.0</td>\n",
              "      <td>0.0</td>\n",
              "      <td>0.0</td>\n",
              "      <td>0</td>\n",
              "    </tr>\n",
              "    <tr>\n",
              "      <th>1</th>\n",
              "      <td>0.00000</td>\n",
              "      <td>-0.184755</td>\n",
              "      <td>-0.181887</td>\n",
              "      <td>0.080543</td>\n",
              "      <td>0.134914</td>\n",
              "      <td>0.0</td>\n",
              "      <td>0.0</td>\n",
              "      <td>0.0</td>\n",
              "      <td>0.0</td>\n",
              "      <td>0.0</td>\n",
              "      <td>...</td>\n",
              "      <td>0.0</td>\n",
              "      <td>0.0</td>\n",
              "      <td>0.0</td>\n",
              "      <td>0.0</td>\n",
              "      <td>0.0</td>\n",
              "      <td>0.0</td>\n",
              "      <td>0.0</td>\n",
              "      <td>0.0</td>\n",
              "      <td>0.0</td>\n",
              "      <td>1</td>\n",
              "    </tr>\n",
              "    <tr>\n",
              "      <th>2</th>\n",
              "      <td>0.44919</td>\n",
              "      <td>0.480362</td>\n",
              "      <td>0.145510</td>\n",
              "      <td>0.120815</td>\n",
              "      <td>0.202296</td>\n",
              "      <td>0.0</td>\n",
              "      <td>0.0</td>\n",
              "      <td>0.0</td>\n",
              "      <td>0.0</td>\n",
              "      <td>0.0</td>\n",
              "      <td>...</td>\n",
              "      <td>0.0</td>\n",
              "      <td>0.0</td>\n",
              "      <td>0.0</td>\n",
              "      <td>0.0</td>\n",
              "      <td>0.0</td>\n",
              "      <td>0.0</td>\n",
              "      <td>0.0</td>\n",
              "      <td>0.0</td>\n",
              "      <td>0.0</td>\n",
              "      <td>0</td>\n",
              "    </tr>\n",
              "    <tr>\n",
              "      <th>3</th>\n",
              "      <td>0.00000</td>\n",
              "      <td>-0.221706</td>\n",
              "      <td>-0.072755</td>\n",
              "      <td>0.201359</td>\n",
              "      <td>0.337359</td>\n",
              "      <td>0.0</td>\n",
              "      <td>0.0</td>\n",
              "      <td>0.0</td>\n",
              "      <td>0.0</td>\n",
              "      <td>0.0</td>\n",
              "      <td>...</td>\n",
              "      <td>0.0</td>\n",
              "      <td>0.0</td>\n",
              "      <td>0.0</td>\n",
              "      <td>0.0</td>\n",
              "      <td>0.0</td>\n",
              "      <td>0.0</td>\n",
              "      <td>0.0</td>\n",
              "      <td>0.0</td>\n",
              "      <td>0.0</td>\n",
              "      <td>0</td>\n",
              "    </tr>\n",
              "    <tr>\n",
              "      <th>4</th>\n",
              "      <td>-0.44919</td>\n",
              "      <td>0.189400</td>\n",
              "      <td>-0.232839</td>\n",
              "      <td>0.402717</td>\n",
              "      <td>0.674718</td>\n",
              "      <td>0.0</td>\n",
              "      <td>0.0</td>\n",
              "      <td>0.0</td>\n",
              "      <td>0.0</td>\n",
              "      <td>0.0</td>\n",
              "      <td>...</td>\n",
              "      <td>-1.0</td>\n",
              "      <td>0.0</td>\n",
              "      <td>0.0</td>\n",
              "      <td>0.0</td>\n",
              "      <td>0.0</td>\n",
              "      <td>-1.0</td>\n",
              "      <td>0.0</td>\n",
              "      <td>0.0</td>\n",
              "      <td>0.0</td>\n",
              "      <td>0</td>\n",
              "    </tr>\n",
              "  </tbody>\n",
              "</table>\n",
              "<p>5 rows × 108 columns</p>\n",
              "</div>\n",
              "      <button class=\"colab-df-convert\" onclick=\"convertToInteractive('df-1eea876e-d546-471b-8798-b4e0f4dc9173')\"\n",
              "              title=\"Convert this dataframe to an interactive table.\"\n",
              "              style=\"display:none;\">\n",
              "        \n",
              "  <svg xmlns=\"http://www.w3.org/2000/svg\" height=\"24px\"viewBox=\"0 0 24 24\"\n",
              "       width=\"24px\">\n",
              "    <path d=\"M0 0h24v24H0V0z\" fill=\"none\"/>\n",
              "    <path d=\"M18.56 5.44l.94 2.06.94-2.06 2.06-.94-2.06-.94-.94-2.06-.94 2.06-2.06.94zm-11 1L8.5 8.5l.94-2.06 2.06-.94-2.06-.94L8.5 2.5l-.94 2.06-2.06.94zm10 10l.94 2.06.94-2.06 2.06-.94-2.06-.94-.94-2.06-.94 2.06-2.06.94z\"/><path d=\"M17.41 7.96l-1.37-1.37c-.4-.4-.92-.59-1.43-.59-.52 0-1.04.2-1.43.59L10.3 9.45l-7.72 7.72c-.78.78-.78 2.05 0 2.83L4 21.41c.39.39.9.59 1.41.59.51 0 1.02-.2 1.41-.59l7.78-7.78 2.81-2.81c.8-.78.8-2.07 0-2.86zM5.41 20L4 18.59l7.72-7.72 1.47 1.35L5.41 20z\"/>\n",
              "  </svg>\n",
              "      </button>\n",
              "      \n",
              "  <style>\n",
              "    .colab-df-container {\n",
              "      display:flex;\n",
              "      flex-wrap:wrap;\n",
              "      gap: 12px;\n",
              "    }\n",
              "\n",
              "    .colab-df-convert {\n",
              "      background-color: #E8F0FE;\n",
              "      border: none;\n",
              "      border-radius: 50%;\n",
              "      cursor: pointer;\n",
              "      display: none;\n",
              "      fill: #1967D2;\n",
              "      height: 32px;\n",
              "      padding: 0 0 0 0;\n",
              "      width: 32px;\n",
              "    }\n",
              "\n",
              "    .colab-df-convert:hover {\n",
              "      background-color: #E2EBFA;\n",
              "      box-shadow: 0px 1px 2px rgba(60, 64, 67, 0.3), 0px 1px 3px 1px rgba(60, 64, 67, 0.15);\n",
              "      fill: #174EA6;\n",
              "    }\n",
              "\n",
              "    [theme=dark] .colab-df-convert {\n",
              "      background-color: #3B4455;\n",
              "      fill: #D2E3FC;\n",
              "    }\n",
              "\n",
              "    [theme=dark] .colab-df-convert:hover {\n",
              "      background-color: #434B5C;\n",
              "      box-shadow: 0px 1px 3px 1px rgba(0, 0, 0, 0.15);\n",
              "      filter: drop-shadow(0px 1px 2px rgba(0, 0, 0, 0.3));\n",
              "      fill: #FFFFFF;\n",
              "    }\n",
              "  </style>\n",
              "\n",
              "      <script>\n",
              "        const buttonEl =\n",
              "          document.querySelector('#df-1eea876e-d546-471b-8798-b4e0f4dc9173 button.colab-df-convert');\n",
              "        buttonEl.style.display =\n",
              "          google.colab.kernel.accessAllowed ? 'block' : 'none';\n",
              "\n",
              "        async function convertToInteractive(key) {\n",
              "          const element = document.querySelector('#df-1eea876e-d546-471b-8798-b4e0f4dc9173');\n",
              "          const dataTable =\n",
              "            await google.colab.kernel.invokeFunction('convertToInteractive',\n",
              "                                                     [key], {});\n",
              "          if (!dataTable) return;\n",
              "\n",
              "          const docLinkHtml = 'Like what you see? Visit the ' +\n",
              "            '<a target=\"_blank\" href=https://colab.research.google.com/notebooks/data_table.ipynb>data table notebook</a>'\n",
              "            + ' to learn more about interactive tables.';\n",
              "          element.innerHTML = '';\n",
              "          dataTable['output_type'] = 'display_data';\n",
              "          await google.colab.output.renderOutput(dataTable, element);\n",
              "          const docLink = document.createElement('div');\n",
              "          docLink.innerHTML = docLinkHtml;\n",
              "          element.appendChild(docLink);\n",
              "        }\n",
              "      </script>\n",
              "    </div>\n",
              "  </div>\n",
              "  "
            ]
          },
          "metadata": {},
          "execution_count": 25
        }
      ]
    },
    {
      "cell_type": "markdown",
      "source": [
        "###Pairwise Model\n"
      ],
      "metadata": {
        "id": "g3XV9EIqKefn"
      }
    },
    {
      "cell_type": "code",
      "source": [
        "class Pairwise_Dataset(Dataset):\n",
        "    def __init__(self, dataframe):\n",
        "        self.data = dataframe\n",
        "\n",
        "    def __len__(self):\n",
        "        return len(self.data)\n",
        "\n",
        "    def __getitem__(self, idx):\n",
        "        sample = self.data.iloc[idx]\n",
        "\n",
        "        # Extract the input features and target\n",
        "        features = torch.tensor(sample.drop('comparison').values, dtype=torch.float32)\n",
        "        target = torch.tensor(sample['comparison'], dtype=torch.float32)\n",
        "\n",
        "        return features, target.type(torch.LongTensor)\n",
        "\n",
        "# Split the dataframe into train, validation, and test sets\n",
        "pr_train_df, pr_test_df = train_test_split(df, test_size=0.2, random_state=42)\n",
        "pr_train_df, pr_val_df = train_test_split(pr_train_df, test_size=0.2, random_state=42)\n",
        "\n",
        "# Create the train, validation, and test datasets\n",
        "pr_train_dataset = Pairwise_Dataset(pr_train_df)\n",
        "pr_val_dataset = Pairwise_Dataset(pr_val_df)\n",
        "pr_test_dataset = Pairwise_Dataset(pr_test_df)\n",
        "\n",
        "batch_size = 32\n",
        "pr_train_dataloader = DataLoader(pr_train_dataset, batch_size=batch_size, shuffle=True)\n",
        "pr_val_dataloader = DataLoader(pr_val_dataset, batch_size=batch_size)\n",
        "pr_test_dataloader = DataLoader(pr_test_dataset, batch_size=batch_size)"
      ],
      "metadata": {
        "id": "h_AKx5KqJGEW"
      },
      "execution_count": null,
      "outputs": []
    },
    {
      "cell_type": "code",
      "source": [
        "class Pairwise(nn.Module):\n",
        "    def __init__(self, embs_size, hidden_layer_size, dropout_prob):\n",
        "        super(Pairwise, self).__init__()\n",
        "        self.embs_size = embs_size\n",
        "        self.linear1 = nn.Linear(embs_size, hidden_layer_size)\n",
        "        self.linear2 = nn.Linear(hidden_layer_size, 2)\n",
        "        self.dropout = nn.Dropout(dropout_prob)\n",
        "\n",
        "    def forward(self, X):\n",
        "        out = self.linear1(X)\n",
        "        out = nn.ReLU()(out)\n",
        "        out = self.dropout(out)\n",
        "        out = self.linear2(out)\n",
        "        out = self.dropout(out)\n",
        "        return F.log_softmax(out, dim=1)\n",
        "\n",
        "embs_size = 107\n",
        "hidden_layer_size = 200\n",
        "dropout_prob = 0.5\n",
        "\n",
        "pairwise = Pairwise(embs_size, hidden_layer_size, dropout_prob)"
      ],
      "metadata": {
        "id": "bP296ddrJelY"
      },
      "execution_count": null,
      "outputs": []
    },
    {
      "cell_type": "code",
      "source": [
        "#training\n",
        "\n",
        "num_epochs = 25\n",
        "learning_rate = 0.001\n",
        "\n",
        "# Define the loss function and optimizer\n",
        "loss_function = nn.NLLLoss()\n",
        "optimizer = optim.Adam(pairwise.parameters(), lr=learning_rate)\n",
        "\n",
        "pr_training_loss = []\n",
        "pr_training_accuracy = []\n",
        "pr_validation_loss = []\n",
        "pr_validation_accuracy = []\n",
        "\n",
        "# Training loop\n",
        "for epoch in range(num_epochs):\n",
        "    pairwise.train()  # Set the model to training mode\n",
        "\n",
        "    running_loss = 0.0\n",
        "    correct = 0\n",
        "    total = 0\n",
        "\n",
        "    with tqdm(pr_train_dataloader, unit=\"batch\") as tepoch:\n",
        "            # Training the model\n",
        "            for features, y_true in tepoch:\n",
        "\n",
        "                optimizer.zero_grad()\n",
        "\n",
        "                y_pred = pairwise(features)\n",
        "\n",
        "                loss = loss_function(y_pred, y_true)\n",
        "\n",
        "                loss.backward()\n",
        "                optimizer.step()\n",
        "\n",
        "                running_loss += loss.item()\n",
        "\n",
        "                total += y_true.size(0)\n",
        "                y_label = torch.argmax(y_pred, axis =1)\n",
        "                correct += torch.sum(y_label == y_true).item()\n",
        "\n",
        "    # Print the average loss for the epoch\n",
        "    average_loss = running_loss / len(pr_train_dataloader)\n",
        "    print(f\"Epoch {epoch + 1}/{num_epochs}, Loss: {average_loss}\")\n",
        "    pr_training_loss.append(average_loss)\n",
        "\n",
        "    tr_epoch_av = (100 * correct / total)\n",
        "    print('Accuracy of epoch: %d %%' % tr_epoch_av)\n",
        "    pr_training_accuracy.append(tr_epoch_av)\n",
        "\n",
        "    # Validation loop\n",
        "    pairwise.eval()  # Set the model to evaluation mode\n",
        "    val_loss = 0.0\n",
        "    val_correct = 0\n",
        "    val_total = 0\n",
        "    with torch.no_grad():\n",
        "        for features, y_true in pr_val_dataloader:\n",
        "            y_pred = pairwise(features)\n",
        "            loss = loss_function(y_pred, y_true)\n",
        "            val_loss += loss.item()\n",
        "\n",
        "            val_total += y_true.size(0)\n",
        "            y_label = torch.argmax(y_pred, axis =1)\n",
        "            val_correct += torch.sum(y_label == y_true).item()\n",
        "\n",
        "    # Print the validation loss for the epoch.\n",
        "    average_val_loss = val_loss / len(pr_val_dataloader)\n",
        "    print(f\"Validation Loss: {average_val_loss}\")\n",
        "    pr_validation_loss.append(average_val_loss)\n",
        "\n",
        "    val_epoch_av = (100 * val_correct / val_total)\n",
        "    print('Validation accuracy of epoch: %d %% \\n' % val_epoch_av)\n",
        "    pr_validation_accuracy.append(val_epoch_av)\n",
        "\n",
        "\n",
        "# Testing loop\n",
        "pairwise.eval()  # Set the model to evaluation mode\n",
        "test_loss = 0.0\n",
        "test_correct = 0\n",
        "test_total = 0\n",
        "with torch.no_grad():\n",
        "    for features, y_true in pr_test_dataloader:\n",
        "        y_pred = pairwise(features)\n",
        "        loss = loss_function(y_pred, y_true)\n",
        "        test_loss += loss.item()\n",
        "\n",
        "        test_total += y_true.size(0)\n",
        "        y_label = torch.argmax(y_pred, axis =1)\n",
        "        test_correct += torch.sum(y_label == y_true).item()\n",
        "\n",
        "# Print the average test loss\n",
        "average_test_loss = test_loss / len(pr_test_dataloader)\n",
        "print(f\"Average Test Loss: {average_test_loss}\")\n",
        "print('Accuracy of epoch: %d %%' % (100 * test_correct / test_total))"
      ],
      "metadata": {
        "id": "1uojBFdvJwBF",
        "colab": {
          "base_uri": "https://localhost:8080/"
        },
        "outputId": "a0a53f36-9dd8-4615-8632-a52491f9d14b"
      },
      "execution_count": null,
      "outputs": [
        {
          "output_type": "stream",
          "name": "stderr",
          "text": [
            "100%|██████████| 258/258 [00:08<00:00, 29.73batch/s]\n"
          ]
        },
        {
          "output_type": "stream",
          "name": "stdout",
          "text": [
            "Epoch 1/25, Loss: 0.6781833442144616\n",
            "Accuracy of epoch: 54 %\n",
            "Validation Loss: 0.6600396037101746\n",
            "Validation accuracy of epoch: 59 % \n",
            "\n"
          ]
        },
        {
          "output_type": "stream",
          "name": "stderr",
          "text": [
            "100%|██████████| 258/258 [00:05<00:00, 48.59batch/s]\n"
          ]
        },
        {
          "output_type": "stream",
          "name": "stdout",
          "text": [
            "Epoch 2/25, Loss: 0.6608091696750286\n",
            "Accuracy of epoch: 57 %\n",
            "Validation Loss: 0.6558127018121572\n",
            "Validation accuracy of epoch: 59 % \n",
            "\n"
          ]
        },
        {
          "output_type": "stream",
          "name": "stderr",
          "text": [
            "100%|██████████| 258/258 [00:06<00:00, 40.45batch/s]\n"
          ]
        },
        {
          "output_type": "stream",
          "name": "stdout",
          "text": [
            "Epoch 3/25, Loss: 0.6505945685297944\n",
            "Accuracy of epoch: 59 %\n",
            "Validation Loss: 0.6500266414422256\n",
            "Validation accuracy of epoch: 61 % \n",
            "\n"
          ]
        },
        {
          "output_type": "stream",
          "name": "stderr",
          "text": [
            "100%|██████████| 258/258 [00:05<00:00, 48.34batch/s]\n"
          ]
        },
        {
          "output_type": "stream",
          "name": "stdout",
          "text": [
            "Epoch 4/25, Loss: 0.6430600567381511\n",
            "Accuracy of epoch: 60 %\n",
            "Validation Loss: 0.6478772108371441\n",
            "Validation accuracy of epoch: 61 % \n",
            "\n"
          ]
        },
        {
          "output_type": "stream",
          "name": "stderr",
          "text": [
            "100%|██████████| 258/258 [00:06<00:00, 40.82batch/s]\n"
          ]
        },
        {
          "output_type": "stream",
          "name": "stdout",
          "text": [
            "Epoch 5/25, Loss: 0.6342498064041138\n",
            "Accuracy of epoch: 60 %\n",
            "Validation Loss: 0.6471921471449045\n",
            "Validation accuracy of epoch: 61 % \n",
            "\n"
          ]
        },
        {
          "output_type": "stream",
          "name": "stderr",
          "text": [
            "100%|██████████| 258/258 [00:05<00:00, 49.10batch/s]\n"
          ]
        },
        {
          "output_type": "stream",
          "name": "stdout",
          "text": [
            "Epoch 6/25, Loss: 0.6279427808846614\n",
            "Accuracy of epoch: 61 %\n",
            "Validation Loss: 0.6440752011079055\n",
            "Validation accuracy of epoch: 62 % \n",
            "\n"
          ]
        },
        {
          "output_type": "stream",
          "name": "stderr",
          "text": [
            "100%|██████████| 258/258 [00:06<00:00, 40.26batch/s]\n"
          ]
        },
        {
          "output_type": "stream",
          "name": "stdout",
          "text": [
            "Epoch 7/25, Loss: 0.6233847838963649\n",
            "Accuracy of epoch: 62 %\n",
            "Validation Loss: 0.6438915353554946\n",
            "Validation accuracy of epoch: 62 % \n",
            "\n"
          ]
        },
        {
          "output_type": "stream",
          "name": "stderr",
          "text": [
            "100%|██████████| 258/258 [00:05<00:00, 48.09batch/s]\n"
          ]
        },
        {
          "output_type": "stream",
          "name": "stdout",
          "text": [
            "Epoch 8/25, Loss: 0.614395643620528\n",
            "Accuracy of epoch: 63 %\n",
            "Validation Loss: 0.6417782792678246\n",
            "Validation accuracy of epoch: 62 % \n",
            "\n"
          ]
        },
        {
          "output_type": "stream",
          "name": "stderr",
          "text": [
            "100%|██████████| 258/258 [00:06<00:00, 42.86batch/s]\n"
          ]
        },
        {
          "output_type": "stream",
          "name": "stdout",
          "text": [
            "Epoch 9/25, Loss: 0.6077761420214823\n",
            "Accuracy of epoch: 62 %\n",
            "Validation Loss: 0.6447782479799711\n",
            "Validation accuracy of epoch: 61 % \n",
            "\n"
          ]
        },
        {
          "output_type": "stream",
          "name": "stderr",
          "text": [
            "100%|██████████| 258/258 [00:05<00:00, 49.56batch/s]\n"
          ]
        },
        {
          "output_type": "stream",
          "name": "stdout",
          "text": [
            "Epoch 10/25, Loss: 0.6013420077488404\n",
            "Accuracy of epoch: 64 %\n",
            "Validation Loss: 0.6383572129102854\n",
            "Validation accuracy of epoch: 63 % \n",
            "\n"
          ]
        },
        {
          "output_type": "stream",
          "name": "stderr",
          "text": [
            "100%|██████████| 258/258 [00:05<00:00, 43.03batch/s]\n"
          ]
        },
        {
          "output_type": "stream",
          "name": "stdout",
          "text": [
            "Epoch 11/25, Loss: 0.5973607070686281\n",
            "Accuracy of epoch: 64 %\n",
            "Validation Loss: 0.6449294168215531\n",
            "Validation accuracy of epoch: 62 % \n",
            "\n"
          ]
        },
        {
          "output_type": "stream",
          "name": "stderr",
          "text": [
            "100%|██████████| 258/258 [00:05<00:00, 48.04batch/s]\n"
          ]
        },
        {
          "output_type": "stream",
          "name": "stdout",
          "text": [
            "Epoch 12/25, Loss: 0.5886265116837598\n",
            "Accuracy of epoch: 65 %\n",
            "Validation Loss: 0.6360420804757339\n",
            "Validation accuracy of epoch: 63 % \n",
            "\n"
          ]
        },
        {
          "output_type": "stream",
          "name": "stderr",
          "text": [
            "100%|██████████| 258/258 [00:05<00:00, 44.72batch/s]\n"
          ]
        },
        {
          "output_type": "stream",
          "name": "stdout",
          "text": [
            "Epoch 13/25, Loss: 0.580205878199533\n",
            "Accuracy of epoch: 66 %\n",
            "Validation Loss: 0.6393993643613962\n",
            "Validation accuracy of epoch: 62 % \n",
            "\n"
          ]
        },
        {
          "output_type": "stream",
          "name": "stderr",
          "text": [
            "100%|██████████| 258/258 [00:05<00:00, 46.47batch/s]\n"
          ]
        },
        {
          "output_type": "stream",
          "name": "stdout",
          "text": [
            "Epoch 14/25, Loss: 0.5719888852548229\n",
            "Accuracy of epoch: 66 %\n",
            "Validation Loss: 0.6400671436236455\n",
            "Validation accuracy of epoch: 62 % \n",
            "\n"
          ]
        },
        {
          "output_type": "stream",
          "name": "stderr",
          "text": [
            "100%|██████████| 258/258 [00:05<00:00, 46.21batch/s]\n"
          ]
        },
        {
          "output_type": "stream",
          "name": "stdout",
          "text": [
            "Epoch 15/25, Loss: 0.5691105495820674\n",
            "Accuracy of epoch: 67 %\n",
            "Validation Loss: 0.6366264829268822\n",
            "Validation accuracy of epoch: 63 % \n",
            "\n"
          ]
        },
        {
          "output_type": "stream",
          "name": "stderr",
          "text": [
            "100%|██████████| 258/258 [00:05<00:00, 45.13batch/s]\n"
          ]
        },
        {
          "output_type": "stream",
          "name": "stdout",
          "text": [
            "Epoch 16/25, Loss: 0.5602743019198262\n",
            "Accuracy of epoch: 68 %\n",
            "Validation Loss: 0.6428496938485365\n",
            "Validation accuracy of epoch: 62 % \n",
            "\n"
          ]
        },
        {
          "output_type": "stream",
          "name": "stderr",
          "text": [
            "100%|██████████| 258/258 [00:05<00:00, 47.78batch/s]\n"
          ]
        },
        {
          "output_type": "stream",
          "name": "stdout",
          "text": [
            "Epoch 17/25, Loss: 0.5599040752926538\n",
            "Accuracy of epoch: 68 %\n",
            "Validation Loss: 0.6397169755055354\n",
            "Validation accuracy of epoch: 64 % \n",
            "\n"
          ]
        },
        {
          "output_type": "stream",
          "name": "stderr",
          "text": [
            "100%|██████████| 258/258 [00:05<00:00, 43.71batch/s]\n"
          ]
        },
        {
          "output_type": "stream",
          "name": "stdout",
          "text": [
            "Epoch 18/25, Loss: 0.5524891052366228\n",
            "Accuracy of epoch: 69 %\n",
            "Validation Loss: 0.640842395562392\n",
            "Validation accuracy of epoch: 63 % \n",
            "\n"
          ]
        },
        {
          "output_type": "stream",
          "name": "stderr",
          "text": [
            "100%|██████████| 258/258 [00:05<00:00, 48.16batch/s]\n"
          ]
        },
        {
          "output_type": "stream",
          "name": "stdout",
          "text": [
            "Epoch 19/25, Loss: 0.544529731999072\n",
            "Accuracy of epoch: 68 %\n",
            "Validation Loss: 0.6377759823432335\n",
            "Validation accuracy of epoch: 63 % \n",
            "\n"
          ]
        },
        {
          "output_type": "stream",
          "name": "stderr",
          "text": [
            "100%|██████████| 258/258 [00:06<00:00, 42.75batch/s]\n"
          ]
        },
        {
          "output_type": "stream",
          "name": "stdout",
          "text": [
            "Epoch 20/25, Loss: 0.5436091520065485\n",
            "Accuracy of epoch: 69 %\n",
            "Validation Loss: 0.6382182836532593\n",
            "Validation accuracy of epoch: 64 % \n",
            "\n"
          ]
        },
        {
          "output_type": "stream",
          "name": "stderr",
          "text": [
            "100%|██████████| 258/258 [00:05<00:00, 47.94batch/s]\n"
          ]
        },
        {
          "output_type": "stream",
          "name": "stdout",
          "text": [
            "Epoch 21/25, Loss: 0.5309484672638797\n",
            "Accuracy of epoch: 69 %\n",
            "Validation Loss: 0.63800990489813\n",
            "Validation accuracy of epoch: 64 % \n",
            "\n"
          ]
        },
        {
          "output_type": "stream",
          "name": "stderr",
          "text": [
            "100%|██████████| 258/258 [00:06<00:00, 40.51batch/s]\n"
          ]
        },
        {
          "output_type": "stream",
          "name": "stdout",
          "text": [
            "Epoch 22/25, Loss: 0.5299222050018089\n",
            "Accuracy of epoch: 70 %\n",
            "Validation Loss: 0.638503844004411\n",
            "Validation accuracy of epoch: 63 % \n",
            "\n"
          ]
        },
        {
          "output_type": "stream",
          "name": "stderr",
          "text": [
            "100%|██████████| 258/258 [00:05<00:00, 48.05batch/s]\n"
          ]
        },
        {
          "output_type": "stream",
          "name": "stdout",
          "text": [
            "Epoch 23/25, Loss: 0.5259203514618467\n",
            "Accuracy of epoch: 70 %\n",
            "Validation Loss: 0.6430851459503174\n",
            "Validation accuracy of epoch: 64 % \n",
            "\n"
          ]
        },
        {
          "output_type": "stream",
          "name": "stderr",
          "text": [
            "100%|██████████| 258/258 [00:06<00:00, 39.25batch/s]\n"
          ]
        },
        {
          "output_type": "stream",
          "name": "stdout",
          "text": [
            "Epoch 24/25, Loss: 0.5162610381610634\n",
            "Accuracy of epoch: 70 %\n",
            "Validation Loss: 0.6410934218993554\n",
            "Validation accuracy of epoch: 64 % \n",
            "\n"
          ]
        },
        {
          "output_type": "stream",
          "name": "stderr",
          "text": [
            "100%|██████████| 258/258 [00:05<00:00, 46.93batch/s]\n"
          ]
        },
        {
          "output_type": "stream",
          "name": "stdout",
          "text": [
            "Epoch 25/25, Loss: 0.5073899505443351\n",
            "Accuracy of epoch: 71 %\n",
            "Validation Loss: 0.6459831022299253\n",
            "Validation accuracy of epoch: 64 % \n",
            "\n",
            "Average Test Loss: 0.620752548362002\n",
            "Accuracy of epoch: 66 %\n"
          ]
        }
      ]
    },
    {
      "cell_type": "code",
      "source": [
        "# Plotting pairwise regression loss\n",
        "plt.plot(pr_training_loss, label='Training')\n",
        "plt.plot(pr_validation_loss, label='Validation')\n",
        "plt.title('Pairwise Regression Loss')\n",
        "plt.xlabel('Epoch')\n",
        "plt.ylabel('Loss')\n",
        "plt.legend()\n",
        "plt.grid(True, linestyle='--', alpha=0.5, color='gray')\n",
        "plt.show()\n",
        "\n",
        "# Plotting pairwise regression accuracy\n",
        "plt.plot(pr_training_accuracy, label='Training')\n",
        "plt.plot(pr_validation_accuracy, label='Validation')\n",
        "plt.title('Pairwise Regression Accuracy')\n",
        "plt.xlabel('Epoch')\n",
        "plt.ylabel('Accuracy')\n",
        "plt.legend()\n",
        "plt.grid(True, linestyle='--', alpha=0.5, color='gray')\n",
        "plt.show()"
      ],
      "metadata": {
        "id": "A6CAZujTitTn",
        "colab": {
          "base_uri": "https://localhost:8080/",
          "height": 927
        },
        "outputId": "c0bbe356-1f09-41d7-d443-406e41eea69f"
      },
      "execution_count": null,
      "outputs": [
        {
          "output_type": "display_data",
          "data": {
            "text/plain": [
              "<Figure size 640x480 with 1 Axes>"
            ],
            "image/png": "[encoded data removed]"
          },
          "metadata": {}
        },
        {
          "output_type": "display_data",
          "data": {
            "text/plain": [
              "<Figure size 640x480 with 1 Axes>"
            ],
            "image/png": "[encoded data removed]"
          },
          "metadata": {}
        }
      ]
    },
    {
      "cell_type": "markdown",
      "source": [
        "##Listwise (Custom Loss Function - NDCG) (Attempt)"
      ],
      "metadata": {
        "id": "5t-2xyJsLXb0"
      }
    },
    {
      "cell_type": "markdown",
      "source": [
        "This is an attempt to use a listwise approach to predict the outcome of a race. Each race is represented by a 2d tensor where each row representes the tf_idf embedding for a horse. As different races have different numbers of horses, I've padded these 2d tensors to have the same number of rows as the max number of horses in a race in the batch, padding with rows of -1. To keep rows from the same race together when batching, I created a custom collate function. These 2d tensors are then fed into my NN which has a couple of fully connected layers with ReLU activation before being multiplied by a 1d tensor of size (emb_size, 1), this 1d tensor is a parameter of the network. This means the output for a race is a tensor of the length of number of horses in the max race for that batch. Note the actual output has more than 1 dimension as it contains the batch of races. I then created my own loss function to use ndcg. This function firstly uses the true rankings to find which indices have been padded and removes them from the predicted ranking. I then take the inverse of each of the true rankings and use sklearns ndcg_score function. nDCG favours higher values in a list, so taking the inverse means that the lower positions are favoured.\n",
        "\n",
        "There are a few issues with what I've done. The main one is that the validation loss was not changing, literally the same number after every epoch, which was not right and suggested the parameters were None. After checking, this wasn't the case. I then tried shuffling the validation data and this led to changing values which was a little alarming. Any advice on this would be welcomed."
      ],
      "metadata": {
        "id": "4YVOwvjTjHEr"
      }
    },
    {
      "cell_type": "code",
      "source": [
        "from google.colab import drive\n",
        "drive.mount('/content/drive')"
      ],
      "metadata": {
        "id": "PYA6yrWwddlp"
      },
      "execution_count": null,
      "outputs": []
    },
    {
      "cell_type": "code",
      "source": [
        "import pandas as pd\n",
        "\n",
        "df = pd.read_csv(\"tf_idf_data.csv\")\n",
        "df = df.drop(df.columns[0], axis = 1)\n",
        "df = df.drop(columns = ['horse_race_id'], axis = 1)\n",
        "\n",
        "\n",
        "#want all races together: create a list of tuples of (tensor of size n x 107, tensor of size n) where n is the number of horses in that race : i.e (all the race data, the positions)\n",
        "grouped_data = df.groupby('Race_Id')\n",
        "\n",
        "# Store the race tensors in a list\n",
        "race_tensors = []\n",
        "\n",
        "# Group the data by race_id and create separate feature and label tensors\n",
        "for race_id, race_data in grouped_data:\n",
        "    race_features = race_data.drop(columns=['Position', 'Race_Id']).apply(pd.to_numeric, errors='coerce').values.astype(float)  # Extract all columns except 'column_name'\n",
        "    race_labels = race_data['Position'].apply(pd.to_numeric, errors='coerce').values.astype(float)  # Extract the 'column_name' as labels\n",
        "\n",
        "\n",
        "    race_features_tensor = torch.tensor(race_features, dtype=torch.float32)\n",
        "    race_labels_tensor = torch.tensor(race_labels, dtype=torch.float32)\n",
        "\n",
        "    race_tensors.append((race_features_tensor, race_labels_tensor))"
      ],
      "metadata": {
        "id": "OsQ-pLrXLepq"
      },
      "execution_count": null,
      "outputs": []
    },
    {
      "cell_type": "code",
      "source": [
        "print(race_tensors[0][0].shape, race_tensors[0][1].shape)"
      ],
      "metadata": {
        "id": "9lQQ3AYEMLyD"
      },
      "execution_count": null,
      "outputs": []
    },
    {
      "cell_type": "code",
      "source": [
        "#convert to datasets\n",
        "\n",
        "features_list, labels_list = zip(*race_tensors)\n",
        "\n",
        "# Perform train-test split\n",
        "train_features, test_features, train_labels, test_labels = train_test_split(features_list, labels_list, test_size=0.2, random_state=42)\n",
        "train_features, val_features, train_labels, val_labels = train_test_split(train_features, train_labels, test_size=0.2, random_state=42)\n",
        "\n",
        "# Convert the split data back to a list of tuples\n",
        "ls_train_data = list(zip(train_features, train_labels))\n",
        "ls_val_data = list(zip(val_features, val_labels))\n",
        "ls_test_data = list(zip(test_features, test_labels))\n",
        "\n",
        "\n",
        "\n",
        "# Define your custom dataset\n",
        "class Listwise_Dataset(Dataset):\n",
        "    def __init__(self, data):\n",
        "        self.data = data\n",
        "\n",
        "    def __len__(self):\n",
        "        return len(self.data)\n",
        "\n",
        "    def __getitem__(self, idx):\n",
        "        return self.data[idx]\n",
        "\n",
        "#Create a custom collate function to keep all horses of same race together\n",
        "\n",
        "def race_collate(batch):\n",
        "    # Separate the features and labels from the batch\n",
        "    features_batch = [item[0] for item in batch]\n",
        "    labels_batch = [item[1] for item in batch]\n",
        "\n",
        "    # Pad the features and labels tensors so all same size, padding to max length\n",
        "    padded_features_batch = pad_sequence(features_batch, batch_first=True, padding_value=-1)\n",
        "    padded_labels_batch = pad_sequence(labels_batch, batch_first=True, padding_value=-1)\n",
        "\n",
        "    return padded_features_batch, padded_labels_batch\n",
        "\n",
        "# Assuming you have separate train_data, val_data, and test_data lists\n",
        "ls_train_dataset = Listwise_Dataset(ls_train_data)\n",
        "ls_val_dataset = Listwise_Dataset(ls_val_data)\n",
        "ls_test_dataset = Listwise_Dataset(ls_test_data)\n",
        "\n",
        "# Create DataLoader objects with the custom collate function\n",
        "batch_size = 32\n",
        "ls_train_dataloader = DataLoader(ls_train_dataset, batch_size=batch_size, collate_fn=race_collate, shuffle=True)\n",
        "ls_val_dataloader = DataLoader(ls_val_dataset, batch_size=batch_size, collate_fn=race_collate, shuffle =True)\n",
        "ls_test_dataloader = DataLoader(ls_test_dataset, batch_size=batch_size, collate_fn=race_collate)"
      ],
      "metadata": {
        "id": "5kpp9mfUMXz-"
      },
      "execution_count": null,
      "outputs": []
    },
    {
      "cell_type": "code",
      "source": [
        "class Listwise(nn.Module):\n",
        "    def __init__(self, emb_size):\n",
        "        super(Listwise, self).__init__()\n",
        "        # Define your model architecture here\n",
        "        self.scorer = nn.Parameter(torch.randn(emb_size, 1))\n",
        "        self.linear1 = nn.Linear(emb_size, emb_size)\n",
        "        self.relu = nn.ReLU()\n",
        "        self.linear2 = nn.Linear(emb_size, emb_size)\n",
        "\n",
        "    def forward(self, x):\n",
        "        out = self.linear1(x)\n",
        "        out = self.relu(out)\n",
        "        out = self.linear2(out)\n",
        "        out = self.relu(out)\n",
        "        # calculate the scores\n",
        "        result_tensor = torch.matmul(out, self.scorer)\n",
        "\n",
        "        return result_tensor\n",
        "\n"
      ],
      "metadata": {
        "id": "1k918MMkNzzO"
      },
      "execution_count": null,
      "outputs": []
    },
    {
      "cell_type": "code",
      "source": [
        "class NDCGLoss(nn.Module):\n",
        "    def __init__(self, k):\n",
        "        super(NDCGLoss, self).__init__()\n",
        "        self.k = k\n",
        "\n",
        "    def forward(self, y_true, y_pred):\n",
        "        batch_size = y_true.size(0)  # Get the batch size\n",
        "\n",
        "        all_ndcgs = []\n",
        "\n",
        "        for i in range(batch_size):\n",
        "\n",
        "            true_sample = y_true[i].squeeze().float()  # Remove the last dimension (size 1) from true tensor\n",
        "            pred_sample = y_pred[i].squeeze().float()  # Remove the last dimension (size 1) from pred tensor\n",
        "\n",
        "            mask_true = true_sample != -1\n",
        "            true_sample = true_sample[mask_true]\n",
        "            pred_sample = pred_sample[mask_true]\n",
        "\n",
        "            true_sample = 1/true_sample\n",
        "\n",
        "            # Convert continuous values to discrete relevance labels\n",
        "            labels_pred = pred_sample.argsort(descending=True) + 1\n",
        "            labels_true = true_sample.argsort(descending=True) + 1\n",
        "\n",
        "            ndcg_individual = ndcg_score([labels_true.detach().cpu().numpy()], [labels_pred.detach().cpu().numpy()], k=self.k)\n",
        "            all_ndcgs.append(ndcg_individual.item())\n",
        "\n",
        "        # Compute the average NDCG for the batch\n",
        "        average_ndcg = torch.tensor(all_ndcgs, requires_grad=True).mean()\n",
        "\n",
        "        # Return the negative NDCG as the loss\n",
        "        loss = 1 - average_ndcg\n",
        "        return loss"
      ],
      "metadata": {
        "id": "IfvhOKWMtyrj"
      },
      "execution_count": null,
      "outputs": []
    },
    {
      "cell_type": "code",
      "source": [
        "#training\n",
        "\n",
        "num_epochs = 25\n",
        "learning_rate = 0.01\n",
        "\n",
        "embs_size = 107\n",
        "\n",
        "listwise_ndcg_1 = Listwise(embs_size)\n",
        "\n",
        "# Define the loss function and optimizer\n",
        "loss_function = NDCGLoss(1)\n",
        "\n",
        "optimizer = optim.Adam(listwise_ndcg_1.parameters(), lr=learning_rate)\n",
        "\n",
        "ls_training_loss = []\n",
        "ls_validation_loss = []\n",
        "\n",
        "# Training loop\n",
        "for epoch in range(num_epochs):\n",
        "    listwise_ndcg_1.train()  # Set the model to training mode\n",
        "\n",
        "    running_loss = 0.0\n",
        "\n",
        "    with tqdm(ls_train_dataloader, unit=\"batch\") as tepoch:\n",
        "          # Training the model\n",
        "          for features, y_true in tepoch:\n",
        "\n",
        "              optimizer.zero_grad()\n",
        "\n",
        "              y_pred = listwise_ndcg_1(features)\n",
        "\n",
        "              y_true = y_true.unsqueeze(-1)\n",
        "\n",
        "              loss = loss_function(y_true, y_pred)\n",
        "\n",
        "              loss.backward()\n",
        "\n",
        "              optimizer.step()\n",
        "\n",
        "              running_loss += loss.item()\n",
        "\n",
        "    # Print the average loss for the epoch\n",
        "    average_loss = running_loss / len(ls_train_dataloader)\n",
        "    print(f\"Epoch {epoch + 1}/{num_epochs}, Loss: {average_loss}\")\n",
        "    ls_training_loss.append(average_loss)\n",
        "\n",
        "    # Validation loop\n",
        "    listwise_ndcg_1.eval()  # Set the model to evaluation mode\n",
        "    val_loss = 0.0\n",
        "    with torch.no_grad():\n",
        "        for features, y_true in ls_val_dataloader:\n",
        "            y_pred = listwise_ndcg_1(features)\n",
        "            loss = loss_function(y_pred, y_true.unsqueeze(-1))\n",
        "            val_loss += loss.item()\n",
        "\n",
        "    # Print the validation loss for the epoch.\n",
        "    average_val_loss = val_loss / len(ls_val_dataloader)\n",
        "    print(f\"Validation Loss: {average_val_loss} \\n\")\n",
        "    ls_validation_loss.append(average_val_loss)\n",
        "\n",
        "# Testing loop\n",
        "listwise_ndcg_1.eval()  # Set the model to evaluation mode\n",
        "test_loss = 0.0\n",
        "with torch.no_grad():\n",
        "    for features, y_true in ls_test_dataloader:\n",
        "        y_pred = listwise_ndcg_1(features)\n",
        "        loss = loss_function(y_pred, y_true.unsqueeze(-1))\n",
        "        loss = loss.mean()\n",
        "        test_loss += loss.item()\n",
        "\n",
        "# Print the average test loss\n",
        "average_test_loss = test_loss / len(ls_test_dataloader)\n",
        "print(f\"Average Test Loss: {average_test_loss}\")"
      ],
      "metadata": {
        "id": "sDVzoNAFUaa9"
      },
      "execution_count": null,
      "outputs": []
    },
    {
      "cell_type": "code",
      "source": [
        "plt.plot(ls_training_loss)\n",
        "plt.plot(ls_validation_loss)\n",
        "plt.show()"
      ],
      "metadata": {
        "id": "6XfX672C_nht"
      },
      "execution_count": null,
      "outputs": []
    },
    {
      "cell_type": "code",
      "source": [
        "#training\n",
        "\n",
        "num_epochs = 25\n",
        "learning_rate = 0.01\n",
        "\n",
        "embs_size = 107\n",
        "\n",
        "listwise_ndcg_2 = Listwise(embs_size)\n",
        "\n",
        "# Define the loss function and optimizer\n",
        "loss_function = NDCGLoss(2)\n",
        "\n",
        "optimizer = optim.Adam(listwise_ndcg_2.parameters(), lr=learning_rate)\n",
        "\n",
        "ls_training_loss = []\n",
        "ls_validation_loss = []\n",
        "\n",
        "# Training loop\n",
        "for epoch in range(num_epochs):\n",
        "    listwise_ndcg_2.train()  # Set the model to training mode\n",
        "\n",
        "    running_loss = 0.0\n",
        "\n",
        "    with tqdm(ls_train_dataloader, unit=\"batch\") as tepoch:\n",
        "          # Training the model\n",
        "          for features, y_true in tepoch:\n",
        "\n",
        "              optimizer.zero_grad()\n",
        "\n",
        "              y_pred = listwise_ndcg_2(features)\n",
        "\n",
        "              y_true = y_true.unsqueeze(-1)\n",
        "\n",
        "              loss = loss_function(y_true, y_pred)\n",
        "\n",
        "              loss.backward()\n",
        "\n",
        "              optimizer.step()\n",
        "\n",
        "              running_loss += loss.item()\n",
        "\n",
        "    # Print the average loss for the epoch\n",
        "    average_loss = running_loss / len(ls_train_dataloader)\n",
        "    print(f\"Epoch {epoch + 1}/{num_epochs}, Loss: {average_loss}\")\n",
        "    ls_training_loss.append(average_loss)\n",
        "\n",
        "    # Validation loop\n",
        "    listwise_ndcg_2.eval()  # Set the model to evaluation mode\n",
        "    val_loss = 0.0\n",
        "    with torch.no_grad():\n",
        "        for features, y_true in ls_val_dataloader:\n",
        "            y_pred = listwise_ndcg_2(features)\n",
        "            loss = loss_function(y_pred, y_true.unsqueeze(-1))\n",
        "            val_loss += loss.item()\n",
        "\n",
        "    # Print the validation loss for the epoch.\n",
        "    average_val_loss = val_loss / len(ls_val_dataloader)\n",
        "    print(f\"Validation Loss: {average_val_loss} \\n\")\n",
        "    ls_validation_loss.append(average_val_loss)\n",
        "\n",
        "# Testing loop\n",
        "listwise_ndcg_2.eval()  # Set the model to evaluation mode\n",
        "test_loss = 0.0\n",
        "with torch.no_grad():\n",
        "    for features, y_true in ls_test_dataloader:\n",
        "        y_pred = listwise_ndcg_2(features)\n",
        "        loss = loss_function(y_pred, y_true.unsqueeze(-1))\n",
        "        loss = loss.mean()\n",
        "        test_loss += loss.item()\n",
        "\n",
        "# Print the average test loss\n",
        "average_test_loss = test_loss / len(ls_test_dataloader)\n",
        "print(f\"Average Test Loss: {average_test_loss}\")"
      ],
      "metadata": {
        "id": "4BxAlWSqhG_M"
      },
      "execution_count": null,
      "outputs": []
    },
    {
      "cell_type": "code",
      "source": [
        "#training\n",
        "\n",
        "num_epochs = 25\n",
        "learning_rate = 0.01\n",
        "\n",
        "embs_size = 107\n",
        "\n",
        "listwise_ndcg_3 = Listwise(embs_size)\n",
        "\n",
        "# Define the loss function and optimizer\n",
        "loss_function = NDCGLoss(3)\n",
        "\n",
        "optimizer = optim.Adam(listwise_ndcg_3.parameters(), lr=learning_rate)\n",
        "\n",
        "ls_training_loss = []\n",
        "ls_validation_loss = []\n",
        "\n",
        "# Training loop\n",
        "for epoch in range(num_epochs):\n",
        "    listwise_ndcg_3.train()  # Set the model to training mode\n",
        "\n",
        "    running_loss = 0.0\n",
        "\n",
        "    with tqdm(ls_train_dataloader, unit=\"batch\") as tepoch:\n",
        "          # Training the model\n",
        "          for features, y_true in tepoch:\n",
        "\n",
        "              optimizer.zero_grad()\n",
        "\n",
        "              y_pred = listwise_ndcg_3(features)\n",
        "\n",
        "              y_true = y_true.unsqueeze(-1)\n",
        "\n",
        "              loss = loss_function(y_true, y_pred)\n",
        "\n",
        "              loss.backward()\n",
        "\n",
        "              optimizer.step()\n",
        "\n",
        "              running_loss += loss.item()\n",
        "\n",
        "    # Print the average loss for the epoch\n",
        "    average_loss = running_loss / len(ls_train_dataloader)\n",
        "    print(f\"Epoch {epoch + 1}/{num_epochs}, Loss: {average_loss}\")\n",
        "    ls_training_loss.append(average_loss)\n",
        "\n",
        "    # Validation loop\n",
        "    listwise_ndcg_3.eval()  # Set the model to evaluation mode\n",
        "    val_loss = 0.0\n",
        "    with torch.no_grad():\n",
        "        for features, y_true in ls_val_dataloader:\n",
        "            y_pred = listwise_ndcg_3(features)\n",
        "            loss = loss_function(y_pred, y_true.unsqueeze(-1))\n",
        "            val_loss += loss.item()\n",
        "\n",
        "    # Print the validation loss for the epoch.\n",
        "    average_val_loss = val_loss / len(ls_val_dataloader)\n",
        "    print(f\"Validation Loss: {average_val_loss} \\n\")\n",
        "    ls_validation_loss.append(average_val_loss)\n",
        "\n",
        "# Testing loop\n",
        "listwise_ndcg_3.eval()  # Set the model to evaluation mode\n",
        "test_loss = 0.0\n",
        "with torch.no_grad():\n",
        "    for features, y_true in ls_test_dataloader:\n",
        "        y_pred = listwise_ndcg_3(features)\n",
        "        loss = loss_function(y_pred, y_true.unsqueeze(-1))\n",
        "        loss = loss.mean()\n",
        "        test_loss += loss.item()\n",
        "\n",
        "# Print the average test loss\n",
        "average_test_loss = test_loss / len(ls_test_dataloader)\n",
        "print(f\"Average Test Loss: {average_test_loss}\")"
      ],
      "metadata": {
        "id": "CAk1Kr9fhQT5"
      },
      "execution_count": null,
      "outputs": []
    },
    {
      "cell_type": "markdown",
      "source": [
        "##CNN Regression\n",
        "\n",
        "Using the same dataset as above (i.e each race embedded as a 2d tensor, with padding to max number of horses in the batch). Then as the max number of horses varies between batches, in order to have tensors of the same size, I did: for a 2d tensor, M of size n x emb_size where n is the number of horses in the race, the 2d tensor I fed into my NN was transpose(M) * M . So the resultant tensor had shape: emb_size x emb_size which is the same for all the batches. Note I also decided to pad these tensors with 0 which meant during the multiplication part, these entries would not have an influence on the resultant tensor. I then treated this problem as a CNN regression problem where the input is 1 channel, using a couple of convolutional layers increasing the channel size and using MaxPooling before flattenning into a couple fully connected layers with one output neuron. The loss function is MSE."
      ],
      "metadata": {
        "id": "7y_vkcoqnAyp"
      }
    },
    {
      "cell_type": "code",
      "source": [
        "df = pd.read_csv(\"tf_idf_data.csv\")\n",
        "df = df.drop(df.columns[0], axis = 1)\n",
        "df = df.drop(columns = ['horse_race_id'], axis = 1)\n",
        "\n",
        "\n",
        "#want all races together: create a list of tuples of (tensor of size n x 107, tensor of size n) where n is the number of horses in that race : i.e (all the race data, the positions)\n",
        "grouped_data = df.groupby('Race_Id')\n",
        "\n",
        "# Store the race tensors in a list\n",
        "race_tensors = []\n",
        "\n",
        "# Group the data by race_id and create separate feature and label tensors\n",
        "for race_id, race_data in grouped_data:\n",
        "    race_features = race_data.drop(columns=['Position', 'Race_Id']).apply(pd.to_numeric, errors='coerce').values.astype(float)  # Extract all columns except 'column_name'\n",
        "    race_labels = race_data['Position'].apply(pd.to_numeric, errors='coerce').values.astype(float)  # Extract the 'column_name' as labels\n",
        "\n",
        "\n",
        "    race_features_tensor = torch.tensor(race_features, dtype=torch.float32)\n",
        "    race_labels_tensor = torch.argmin(torch.tensor(race_labels, dtype=torch.float32))\n",
        "\n",
        "    race_tensors.append((race_features_tensor, race_labels_tensor))"
      ],
      "metadata": {
        "id": "oj3zXwMUn2RG"
      },
      "execution_count": null,
      "outputs": []
    },
    {
      "cell_type": "code",
      "source": [
        "#convert to datasets\n",
        "\n",
        "features_list, labels_list = zip(*race_tensors)\n",
        "\n",
        "# Perform train-test split\n",
        "train_features, test_features, train_labels, test_labels = train_test_split(features_list, labels_list, test_size=0.2, random_state=42)\n",
        "train_features, val_features, train_labels, val_labels = train_test_split(train_features, train_labels, test_size=0.2, random_state=42)\n",
        "\n",
        "# Convert the split data back to a list of tuples\n",
        "cnn_train_data = list(zip(train_features, train_labels))\n",
        "cnn_val_data = list(zip(val_features, val_labels))\n",
        "cnn_test_data = list(zip(test_features, test_labels))\n",
        "\n",
        "\n",
        "\n",
        "# Define your custom dataset\n",
        "class CNN_Dataset(Dataset):\n",
        "    def __init__(self, data):\n",
        "        self.data = data\n",
        "\n",
        "    def __len__(self):\n",
        "        return len(self.data)\n",
        "\n",
        "    def __getitem__(self, idx):\n",
        "        return self.data[idx]\n",
        "\n",
        "#Create a custom collate function to keep all horses of same race together\n",
        "\n",
        "def race_collate(batch):\n",
        "    # Separate the features and labels from the batch\n",
        "    features_batch = [item[0] for item in batch]\n",
        "    labels_batch = [item[1] for item in batch]\n",
        "\n",
        "    # Pad the features and labels tensors so all same size, padding to max length\n",
        "    padded_features_batch = pad_sequence(features_batch, batch_first=True, padding_value= 0 )  #pad with 0 so when doing M.t * M these rows information is lost\n",
        "\n",
        "    return padded_features_batch, torch.tensor(labels_batch)\n",
        "\n",
        "# Assuming you have separate train_data, val_data, and test_data lists\n",
        "cnn_train_dataset = CNN_Dataset(cnn_train_data)\n",
        "cnn_val_dataset = CNN_Dataset(cnn_val_data)\n",
        "cnn_test_dataset = CNN_Dataset(cnn_test_data)\n",
        "\n",
        "# Create DataLoader objects with the custom collate function\n",
        "batch_size = 32\n",
        "cnn_train_dataloader = DataLoader(cnn_train_dataset, batch_size=batch_size, collate_fn=race_collate, shuffle=True)\n",
        "cnn_val_dataloader = DataLoader(cnn_val_dataset, batch_size=batch_size, collate_fn=race_collate)\n",
        "cnn_test_dataloader = DataLoader(cnn_test_dataset, batch_size=batch_size, collate_fn=race_collate)"
      ],
      "metadata": {
        "id": "L958DT7in98l"
      },
      "execution_count": null,
      "outputs": []
    },
    {
      "cell_type": "code",
      "source": [
        "class CNN_Regression(nn.Module):\n",
        "    def __init__(self, hidden_layer_size, dropout):\n",
        "        super(CNN_Regression, self).__init__()\n",
        "        #input size is 107x107 and padding = 0, and stride = 1\n",
        "        self.conv1 = nn.Conv2d(1, 4, 5)  # output size = (107 - 5 + 2*0)/1 + 1 = 103\n",
        "        self.pool1 = nn.MaxPool2d(2,2) #output size = 103/2 = 51  - take lower bound for divind by 2\n",
        "        self.conv2 = nn.Conv2d(4, 6, 5) #output size = 51 - 5 + 1 = 47\n",
        "        self.pool2 = nn.MaxPool2d(2,2) #output size = 47/2 = 23\n",
        "        self.linear1 = nn.Linear(6*23*23, hidden_layer_size)\n",
        "        self.relu = nn.ReLU()\n",
        "        self.linear2 = nn.Linear(hidden_layer_size, 1)\n",
        "        self.dropout = nn.Dropout(dropout)\n",
        "\n",
        "\n",
        "    def forward(self, x):\n",
        "      x = self.conv1(x)\n",
        "      x = self.pool1(x)\n",
        "      x = self.dropout(x)\n",
        "      x = self.conv2(x)\n",
        "      x = self.pool2(x)\n",
        "      x = self.dropout(x)\n",
        "      x = x.view(-1, 6*23*23) #flatten\n",
        "      x = self.linear1(x)\n",
        "      x = self.relu(x)\n",
        "      x = self.dropout(x)\n",
        "      x = self.linear2(x)\n",
        "      return x\n",
        "\n",
        "\n",
        "hidden_layer_size = 200\n",
        "dropout = 0.5\n",
        "\n",
        "cnn_regression = CNN_Regression(hidden_layer_size, dropout)"
      ],
      "metadata": {
        "id": "Jet6tbPio6tj"
      },
      "execution_count": null,
      "outputs": []
    },
    {
      "cell_type": "code",
      "source": [
        "#training\n",
        "\n",
        "num_epochs = 25\n",
        "learning_rate = 0.001\n",
        "\n",
        "# Define the loss function and optimizer\n",
        "loss_function = nn.MSELoss()\n",
        "optimizer = optim.Adam(cnn_regression.parameters(), lr=learning_rate)\n",
        "\n",
        "cnn_training_loss = []\n",
        "cnn_val_loss = []\n",
        "\n",
        "# Training loop\n",
        "for epoch in range(num_epochs):\n",
        "    cnn_regression.train()  # Set the model to training mode\n",
        "\n",
        "    running_loss = 0.0\n",
        "\n",
        "\n",
        "    with tqdm(cnn_train_dataloader, unit=\"batch\") as tepoch:\n",
        "            # Training the model\n",
        "            for features, y_true in tepoch:\n",
        "\n",
        "                features_transposed = features.transpose(1, 2)\n",
        "                result = torch.matmul(features_transposed, features).unsqueeze(1)   # M.t * M to get matrices of size emb_seize x emb_size\n",
        "\n",
        "                optimizer.zero_grad()\n",
        "                y_pred = cnn_regression(result)\n",
        "                y_true = y_true.to(torch.float)\n",
        "\n",
        "                loss = loss_function(y_pred, y_true.view(-1, 1))\n",
        "                loss = loss.to(torch.float)\n",
        "\n",
        "                loss.backward()\n",
        "                optimizer.step()\n",
        "\n",
        "                running_loss += loss.item()\n",
        "\n",
        "\n",
        "\n",
        "    # Print the average loss for the epoch\n",
        "    average_loss = running_loss / len(cnn_train_dataloader)\n",
        "    print(f\"Epoch {epoch + 1}/{num_epochs}, Loss: {average_loss}\")\n",
        "    cnn_training_loss.append(average_loss)\n",
        "\n",
        "    # Validation loop\n",
        "    pairwise.eval()  # Set the model to evaluation mode\n",
        "    val_loss = 0.0\n",
        "\n",
        "    with torch.no_grad():\n",
        "        for features, y_true in cnn_val_dataloader:\n",
        "\n",
        "            features_transposed = features.transpose(1, 2)\n",
        "            result = torch.matmul(features_transposed, features).unsqueeze(1)   # M.t * M to get matrices of size emb_seize x emb_size\n",
        "\n",
        "            y_pred = cnn_regression(result)\n",
        "            loss = loss_function(y_pred, y_true.view(-1, 1))\n",
        "            val_loss += loss.item()\n",
        "\n",
        "\n",
        "\n",
        "    # Print the validation loss for the epoch.\n",
        "    average_val_loss = val_loss / len(cnn_val_dataloader)\n",
        "    print(f\"Validation Loss: {average_val_loss}\")\n",
        "    cnn_val_loss.append(average_val_loss)\n",
        "\n",
        "# Testing loop\n",
        "pairwise.eval()  # Set the model to evaluation mode\n",
        "test_loss = 0.0\n",
        "\n",
        "with torch.no_grad():\n",
        "    for features, y_true in cnn_test_dataloader:\n",
        "\n",
        "        features_transposed = features.transpose(1, 2)\n",
        "        result = torch.matmul(features_transposed, features).unsqueeze(1)   # M.t * M to get matrices of size emb_seize x emb_size\n",
        "\n",
        "\n",
        "        y_pred = cnn_regression(result)\n",
        "        loss = loss_function(y_pred, y_true.view(-1, 1))\n",
        "        test_loss += loss.item()\n",
        "\n",
        "\n",
        "# Print the average test loss\n",
        "average_test_loss = test_loss / len(cnn_test_dataloader)\n",
        "print(f\"Average Test Loss: {average_test_loss}\")\n"
      ],
      "metadata": {
        "id": "IJ5RJ1s8xX3f"
      },
      "execution_count": null,
      "outputs": []
    },
    {
      "cell_type": "code",
      "source": [
        "plt.plot(cnn_training_loss)\n",
        "plt.plot(cnn_val_loss)\n",
        "plt.show()"
      ],
      "metadata": {
        "id": "ld_2FuIjDv6S"
      },
      "execution_count": null,
      "outputs": []
    },
    {
      "cell_type": "markdown",
      "source": [
        "#BERT\n"
      ],
      "metadata": {
        "id": "MJb8wLnz2UF0"
      }
    },
    {
      "cell_type": "markdown",
      "source": [
        "To obtain better results, we decided to use BERT to embed our predictions. We took the '[cls]' token and concatenated it with the numerical data to form an embedding for a horse."
      ],
      "metadata": {
        "id": "dDKO-lcS2hdA"
      }
    },
    {
      "cell_type": "code",
      "source": [
        "#since using BERT, switch to using GPU\n",
        "if torch.cuda.is_available():\n",
        "    device = torch.device(\"cuda:0\")\n",
        "else:\n",
        "    device = torch.device('cpu')\n",
        "print(\"Using {}.\".format(device))"
      ],
      "metadata": {
        "id": "0Eg2tRTv2gHK"
      },
      "execution_count": null,
      "outputs": []
    },
    {
      "cell_type": "markdown",
      "source": [
        "## Pointwise (Regression)"
      ],
      "metadata": {
        "id": "VXn1vMmF49Jv"
      }
    },
    {
      "cell_type": "code",
      "source": [
        "df = pd.read_csv(\"data.csv\")\n",
        "df = df.drop([df.columns[0], df.columns[9], df.columns[11]], axis = 1)\n",
        "# Initialize the MinMaxScaler\n",
        "scaler = MinMaxScaler()\n",
        "\n",
        "# Normalize the column\n",
        "normalized_column = scaler.fit_transform(df[['Position']])\n",
        "\n",
        "# Update the column in the DataFrame\n",
        "df['Position'] = normalized_column\n",
        "\n",
        "#clean text data:\n",
        "\n",
        "df['Prediction'] = df['Prediction'].apply(lambda x: x.lower())  #make all lowercase\n",
        "df[\"Prediction\"] = df['Prediction'].str.replace('[^\\w\\s]','')   #remove punctuation\n",
        "\n",
        "df.head()"
      ],
      "metadata": {
        "id": "eBLhIef538Au"
      },
      "execution_count": null,
      "outputs": []
    },
    {
      "cell_type": "code",
      "source": [
        "train_and_val_data, test_data = train_test_split( df, test_size=0.2, random_state=42)\n",
        "train_data, val_data = train_test_split(train_and_val_data, test_size=0.2, random_state=42)"
      ],
      "metadata": {
        "id": "Am6cJa0w7iZx"
      },
      "execution_count": null,
      "outputs": []
    },
    {
      "cell_type": "code",
      "source": [
        "word_count_train = train_and_val_data['Prediction'].apply(lambda x: len(x.split()))\n",
        "word_count_test = test_data['Prediction'].apply(lambda x: len(x.split()))"
      ],
      "metadata": {
        "id": "V_fJXkmd64Ul"
      },
      "execution_count": null,
      "outputs": []
    },
    {
      "cell_type": "code",
      "source": [
        "fig = plt.figure(figsize=[10,7])\n",
        "sns.distplot(word_count_train, label = 'train', color=sns.xkcd_rgb['red'])\n",
        "sns.distplot(word_count_test, label = 'test', color=sns.xkcd_rgb['blue'])\n",
        "plt.legend()\n",
        "plt.show()"
      ],
      "metadata": {
        "id": "BdR3GEgi67K9"
      },
      "execution_count": null,
      "outputs": []
    },
    {
      "cell_type": "code",
      "source": [
        "max_train_word_count = word_count_train.max()"
      ],
      "metadata": {
        "id": "qoZRwuyX71cp"
      },
      "execution_count": null,
      "outputs": []
    },
    {
      "cell_type": "code",
      "source": [
        "MAX_LEN_TRAIN = max_train_word_count\n",
        "MAX_LEN_VALID = max_train_word_count\n",
        "MAX_LEN_TEST = max_train_word_count"
      ],
      "metadata": {
        "id": "tZx6E5iS87tN"
      },
      "execution_count": null,
      "outputs": []
    },
    {
      "cell_type": "code",
      "source": [
        "class BERT_Pointwise_Dataset(Dataset):\n",
        "\n",
        "    def __init__(self, data, maxlen, tokenizer):\n",
        "        #Store the contents of the file in a pandas dataframe\n",
        "        self.df = data.reset_index()\n",
        "        #Initialize the tokenizer for the desired transformer model\n",
        "        self.tokenizer = tokenizer\n",
        "        #Maximum length of the tokens list to keep all the sequences of fixed size\n",
        "        self.maxlen = maxlen\n",
        "\n",
        "    def __len__(self):\n",
        "        return self.df.shape[0]\n",
        "\n",
        "    def __getitem__(self, index):\n",
        "\n",
        "        # Extract the input features and target\n",
        "        num_features = torch.tensor(self.df.drop(['index', 'Prediction', 'Position'], axis=1).iloc[index].values, dtype=torch.float32)\n",
        "\n",
        "        #Select the sentence and label at the specified index in the data frame\n",
        "        pred = self.df.loc[index, 'Prediction']\n",
        "        try:\n",
        "            position = self.df.loc[index, 'Position']\n",
        "        except:\n",
        "            position = -1.0\n",
        "\n",
        "        #Preprocess the text to be suitable for the transformer\n",
        "        tokens = self.tokenizer.tokenize(pred)\n",
        "        tokens = ['[CLS]'] + tokens + ['[SEP]']\n",
        "        if len(tokens) < self.maxlen:\n",
        "            tokens = tokens + ['[PAD]' for _ in range(self.maxlen - len(tokens))]\n",
        "        else:\n",
        "            tokens = tokens[:self.maxlen-1] + ['[SEP]']\n",
        "        #Obtain the indices of the tokens in the BERT Vocabulary\n",
        "        input_ids = self.tokenizer.convert_tokens_to_ids(tokens)\n",
        "        input_ids = torch.tensor(input_ids)\n",
        "        #Obtain the attention mask i.e a tensor containing 1s for no padded tokens and 0s for padded ones\n",
        "        attention_mask = (input_ids != 0).long()\n",
        "\n",
        "        position = torch.tensor(position, dtype=torch.float32)\n",
        "\n",
        "        return num_features, input_ids, attention_mask, position"
      ],
      "metadata": {
        "id": "g2sbCaUB8-np"
      },
      "execution_count": null,
      "outputs": []
    },
    {
      "cell_type": "code",
      "source": [
        "BATCH_SIZE = 64\n",
        "config = AutoConfig.from_pretrained('bert-base-uncased')\n",
        "tokenizer = AutoTokenizer.from_pretrained('bert-base-uncased')"
      ],
      "metadata": {
        "id": "9mRGXhh6-5gA"
      },
      "execution_count": null,
      "outputs": []
    },
    {
      "cell_type": "code",
      "source": [
        "## Training Dataset\n",
        "train_set = BERT_Pointwise_Dataset(data=train_data, maxlen=MAX_LEN_TRAIN, tokenizer=tokenizer)\n",
        "valid_set = BERT_Pointwise_Dataset(data=val_data, maxlen=MAX_LEN_VALID, tokenizer=tokenizer)\n",
        "test_set = BERT_Pointwise_Dataset(data=test_data, maxlen=MAX_LEN_TEST, tokenizer=tokenizer)\n",
        "\n",
        "\n",
        "## Data Loaders\n",
        "bert_pointwise_train_loader = DataLoader(dataset=train_set, batch_size=BATCH_SIZE)\n",
        "bert_pointwise_valid_loader = DataLoader(dataset=valid_set, batch_size=BATCH_SIZE)\n",
        "bert_pointwise_test_loader = DataLoader(dataset=test_set, batch_size=BATCH_SIZE)"
      ],
      "metadata": {
        "id": "TnaPv8BU-RoK"
      },
      "execution_count": null,
      "outputs": []
    },
    {
      "cell_type": "code",
      "source": [
        "\n",
        "class BERT_Pointwise(BertPreTrainedModel):\n",
        "    def __init__(self, config, hidden_layer_size, freeze_bert=False, dropout = 0):\n",
        "        super().__init__(config)\n",
        "        self.bert = BertModel(config)\n",
        "\n",
        "        if freeze_bert:\n",
        "            for param in self.bert.parameters():\n",
        "                param.requires_grad = False\n",
        "\n",
        "        #The output layer that takes the [CLS] representation and gives an output\n",
        "        self.cls_linear1 = nn.Linear(config.hidden_size + 7, hidden_layer_size)   #note the +7 to add the numerical data on the end\n",
        "        self.relu1 = nn.ReLU()\n",
        "        self.linear2 = nn.Linear(hidden_layer_size,1)\n",
        "        self.dropout1 = nn.Dropout(dropout)\n",
        "        self.dropout2 = nn.Dropout(dropout)\n",
        "\n",
        "\n",
        "\n",
        "    def forward(self, num_features, input_ids, attention_mask):\n",
        "        #Feed the input to Bert model to obtain contextualized representations\n",
        "        outputs = self.bert(input_ids=input_ids, attention_mask=attention_mask)\n",
        "        #Obtain the representations of [CLS] heads\n",
        "        logits = outputs.last_hidden_state[:,0,:]\n",
        "\n",
        "        X = torch.cat((num_features, logits), -1).to(torch.float32)  #concatenate the numerical and textual data\n",
        "\n",
        "        output = self.cls_linear1(X)\n",
        "        output = self.relu1(output)\n",
        "        output = self.dropout1(output)\n",
        "        output = self.linear2(output)\n",
        "        output = self.dropout2(output)\n",
        "        return output\n",
        "\n",
        "bert_pointwise = BERT_Pointwise(config, 200, freeze_bert = True, dropout = 0.5).to(device)\n"
      ],
      "metadata": {
        "id": "EqKr8ePb-9cX"
      },
      "execution_count": null,
      "outputs": []
    },
    {
      "cell_type": "code",
      "source": [
        "#training\n",
        "\n",
        "num_epochs = 10\n",
        "learning_rate = 0.001\n",
        "\n",
        "# Define the loss function and optimizer\n",
        "loss_function = nn.MSELoss()\n",
        "optimizer = optim.Adam(bert_pointwise.parameters(), lr=learning_rate)\n",
        "\n",
        "bert_pt_training_loss = []\n",
        "bert_pt_val_loss = []\n",
        "\n",
        "\n",
        "# Training loop\n",
        "for epoch in range(num_epochs):\n",
        "    bert_pointwise.train()  # Set the model to training mode\n",
        "\n",
        "    running_loss = 0.0\n",
        "\n",
        "    # Training the model\n",
        "    with tqdm(bert_pointwise_train_loader, unit=\"batch\") as tepoch:\n",
        "          for num_features, input_ids, attention_mask, true_position in tepoch:\n",
        "\n",
        "              num_features, input_ids, attention_mask, true_position = num_features.to(device), input_ids.to(device), attention_mask.to(device), true_position.to(device)\n",
        "\n",
        "              optimizer.zero_grad()\n",
        "\n",
        "              pred_position = bert_pointwise(num_features, input_ids, attention_mask)\n",
        "\n",
        "              loss = loss_function(pred_position, true_position.unsqueeze(1))\n",
        "\n",
        "              loss.backward()\n",
        "              optimizer.step()\n",
        "\n",
        "              running_loss += loss.item()\n",
        "\n",
        "    # Print the average loss for the epoch\n",
        "    average_loss = running_loss / len(bert_pointwise_train_loader)\n",
        "    print(f\"Epoch {epoch + 1}/{num_epochs}, Loss: {average_loss}\")\n",
        "    bert_pt_training_loss.append(average_loss)\n",
        "\n",
        "    # Validation loop\n",
        "    bert_pointwise.eval()  # Set the model to evaluation mode\n",
        "    val_loss = 0.0\n",
        "    with torch.no_grad():\n",
        "        with tqdm(bert_pointwise_valid_loader, unit=\"batch\") as tepoch:\n",
        "\n",
        "            for num_features, input_ids, attention_mask, true_position in tepoch:\n",
        "\n",
        "                num_features, input_ids, attention_mask, true_position = num_features.to(device), input_ids.to(device), attention_mask.to(device), true_position.to(device)\n",
        "\n",
        "                pred_position = bert_pointwise(num_features, input_ids, attention_mask)\n",
        "\n",
        "                loss = loss_function(pred_position, true_position.unsqueeze(1))\n",
        "\n",
        "                val_loss += loss.item()\n",
        "\n",
        "    # Print the validation loss for the epoch.\n",
        "    average_val_loss = val_loss / len(bert_pointwise_valid_loader)\n",
        "    print(f\"Validation Loss: {average_val_loss} \\n\")\n",
        "    bert_pt_val_loss.append(average_val_loss)\n",
        "\n",
        "# Testing loop\n",
        "bert_pointwise.eval()  # Set the model to evaluation mode\n",
        "test_loss = 0.0\n",
        "with torch.no_grad():\n",
        "  with tqdm(bert_pointwise_test_loader, unit=\"batch\") as tepoch:\n",
        "        for num_features, input_ids, attention_mask, true_position in tepoch:\n",
        "\n",
        "                num_features, input_ids, attention_mask, true_position = num_features.to(device), input_ids.to(device), attention_mask.to(device), true_position.to(device)\n",
        "\n",
        "                pred_position = bert_pointwise(num_features, input_ids, attention_mask)\n",
        "\n",
        "                loss = loss_function(pred_position, true_position.unsqueeze(1))\n",
        "\n",
        "                test_loss += loss.item()\n",
        "\n",
        "# Print the average test loss\n",
        "average_test_loss = test_loss / len(bert_pointwise_test_loader)\n",
        "print(f\"Average Test Loss: {average_test_loss}\")"
      ],
      "metadata": {
        "id": "H3NJjGXBAVbG"
      },
      "execution_count": null,
      "outputs": []
    },
    {
      "cell_type": "code",
      "source": [
        "plt.plot(bert_pt_training_loss)\n",
        "plt.plot(bert_pt_val_loss)\n",
        "plt.show()"
      ],
      "metadata": {
        "id": "Yk-kY7RPLfX-"
      },
      "execution_count": null,
      "outputs": []
    },
    {
      "cell_type": "markdown",
      "source": [
        "##Pairwise (Classification)"
      ],
      "metadata": {
        "id": "R6pKwfXSgmvk"
      }
    },
    {
      "cell_type": "code",
      "source": [
        "df = pd.read_csv(\"data.csv\")\n",
        "df = df.drop([df.columns[0], df.columns[9]], axis = 1)\n",
        "\n",
        "# Initialize a defaultdict to store the results\n",
        "results_dict = defaultdict(list)\n",
        "\n",
        "# Get unique race IDs\n",
        "race_ids = df['Race_Id'].unique()\n",
        "\n",
        "# Iterate over race IDs\n",
        "for race_id in race_ids:\n",
        "    # Get the rows for the current race ID\n",
        "    rows = df[df['Race_Id'] == race_id]\n",
        "\n",
        "    # Iterate over all combinations of horse IDs in the current race\n",
        "    for i, j in combinations(rows.index, 2):\n",
        "        # Store the common information\n",
        "        results_dict['Race_Id'].append(race_id)\n",
        "        results_dict['Position_x'].append(rows.loc[i, 'Position'])\n",
        "        results_dict['Position_y'].append(rows.loc[j, 'Position'])\n",
        "        results_dict['Prediction_x'].append(rows.loc[i, 'Prediction'])\n",
        "        results_dict['Prediction_y'].append(rows.loc[j, 'Prediction'])\n",
        "\n",
        "\n",
        "        # Calculate the differences between the values for each column\n",
        "        # Calculate the differences between the values for each column\n",
        "        for col_name in [col for col in rows.columns if col not in ['horse_race_id', 'Position', 'Race_Id', 'Prediction']]:\n",
        "            col_diff = rows.loc[i, col_name] - rows.loc[j, col_name]\n",
        "            results_dict[col_name].append(col_diff)\n",
        "\n",
        "# Create a DataFrame from the dictionary\n",
        "results_df = pd.DataFrame(results_dict)\n",
        "\n",
        "def positions(x):\n",
        "    if x['Position_x'] > x['Position_y']: #if horse 1 finishes later than horse 2\n",
        "        return 0\n",
        "    else:\n",
        "        return 1\n",
        "\n",
        "results_df['comparison'] = results_df[['Position_x', 'Position_y']].apply(positions, axis = 1)\n",
        "\n",
        "df = results_df.drop(['Race_Id', 'Position_x', 'Position_y'], axis = 1)\n",
        "\n",
        "df.head()"
      ],
      "metadata": {
        "id": "61qvXPQ_gqv6"
      },
      "execution_count": null,
      "outputs": []
    },
    {
      "cell_type": "code",
      "source": [
        "train_and_val_data, test_data = train_test_split( df, test_size=0.2, random_state=42)\n",
        "train_data, val_data = train_test_split(train_and_val_data, test_size=0.2, random_state=42)"
      ],
      "metadata": {
        "id": "cP6UtJZ9jAex"
      },
      "execution_count": null,
      "outputs": []
    },
    {
      "cell_type": "code",
      "source": [
        "class BERT_Pairwise_Dataset(Dataset):\n",
        "\n",
        "    def __init__(self, data, maxlen, tokenizer):\n",
        "        #Store the contents of the file in a pandas dataframe\n",
        "        self.df = data.reset_index()\n",
        "        #Initialize the tokenizer for the desired transformer model\n",
        "        self.tokenizer = tokenizer\n",
        "        #Maximum length of the tokens list to keep all the sequences of fixed size\n",
        "        self.maxlen = maxlen\n",
        "\n",
        "    def __len__(self):\n",
        "        return self.df.shape[0]\n",
        "\n",
        "    def process_text(self, pred_x, pred_y):\n",
        "        #Preprocess the text to be suitable for the transformer\n",
        "        tokens_x = self.tokenizer.tokenize(pred_x)\n",
        "        tokens_y = self.tokenizer.tokenize(pred_y)\n",
        "        tokens = ['[CLS]'] + tokens_x + ['[SEP]'] + tokens_y + ['[SEP]']\n",
        "        if len(tokens) < self.maxlen:\n",
        "            tokens = tokens + ['[PAD]' for _ in range(self.maxlen - len(tokens))]\n",
        "        else:\n",
        "            tokens = tokens[:self.maxlen-1] + ['[SEP]']\n",
        "        #Obtain the indices of the tokens in the BERT Vocabulary\n",
        "        input_ids = self.tokenizer.convert_tokens_to_ids(tokens)\n",
        "        input_ids = torch.tensor(input_ids)\n",
        "        #Obtain the attention mask i.e a tensor containing 1s for no padded tokens and 0s for padded ones\n",
        "        attention_mask = (input_ids != 0).long()\n",
        "\n",
        "        return input_ids, attention_mask\n",
        "\n",
        "\n",
        "    def __getitem__(self, index):\n",
        "\n",
        "        # Extract the input features and target\n",
        "        num_features = torch.tensor(self.df.drop(['index', 'Prediction_x', 'Prediction_y', 'comparison'], axis=1).iloc[index].values, dtype=torch.float32)\n",
        "\n",
        "        try:\n",
        "            comparison = self.df.loc[index, 'comparison']\n",
        "        except:\n",
        "            comparison = -1.0\n",
        "\n",
        "        #Select the sentence and label at the specified index in the data frame\n",
        "        pred_x = self.df.loc[index, 'Prediction_x']\n",
        "\n",
        "        pred_y = self.df.loc[index, 'Prediction_y']\n",
        "\n",
        "        inputs_ids, attention_mask = self.process_text(pred_x, pred_y)\n",
        "\n",
        "        return num_features, inputs_ids, attention_mask, comparison"
      ],
      "metadata": {
        "id": "8-wwtkgQjI__"
      },
      "execution_count": null,
      "outputs": []
    },
    {
      "cell_type": "code",
      "source": [
        "BATCH_SIZE = 64\n",
        "config = AutoConfig.from_pretrained('bert-base-uncased')\n",
        "tokenizer = AutoTokenizer.from_pretrained('bert-base-uncased')"
      ],
      "metadata": {
        "id": "d32W59IkkoV4"
      },
      "execution_count": null,
      "outputs": []
    },
    {
      "cell_type": "code",
      "source": [
        "## Training Dataset\n",
        "train_set = BERT_Pairwise_Dataset(data=train_data, maxlen=2*MAX_LEN_TRAIN, tokenizer=tokenizer)    #Note the MAX_LEN_... is exactly the same as in Bert Pointwise as using same predictions\n",
        "valid_set = BERT_Pairwise_Dataset(data=val_data, maxlen=2*MAX_LEN_VALID, tokenizer=tokenizer)\n",
        "test_set = BERT_Pairwise_Dataset(data=test_data, maxlen=2*MAX_LEN_TEST, tokenizer=tokenizer)\n",
        "\n",
        "## Data Loaders\n",
        "bert_pairwise_train_loader = DataLoader(dataset=train_set, batch_size=BATCH_SIZE)\n",
        "bert_pairwise_valid_loader = DataLoader(dataset=valid_set, batch_size=BATCH_SIZE)\n",
        "bert_pairwise_test_loader = DataLoader(dataset=test_set, batch_size=BATCH_SIZE)"
      ],
      "metadata": {
        "id": "u7VW9-xVkxQ6"
      },
      "execution_count": null,
      "outputs": []
    },
    {
      "cell_type": "code",
      "source": [
        "\n",
        "class BERT_Pairwise(BertPreTrainedModel):\n",
        "    def __init__(self, config, hidden_layer_size, freeze_bert=False, dropout = 0):\n",
        "        super().__init__(config)\n",
        "        self.bert = BertModel(config)\n",
        "\n",
        "        if freeze_bert:\n",
        "            for param in self.bert.parameters():\n",
        "                param.requires_grad = False\n",
        "\n",
        "        #The output layer that takes the [CLS] representation and gives an output\n",
        "        self.cls_linear1 = nn.Linear(config.hidden_size + 7, hidden_layer_size)   #note using BERT embedding then adding the 7 numerical features\n",
        "        self.relu1 = nn.ReLU()\n",
        "        self.linear2 = nn.Linear(hidden_layer_size,2)\n",
        "        self.dropout1 = nn.Dropout(dropout)\n",
        "        self.dropout2 = nn.Dropout(dropout)\n",
        "\n",
        "\n",
        "\n",
        "    def forward(self, num_features, inputs_ids, attention_mask):\n",
        "        #For first prediction\n",
        "        #Feed the input to Bert model to obtain contextualized representations\n",
        "        outputs = self.bert(input_ids= inputs_ids, attention_mask=attention_mask)\n",
        "        #Obtain the representations of [CLS] heads\n",
        "        logits = outputs.last_hidden_state[:,0,:]\n",
        "\n",
        "        X = torch.cat((logits, num_features), -1).to(torch.float32)  #concatenate the numerical and textual data\n",
        "\n",
        "        output = self.cls_linear1(X)\n",
        "        output = self.relu1(output)\n",
        "        output = self.dropout1(output)\n",
        "        output = self.linear2(output)\n",
        "        output = self.dropout2(output)\n",
        "        return F.log_softmax(output, dim=1)\n",
        "\n"
      ],
      "metadata": {
        "id": "j5Yka59_k9yN"
      },
      "execution_count": null,
      "outputs": []
    },
    {
      "cell_type": "code",
      "source": [
        "#training\n",
        "bert_pairwise_frozen = BERT_Pairwise(config, 200, freeze_bert = True, dropout = 0.5).to(device)\n",
        "\n",
        "num_epochs = 10\n",
        "learning_rate = 0.001\n",
        "\n",
        "# Define the loss function and optimizer\n",
        "loss_function = nn.NLLLoss()\n",
        "optimizer = optim.Adam(bert_pairwise_frozen.parameters(), lr=learning_rate)\n",
        "\n",
        "bert_pr_training_loss = []\n",
        "bert_pr_val_loss = []\n",
        "bert_pr_training_accuracy = []\n",
        "bert_pr_val_accuracy = []\n",
        "# Training loop\n",
        "for epoch in range(num_epochs):\n",
        "    bert_pairwise_frozen.train()  # Set the model to training mode\n",
        "\n",
        "    running_loss = 0.0\n",
        "    correct = 0\n",
        "    total = 0\n",
        "    print(\"Epoch: \", epoch)\n",
        "    # Training the model\n",
        "    with tqdm(bert_pairwise_train_loader, unit=\"batch\") as tepoch:\n",
        "\n",
        "          for num_features, inputs_ids, attention_mask, true_comparison in tepoch:\n",
        "\n",
        "              num_features, inputs_ids, attention_mask, true_comparison = num_features.to(device), inputs_ids.to(device), attention_mask.to(device), true_comparison.to(device)\n",
        "\n",
        "              optimizer.zero_grad()\n",
        "\n",
        "              pred_comparison = bert_pairwise_frozen(num_features, inputs_ids, attention_mask)\n",
        "\n",
        "              loss = loss_function(pred_comparison, true_comparison)\n",
        "\n",
        "              loss.backward()\n",
        "              optimizer.step()\n",
        "\n",
        "              running_loss += loss.item()\n",
        "\n",
        "              total += y_true.size(0)\n",
        "              y_label = torch.argmax(y_pred, axis =1)\n",
        "              correct += torch.sum(y_label == y_true).item()\n",
        "\n",
        "    # Print the average loss for the epoch\n",
        "    average_loss = running_loss / len(bert_pairwise_train_loader)\n",
        "\n",
        "    print(f\"Loss for Epoch: {epoch + 1}/{num_epochs}, {average_loss}\")\n",
        "    bert_pr_training_loss.append(average_loss)\n",
        "\n",
        "    print('Training accuracy of epoch: %d %% \\n' % (100 * correct / total))\n",
        "    bert_pr_training_accuracy.append((100 * correct / total))\n",
        "\n",
        "    # Validation loop\n",
        "    bert_pairwise_frozen.eval()  # Set the model to evaluation mode\n",
        "    val_loss = 0.0\n",
        "    val_total = 0\n",
        "    val_correct = 0\n",
        "    with torch.no_grad():\n",
        "       with tqdm(bert_pairwise_valid_loader, unit=\"batch\") as tepoch:\n",
        "          for num_features, inputs_ids, attention_mask, true_comparison in tepoch:\n",
        "\n",
        "              num_features, inputs_ids, attention_mask, true_comparison = num_features.to(device), inputs_ids.to(device), attention_mask.to(device), true_comparison.to(device)\n",
        "\n",
        "              pred_comparison = bert_pairwise_frozen(num_features, inputs_ids, attention_mask)\n",
        "\n",
        "              loss = loss_function(pred_comparison, true_comparison)\n",
        "\n",
        "              val_loss += loss.item()\n",
        "\n",
        "              val_total += y_true.size(0)\n",
        "              y_label = torch.argmax(y_pred, axis =1)\n",
        "              val_correct += torch.sum(y_label == y_true).item()\n",
        "\n",
        "    # Print the validation loss for the epoch.\n",
        "    average_val_loss = val_loss / len(bert_pairwise_valid_loader)\n",
        "    print(f\"Validation Loss: {average_val_loss}\")\n",
        "    bert_pr_val_loss.append(average_val_loss)\n",
        "\n",
        "    print('Validation accuracy of epoch: %d %% \\n' % (100 * val_correct / val_total))\n",
        "    bert_pr_val_accuracy.append((100 * val_correct / val_total))\n",
        "\n",
        "\n",
        "\n",
        "\n",
        "# Testing loop\n",
        "bert_pairwise_frozen.eval()  # Set the model to evaluation mode\n",
        "test_loss = 0.0\n",
        "test_correct = 0\n",
        "test_total = 0\n",
        "with torch.no_grad():\n",
        "  with tqdm(bert_pairwise_test_loader, unit=\"batch\") as tepoch:\n",
        "      for num_features, inputs_ids, attention_mask, true_comparison in tepoch:\n",
        "\n",
        "              num_features, inputs_ids, attention_mask, true_comparison = num_features.to(device), inputs_ids.to(device), attention_mask.to(device), true_comparison.to(device)\n",
        "\n",
        "              pred_comparison = bert_pairwise_frozen(num_features, inputs_ids, attention_mask)\n",
        "\n",
        "              loss = loss_function(pred_comparison, true_comparison)\n",
        "\n",
        "              test_loss += loss.item()\n",
        "\n",
        "              test_total += y_true.size(0)\n",
        "              y_label = torch.argmax(y_pred, axis =1)\n",
        "              test_correct += torch.sum(y_label == y_true).item()\n",
        "\n",
        "# Print the average test loss\n",
        "average_test_loss = test_loss / len(bert_pairwise_test_loader)\n",
        "print(f\"Average Test Loss: {average_test_loss}\")\n",
        "print('Validation accuracy of epoch: %d %% \\n' % (100 * test_correct / test_total))\n"
      ],
      "metadata": {
        "id": "999DvHITmIf7"
      },
      "execution_count": null,
      "outputs": []
    },
    {
      "cell_type": "code",
      "source": [
        "plt.plot(bert_pr_training_loss)\n",
        "plt.plot(bert_pr_val_loss)\n",
        "plt.show()\n",
        "\n",
        "plt.plot(bert_pr_training_accuracy)\n",
        "plt.plot(bert_pr_val_accuracy)\n",
        "plt.show()"
      ],
      "metadata": {
        "id": "80Jy_D1jM0s0"
      },
      "execution_count": null,
      "outputs": []
    },
    {
      "cell_type": "code",
      "source": [
        "#training\n",
        "bert_pairwise = BERT_Pairwise(config, 200, freeze_bert = False, dropout = 0.5).to(device)\n",
        "\n",
        "num_epochs = 10\n",
        "learning_rate = 0.001\n",
        "\n",
        "# Define the loss function and optimizer\n",
        "loss_function = nn.NLLLoss()\n",
        "optimizer = optim.Adam(bert_pairwise.parameters(), lr=learning_rate)\n",
        "\n",
        "bert_pr_training_loss = []\n",
        "bert_pr_val_loss = []\n",
        "bert_pr_training_accuracy = []\n",
        "bert_pr_val_accuracy = []\n",
        "# Training loop\n",
        "for epoch in range(num_epochs):\n",
        "    bert_pairwise.train()  # Set the model to training mode\n",
        "\n",
        "    running_loss = 0.0\n",
        "    correct = 0\n",
        "    total = 0\n",
        "    print(\"Epoch: \", epoch)\n",
        "    # Training the model\n",
        "    with tqdm(bert_pairwise_train_loader, unit=\"batch\") as tepoch:\n",
        "\n",
        "          for num_features, inputs_ids, attention_mask, true_comparison in tepoch:\n",
        "\n",
        "              num_features, inputs_ids, attention_mask, true_comparison = num_features.to(device), inputs_ids.to(device), attention_mask.to(device), true_comparison.to(device)\n",
        "\n",
        "              optimizer.zero_grad()\n",
        "\n",
        "              pred_comparison = bert_pairwise(num_features, inputs_ids, attention_mask)\n",
        "\n",
        "              loss = loss_function(pred_comparison, true_comparison)\n",
        "\n",
        "              loss.backward()\n",
        "              optimizer.step()\n",
        "\n",
        "              running_loss += loss.item()\n",
        "\n",
        "              total += y_true.size(0)\n",
        "              y_label = torch.argmax(y_pred, axis =1)\n",
        "              correct += torch.sum(y_label == y_true).item()\n",
        "\n",
        "    # Print the average loss for the epoch\n",
        "    average_loss = running_loss / len(bert_pairwise_train_loader)\n",
        "\n",
        "    print(f\"Loss for Epoch: {epoch + 1}/{num_epochs}, {average_loss}\")\n",
        "    bert_pr_training_loss.append(average_loss)\n",
        "\n",
        "    print('Training accuracy of epoch: %d %% \\n' % (100 * correct / total))\n",
        "    bert_pr_training_accuracy.append((100 * correct / total))\n",
        "\n",
        "    # Validation loop\n",
        "    bert_pointwise.eval()  # Set the model to evaluation mode\n",
        "    val_loss = 0.0\n",
        "    val_total = 0\n",
        "    val_correct = 0\n",
        "    with torch.no_grad():\n",
        "       with tqdm(bert_pairwise_valid_loader, unit=\"batch\") as tepoch:\n",
        "          for num_features, inputs_ids, attention_mask, true_comparison in tepoch:\n",
        "\n",
        "              num_features, inputs_ids, attention_mask, true_comparison = num_features.to(device), inputs_ids.to(device), attention_mask.to(device), true_comparison.to(device)\n",
        "\n",
        "              pred_comparison = bert_pairwise(num_features, inputs_ids, attention_mask)\n",
        "\n",
        "              loss = loss_function(pred_comparison, true_comparison)\n",
        "\n",
        "              val_loss += loss.item()\n",
        "\n",
        "              val_total += y_true.size(0)\n",
        "              y_label = torch.argmax(y_pred, axis =1)\n",
        "              val_correct += torch.sum(y_label == y_true).item()\n",
        "\n",
        "    # Print the validation loss for the epoch.\n",
        "    average_val_loss = val_loss / len(bert_pairwise_valid_loader)\n",
        "    print(f\"Validation Loss: {average_val_loss}\")\n",
        "    bert_pr_val_loss.append(average_val_loss)\n",
        "\n",
        "    print('Validation accuracy of epoch: %d %% \\n' % (100 * val_correct / val_total))\n",
        "    bert_pr_val_accuracy.append((100 * val_correct / val_total))\n",
        "\n",
        "\n",
        "\n",
        "\n",
        "# Testing loop\n",
        "bert_pairwise.eval()  # Set the model to evaluation mode\n",
        "test_loss = 0.0\n",
        "test_correct = 0\n",
        "test_total = 0\n",
        "with torch.no_grad():\n",
        "  with tqdm(bert_pairwise_test_loader, unit=\"batch\") as tepoch:\n",
        "      for num_features, inputs_ids, attention_mask, true_comparison in tepoch:\n",
        "\n",
        "              num_features, inputs_ids, attention_mask, true_comparison = num_features.to(device), inputs_ids.to(device), attention_mask.to(device), true_comparison.to(device)\n",
        "\n",
        "              pred_comparison = bert_pairwise(num_features, inputs_ids, attention_mask)\n",
        "\n",
        "              loss = loss_function(pred_comparison, true_comparison)\n",
        "\n",
        "              test_loss += loss.item()\n",
        "\n",
        "              test_total += y_true.size(0)\n",
        "              y_label = torch.argmax(y_pred, axis =1)\n",
        "              test_correct += torch.sum(y_label == y_true).item()\n",
        "\n",
        "# Print the average test loss\n",
        "average_test_loss = test_loss / len(bert_pairwise_test_loader)\n",
        "print(f\"Average Test Loss: {average_test_loss}\")\n",
        "print('Validation accuracy of epoch: %d %% \\n' % (100 * test_correct / test_total))\n"
      ],
      "metadata": {
        "id": "BfKbOASCEHEb"
      },
      "execution_count": null,
      "outputs": []
    },
    {
      "cell_type": "markdown",
      "source": [
        "# NDCG Evaluation\n"
      ],
      "metadata": {
        "id": "5SUuc5INTBVl"
      }
    },
    {
      "cell_type": "markdown",
      "source": [
        "###Set File Names\n"
      ],
      "metadata": {
        "id": "FFL3XrpHndTJ"
      }
    },
    {
      "cell_type": "code",
      "source": [
        "#The file that contains the predictions\n",
        "file_names = [\n",
        "    \"bert_frozen_evaluation_pairwise.csv\",\n",
        "    \"bert_frozen_evaluation_pointwise.csv\",\n",
        "    \"bert_fine_tune_evaluation_pointwise.csv\",\n",
        "    \"bert_fine_tuned_evaluation_pairwise.csv\",\n",
        "    \"tf_idf_evaluation_pairwise.csv\",\n",
        "    \"tf_idf_evaluation_pointwise.csv\"\n",
        "]\n"
      ],
      "metadata": {
        "id": "vh0XmVUSniaP"
      },
      "execution_count": null,
      "outputs": []
    },
    {
      "cell_type": "code",
      "source": [
        "#imports used\n",
        "import pandas as pd\n",
        "import numpy as np\n",
        "import math\n",
        "import statistics\n",
        "import scipy"
      ],
      "metadata": {
        "id": "OUDsTGlrUUwD"
      },
      "execution_count": null,
      "outputs": []
    },
    {
      "cell_type": "markdown",
      "source": [
        "###Calculation Functions"
      ],
      "metadata": {
        "id": "sUY6ssWioKf2"
      }
    },
    {
      "cell_type": "markdown",
      "source": [
        "####DCG function"
      ],
      "metadata": {
        "id": "KP0DfpdxWokL"
      }
    },
    {
      "cell_type": "code",
      "source": [
        "#Function used to calculate the discounted comulative gain, see report for formula and details\n",
        "def dcg(posList, p_is_default, p):\n",
        "    #p is the cutoff point for our ranking calculation. It can be altered to however many horses we want to take into\n",
        "    #consideraton\n",
        "    #Set p to default value\n",
        "    if p_is_default:\n",
        "      p = len(posList)\n",
        "    #Otherwise p is the value set by the parameter p chosen by the user\n",
        "\n",
        "    #Make sure there are at least p horses\n",
        "    if len(posList)  >= p:\n",
        "      sum = 0\n",
        "      for i in range(0, p):\n",
        "          rel_i = 1 / posList[i]\n",
        "          curHorse = (pow(2, rel_i) - 1) / math.log2(i + 2)\n",
        "          sum += curHorse\n",
        "    #Used to not take into account races with less than p horses\n",
        "    else:\n",
        "      return -1\n",
        "\n",
        "    return sum"
      ],
      "metadata": {
        "id": "BAAjGigSUch5"
      },
      "execution_count": null,
      "outputs": []
    },
    {
      "cell_type": "markdown",
      "source": [
        "####nDCG Function"
      ],
      "metadata": {
        "id": "fpIzltgqWxqY"
      }
    },
    {
      "cell_type": "code",
      "source": [
        "# Function used to calculate the normalised Discounted Cumulative Gain using the DCG formula above.\n",
        "#nDCG = DCG / iDCG, see report for more details\n",
        "def nDCG(fakePositions, realPositions,is_P_Default, p):\n",
        "    # idcg is the best possible dcg value, used to normalise our dcg value. i for 'ideal'\n",
        "    iDCG = dcg(sorted(realPositions, reverse=False),is_P_Default, p)\n",
        "    # Invalid values\n",
        "    if iDCG <= 0:\n",
        "        return 0\n",
        "    elif np.isnan(iDCG):\n",
        "        return 0\n",
        "    else:\n",
        "        # Calculate DCG\n",
        "        dcg_val = dcg(fakePositions, is_P_Default, p)\n",
        "        # Normalise\n",
        "        return dcg_val / iDCG"
      ],
      "metadata": {
        "id": "GIHwC8ecTMt4"
      },
      "execution_count": null,
      "outputs": []
    },
    {
      "cell_type": "markdown",
      "source": [
        "###Processing the CSV File"
      ],
      "metadata": {
        "id": "-62oDPztW7Nq"
      }
    },
    {
      "cell_type": "markdown",
      "source": [
        "####Parsing Each Race"
      ],
      "metadata": {
        "id": "hii0-JQrobxL"
      }
    },
    {
      "cell_type": "code",
      "source": [
        "#Function used to process csv file that contains data that contains the a set of races. Each row represents a race.\n",
        "#For each race, the race can be identified by the race ID. There are then two lists, one contains an ordered list of the horses by their\n",
        "#names as predicted by the model and the other a list of the results of the race with the names of the horse as an orderd list.\n",
        "#The first row looks like this:\n",
        "#,Race_id,Predictions,Results\n",
        "#Takes a panda data frame of the csv file as a parameter and returns the average nDCG score across all races\n",
        "def calculateNDCG(df,is_P_Default, p):\n",
        "    ndcgs = []\n",
        "    #Processing the date in order to calculate the NDCG scores.\n",
        "    for row in df.iterrows():\n",
        "        # basically was treating row as tuple\n",
        "        fake = row[1]['Predictions'].replace(\"[\", \"\").replace(\"]\", \"\").replace('\"', \"\").replace(\"'\", \"\").strip().split(\n",
        "            \",\")  #strip stuff we dont want and split by comma\n",
        "        true = row[1]['Results'].replace(\"[\", \"\").replace(\"]\", \"\").replace('\"', \"\").replace(\"'\", \"\").strip().split(\",\")\n",
        "\n",
        "        for i in true:\n",
        "            stripped = [j.strip() for j in i.split(\"_\")]  # was some weird space between certain words before a _\n",
        "            true[true.index(i)] = '_'.join(stripped)\n",
        "\n",
        "        min_len = min(len(fake),\n",
        "                      len(true))  # due to NR horses and other stuff, different lengths so taking to min length, as starting from index 0, only low ranked horses will be lost\n",
        "\n",
        "        # only taking high positioned horses\n",
        "        true_indices = []\n",
        "        for i in true:\n",
        "            if len(true_indices) < min_len:\n",
        "                true_indices.append(len(true_indices) + 1)  # get indices for each horse\n",
        "\n",
        "        fake_indices = []\n",
        "        for i in fake:\n",
        "            i = i.lstrip()  # was an odd whitespace at start of id so removed\n",
        "            if (\n",
        "                    len(fake_indices) < min_len) and i in true:  # sometimes the fake horse not in true horses (NR) so check that and make sure we dont get too high\n",
        "                fake_indices.append(true.index(i) + 1)  # get index from true horses\n",
        "\n",
        "\n",
        "        ndcgs.append(nDCG(fake_indices, true_indices, is_P_Default, p))\n",
        "\n",
        "    return ndcgs"
      ],
      "metadata": {
        "id": "yyufWLJ0VZML"
      },
      "execution_count": null,
      "outputs": []
    },
    {
      "cell_type": "markdown",
      "source": [
        "####Creating the Data Frame\n",
        " File and"
      ],
      "metadata": {
        "id": "WzYTild5XCnk"
      }
    },
    {
      "cell_type": "code",
      "source": [
        "#Reads in all of the files and returns a dictionary: [fname : df]\n",
        "def files_to_DF(file_names):\n",
        "    dfs = {}\n",
        "    for fname in file_names:\n",
        "        df = pd.read_csv(fname)\n",
        "        df = df.drop(df.columns[0], axis=1)\n",
        "        dfs[fname] = df\n",
        "    return dfs\n",
        "\n",
        "\n",
        "dfs = files_to_DF(file_names)"
      ],
      "metadata": {
        "id": "MG--LCXSWah0"
      },
      "execution_count": null,
      "outputs": []
    },
    {
      "cell_type": "markdown",
      "source": [
        "####Calculating nDCG Scores"
      ],
      "metadata": {
        "id": "5--AJTLK4KXA"
      }
    },
    {
      "cell_type": "markdown",
      "source": [
        "###Displaying Results of Evaluation\n"
      ],
      "metadata": {
        "id": "xuZ4bj7DmRpJ"
      }
    },
    {
      "cell_type": "markdown",
      "source": [
        "####TFIDF vs BERT"
      ],
      "metadata": {
        "id": "Gnhn9NLk5vWd"
      }
    },
    {
      "cell_type": "code",
      "source": [
        "ndcg_scores_default = {}  # Dictionary to store NDCG scores with default p\n",
        "ndcg_scores_pSet = {}  # Dictionary to store NDCG scores with p set to 3\n",
        "\n",
        "for fname, df in dfs.items():\n",
        "    is_P_Default = True\n",
        "    p = 0\n",
        "\n",
        "    # Calculate NDCG scores without specifying p\n",
        "    ndcg_scores_default[fname] = calculateNDCG(df, is_P_Default, p)\n",
        "\n",
        "    is_P_Default = False\n",
        "    p = 3\n",
        "\n",
        "    # Calculate NDCG scores with p = 3\n",
        "    ndcg_scores_pSet[fname] = calculateNDCG(df, is_P_Default, p)"
      ],
      "metadata": {
        "id": "cTnfcxcszy5i"
      },
      "execution_count": null,
      "outputs": []
    },
    {
      "cell_type": "markdown",
      "source": [
        "####PointWise vs PairWise"
      ],
      "metadata": {
        "id": "0iYIUXy_mpjm"
      }
    },
    {
      "cell_type": "code",
      "source": [
        "# Prepare data for the bar chart\n",
        "pointwise_scores = [statistics.mean(ndcg_scores_default[fname]) for fname in file_names if 'pointwise' in fname]\n",
        "pairwise_scores = [statistics.mean(ndcg_scores_default[fname]) for fname in file_names if 'pairwise' in fname]\n",
        "\n",
        "# Set the width of the bars\n",
        "bar_width = 0.35\n",
        "\n",
        "# Set the position of the bars on the x-axis\n",
        "r = np.arange(len(pointwise_scores))\n",
        "\n",
        "# Create the bar chart\n",
        "fig, ax = plt.subplots()\n",
        "pointwise_bars = ax.bar(r, pointwise_scores, width=bar_width, label='Pointwise')\n",
        "pairwise_bars = ax.bar(r + bar_width, pairwise_scores, width=bar_width, label='Pairwise')\n",
        "\n",
        "# Add labels, title, and legend\n",
        "plt.xlabel('Models')\n",
        "plt.ylabel('NDCG Scores')\n",
        "plt.title('Comparison of NDCG Scores: Pointwise vs. Pairwise')\n",
        "plt.xticks(r + bar_width / 2, ('bertfrozen', 'bertfinetune', 'tfidf'))\n",
        "plt.legend()\n",
        "\n",
        "# Set colors for pointwise and pairwise bars\n",
        "pointwise_bars[0].set_color('tab:blue')\n",
        "pointwise_bars[1].set_color('tab:blue')\n",
        "pointwise_bars[2].set_color('tab:blue')\n",
        "pairwise_bars[0].set_color('tab:red')\n",
        "pairwise_bars[1].set_color('tab:red')\n",
        "pairwise_bars[2].set_color('tab:red')\n",
        "\n",
        "# Create the legend for bar colors\n",
        "pointwise_patch = plt.Line2D([0], [0], color='tab:blue', lw=4)\n",
        "pairwise_patch = plt.Line2D([0], [0], color='tab:red', lw=4)\n",
        "plt.legend([pointwise_patch, pairwise_patch], ['Pointwise', 'Pairwise'], loc='upper right')\n",
        "\n",
        "# Show the graph\n",
        "plt.show()"
      ],
      "metadata": {
        "id": "IXP7_Wkjm1wL",
        "colab": {
          "base_uri": "https://localhost:8080/",
          "height": 472
        },
        "outputId": "fbefe2da-e0c1-4670-d5e6-55f3877359bb"
      },
      "execution_count": null,
      "outputs": [
        {
          "output_type": "display_data",
          "data": {
            "text/plain": [
              "<Figure size 640x480 with 1 Axes>"
            ],
            "image/png": "[encoded data removed]"
          },
          "metadata": {}
        }
      ]
    },
    {
      "cell_type": "markdown",
      "source": [
        "####P vs All Horses"
      ],
      "metadata": {
        "id": "DpcpYbqz1Hro"
      }
    },
    {
      "cell_type": "code",
      "source": [
        "# Prepare data for histogram\n",
        "categories = ['p not set', 'p set']\n",
        "scores_default = [statistics.mean(scores) for scores in ndcg_scores_default.values()]\n",
        "scores_pSet = [statistics.mean(scores) for scores in ndcg_scores_pSet.values()]\n",
        "\n",
        "# Set colors for bars\n",
        "colors = ['lightblue', 'lightgreen']\n",
        "\n",
        "# Plot the histogram\n",
        "plt.hist([scores_default, scores_pSet], bins=10, color=colors, label=categories)\n",
        "\n",
        "# Add labels and title\n",
        "plt.xlabel('NDCG Scores')\n",
        "plt.ylabel('Frequency')\n",
        "plt.title('Comparison of NDCG Scores - p set vs p not set')\n",
        "\n",
        "# Add legend\n",
        "plt.legend()\n",
        "\n",
        "# Show the histogram\n",
        "plt.show()"
      ],
      "metadata": {
        "colab": {
          "base_uri": "https://localhost:8080/",
          "height": 472
        },
        "id": "UICan4pI1Lj_",
        "outputId": "eea0eb1a-73cd-469d-bd20-0cf7f8b20ef0"
      },
      "execution_count": null,
      "outputs": [
        {
          "output_type": "display_data",
          "data": {
            "text/plain": [
              "<Figure size 640x480 with 1 Axes>"
            ],
            "image/png": "[encoded data removed]"
          },
          "metadata": {}
        }
      ]
    },
    {
      "cell_type": "markdown",
      "source": [
        "#Statistical Analysis of Results"
      ],
      "metadata": {
        "id": "hErtvOIIGPsm"
      }
    },
    {
      "cell_type": "markdown",
      "source": [
        "##T-test"
      ],
      "metadata": {
        "id": "qfToxhSgHtNb"
      }
    },
    {
      "cell_type": "code",
      "source": [
        "from scipy import stats\n",
        "\n",
        "def ndcg_t_test(scores_a, scores_b):\n",
        "    # Step 1: Calculate the differences\n",
        "    differences = [a - b for a, b in zip(scores_a, scores_b)]\n",
        "\n",
        "    # Step 2: Compute the mean difference\n",
        "    mean_difference = sum(differences) / len(differences)\n",
        "\n",
        "    # Step 3: Calculate the standard deviation of the differences\n",
        "    standard_deviation = stats.tstd(differences)\n",
        "\n",
        "    # Step 4: Perform the paired t-test\n",
        "    t_value, p_value = stats.ttest_rel(scores_a, scores_b)\n",
        "\n",
        "    # Step 5: Compare the calculated t-value with the critical t-value\n",
        "    alpha = 0.05  # Significance level\n",
        "    critical_t_value = stats.t.ppf(1 - alpha/2, len(differences) - 1)\n",
        "\n",
        "    # Step 6: Interpret the results\n",
        "    if t_value > critical_t_value:\n",
        "        result = \"There is a statistically significant difference.\"\n",
        "    else:\n",
        "        result = \"There is no statistically significant difference.\"\n",
        "\n",
        "    return result, p_value\n",
        "\n",
        "\n",
        "#Results when p is default\n",
        "result, p_value = ndcg_t_test(pointwise_scores, pairwise_scores)\n",
        "print(\"T-test comparing the algorithms where p is default\")\n",
        "print(result)\n",
        "print(\"p-value:\", p_value)\n",
        "\n",
        "#Results when p is set\n",
        "print(f\"T-test comparing the algorithms where p is set to {p}\")\n",
        "result, p_value = ndcg_t_test(pointwise_scores_pSet, pairwise_scores_pSet)\n",
        "print(result)\n",
        "print(\"p-value:\", p_value)\n",
        "\n"
      ],
      "metadata": {
        "id": "B1XKiVMuGaRu",
        "colab": {
          "base_uri": "https://localhost:8080/"
        },
        "outputId": "c2e99be1-fe22-4299-f47e-cd442bb74539"
      },
      "execution_count": null,
      "outputs": [
        {
          "output_type": "stream",
          "name": "stdout",
          "text": [
            "T-test comparing the algorithms where p is default\n",
            "There is no statistically significant difference.\n",
            "p-value: 0.21125596077870668\n",
            "T-test comparing the algorithms where p is set to 3\n",
            "There is no statistically significant difference.\n",
            "p-value: 0.13720569318939446\n"
          ]
        }
      ]
    },
    {
      "cell_type": "markdown",
      "source": [
        "#Test Data Processing"
      ],
      "metadata": {
        "id": "vmHuE95IZGu-"
      }
    },
    {
      "cell_type": "code",
      "source": [
        "df_pred_test = pd.read_csv(\"preds_test.csv\")"
      ],
      "metadata": {
        "id": "kl73TklO2oI7",
        "colab": {
          "base_uri": "https://localhost:8080/",
          "height": 313
        },
        "outputId": "41624756-778e-496e-a633-fcaabe40e1d5"
      },
      "execution_count": null,
      "outputs": [
        {
          "output_type": "error",
          "ename": "FileNotFoundError",
          "evalue": "ignored",
          "traceback": [
            "\u001b[0;31m---------------------------------------------------------------------------\u001b[0m",
            "\u001b[0;31mFileNotFoundError\u001b[0m                         Traceback (most recent call last)",
            "\u001b[0;32m<ipython-input-19-f05b6e6f08c3>\u001b[0m in \u001b[0;36m<cell line: 1>\u001b[0;34m()\u001b[0m\n\u001b[0;32m----> 1\u001b[0;31m \u001b[0mdf_pred_test\u001b[0m \u001b[0;34m=\u001b[0m \u001b[0mpd\u001b[0m\u001b[0;34m.\u001b[0m\u001b[0mread_csv\u001b[0m\u001b[0;34m(\u001b[0m\u001b[0;34m\"preds_test.csv\"\u001b[0m\u001b[0;34m)\u001b[0m\u001b[0;34m\u001b[0m\u001b[0;34m\u001b[0m\u001b[0m\n\u001b[0m",
            "\u001b[0;32m/usr/local/lib/python3.10/dist-packages/pandas/util/_decorators.py\u001b[0m in \u001b[0;36mwrapper\u001b[0;34m(*args, **kwargs)\u001b[0m\n\u001b[1;32m    209\u001b[0m                 \u001b[0;32melse\u001b[0m\u001b[0;34m:\u001b[0m\u001b[0;34m\u001b[0m\u001b[0;34m\u001b[0m\u001b[0m\n\u001b[1;32m    210\u001b[0m                     \u001b[0mkwargs\u001b[0m\u001b[0;34m[\u001b[0m\u001b[0mnew_arg_name\u001b[0m\u001b[0;34m]\u001b[0m \u001b[0;34m=\u001b[0m \u001b[0mnew_arg_value\u001b[0m\u001b[0;34m\u001b[0m\u001b[0;34m\u001b[0m\u001b[0m\n\u001b[0;32m--> 211\u001b[0;31m             \u001b[0;32mreturn\u001b[0m \u001b[0mfunc\u001b[0m\u001b[0;34m(\u001b[0m\u001b[0;34m*\u001b[0m\u001b[0margs\u001b[0m\u001b[0;34m,\u001b[0m \u001b[0;34m**\u001b[0m\u001b[0mkwargs\u001b[0m\u001b[0;34m)\u001b[0m\u001b[0;34m\u001b[0m\u001b[0;34m\u001b[0m\u001b[0m\n\u001b[0m\u001b[1;32m    212\u001b[0m \u001b[0;34m\u001b[0m\u001b[0m\n\u001b[1;32m    213\u001b[0m         \u001b[0;32mreturn\u001b[0m \u001b[0mcast\u001b[0m\u001b[0;34m(\u001b[0m\u001b[0mF\u001b[0m\u001b[0;34m,\u001b[0m \u001b[0mwrapper\u001b[0m\u001b[0;34m)\u001b[0m\u001b[0;34m\u001b[0m\u001b[0;34m\u001b[0m\u001b[0m\n",
            "\u001b[0;32m/usr/local/lib/python3.10/dist-packages/pandas/util/_decorators.py\u001b[0m in \u001b[0;36mwrapper\u001b[0;34m(*args, **kwargs)\u001b[0m\n\u001b[1;32m    329\u001b[0m                     \u001b[0mstacklevel\u001b[0m\u001b[0;34m=\u001b[0m\u001b[0mfind_stack_level\u001b[0m\u001b[0;34m(\u001b[0m\u001b[0;34m)\u001b[0m\u001b[0;34m,\u001b[0m\u001b[0;34m\u001b[0m\u001b[0;34m\u001b[0m\u001b[0m\n\u001b[1;32m    330\u001b[0m                 )\n\u001b[0;32m--> 331\u001b[0;31m             \u001b[0;32mreturn\u001b[0m \u001b[0mfunc\u001b[0m\u001b[0;34m(\u001b[0m\u001b[0;34m*\u001b[0m\u001b[0margs\u001b[0m\u001b[0;34m,\u001b[0m \u001b[0;34m**\u001b[0m\u001b[0mkwargs\u001b[0m\u001b[0;34m)\u001b[0m\u001b[0;34m\u001b[0m\u001b[0;34m\u001b[0m\u001b[0m\n\u001b[0m\u001b[1;32m    332\u001b[0m \u001b[0;34m\u001b[0m\u001b[0m\n\u001b[1;32m    333\u001b[0m         \u001b[0;31m# error: \"Callable[[VarArg(Any), KwArg(Any)], Any]\" has no\u001b[0m\u001b[0;34m\u001b[0m\u001b[0;34m\u001b[0m\u001b[0m\n",
            "\u001b[0;32m/usr/local/lib/python3.10/dist-packages/pandas/io/parsers/readers.py\u001b[0m in \u001b[0;36mread_csv\u001b[0;34m(filepath_or_buffer, sep, delimiter, header, names, index_col, usecols, squeeze, prefix, mangle_dupe_cols, dtype, engine, converters, true_values, false_values, skipinitialspace, skiprows, skipfooter, nrows, na_values, keep_default_na, na_filter, verbose, skip_blank_lines, parse_dates, infer_datetime_format, keep_date_col, date_parser, dayfirst, cache_dates, iterator, chunksize, compression, thousands, decimal, lineterminator, quotechar, quoting, doublequote, escapechar, comment, encoding, encoding_errors, dialect, error_bad_lines, warn_bad_lines, on_bad_lines, delim_whitespace, low_memory, memory_map, float_precision, storage_options)\u001b[0m\n\u001b[1;32m    948\u001b[0m     \u001b[0mkwds\u001b[0m\u001b[0;34m.\u001b[0m\u001b[0mupdate\u001b[0m\u001b[0;34m(\u001b[0m\u001b[0mkwds_defaults\u001b[0m\u001b[0;34m)\u001b[0m\u001b[0;34m\u001b[0m\u001b[0;34m\u001b[0m\u001b[0m\n\u001b[1;32m    949\u001b[0m \u001b[0;34m\u001b[0m\u001b[0m\n\u001b[0;32m--> 950\u001b[0;31m     \u001b[0;32mreturn\u001b[0m \u001b[0m_read\u001b[0m\u001b[0;34m(\u001b[0m\u001b[0mfilepath_or_buffer\u001b[0m\u001b[0;34m,\u001b[0m \u001b[0mkwds\u001b[0m\u001b[0;34m)\u001b[0m\u001b[0;34m\u001b[0m\u001b[0;34m\u001b[0m\u001b[0m\n\u001b[0m\u001b[1;32m    951\u001b[0m \u001b[0;34m\u001b[0m\u001b[0m\n\u001b[1;32m    952\u001b[0m \u001b[0;34m\u001b[0m\u001b[0m\n",
            "\u001b[0;32m/usr/local/lib/python3.10/dist-packages/pandas/io/parsers/readers.py\u001b[0m in \u001b[0;36m_read\u001b[0;34m(filepath_or_buffer, kwds)\u001b[0m\n\u001b[1;32m    603\u001b[0m \u001b[0;34m\u001b[0m\u001b[0m\n\u001b[1;32m    604\u001b[0m     \u001b[0;31m# Create the parser.\u001b[0m\u001b[0;34m\u001b[0m\u001b[0;34m\u001b[0m\u001b[0m\n\u001b[0;32m--> 605\u001b[0;31m     \u001b[0mparser\u001b[0m \u001b[0;34m=\u001b[0m \u001b[0mTextFileReader\u001b[0m\u001b[0;34m(\u001b[0m\u001b[0mfilepath_or_buffer\u001b[0m\u001b[0;34m,\u001b[0m \u001b[0;34m**\u001b[0m\u001b[0mkwds\u001b[0m\u001b[0;34m)\u001b[0m\u001b[0;34m\u001b[0m\u001b[0;34m\u001b[0m\u001b[0m\n\u001b[0m\u001b[1;32m    606\u001b[0m \u001b[0;34m\u001b[0m\u001b[0m\n\u001b[1;32m    607\u001b[0m     \u001b[0;32mif\u001b[0m \u001b[0mchunksize\u001b[0m \u001b[0;32mor\u001b[0m \u001b[0miterator\u001b[0m\u001b[0;34m:\u001b[0m\u001b[0;34m\u001b[0m\u001b[0;34m\u001b[0m\u001b[0m\n",
            "\u001b[0;32m/usr/local/lib/python3.10/dist-packages/pandas/io/parsers/readers.py\u001b[0m in \u001b[0;36m__init__\u001b[0;34m(self, f, engine, **kwds)\u001b[0m\n\u001b[1;32m   1440\u001b[0m \u001b[0;34m\u001b[0m\u001b[0m\n\u001b[1;32m   1441\u001b[0m         \u001b[0mself\u001b[0m\u001b[0;34m.\u001b[0m\u001b[0mhandles\u001b[0m\u001b[0;34m:\u001b[0m \u001b[0mIOHandles\u001b[0m \u001b[0;34m|\u001b[0m \u001b[0;32mNone\u001b[0m \u001b[0;34m=\u001b[0m \u001b[0;32mNone\u001b[0m\u001b[0;34m\u001b[0m\u001b[0;34m\u001b[0m\u001b[0m\n\u001b[0;32m-> 1442\u001b[0;31m         \u001b[0mself\u001b[0m\u001b[0;34m.\u001b[0m\u001b[0m_engine\u001b[0m \u001b[0;34m=\u001b[0m \u001b[0mself\u001b[0m\u001b[0;34m.\u001b[0m\u001b[0m_make_engine\u001b[0m\u001b[0;34m(\u001b[0m\u001b[0mf\u001b[0m\u001b[0;34m,\u001b[0m \u001b[0mself\u001b[0m\u001b[0;34m.\u001b[0m\u001b[0mengine\u001b[0m\u001b[0;34m)\u001b[0m\u001b[0;34m\u001b[0m\u001b[0;34m\u001b[0m\u001b[0m\n\u001b[0m\u001b[1;32m   1443\u001b[0m \u001b[0;34m\u001b[0m\u001b[0m\n\u001b[1;32m   1444\u001b[0m     \u001b[0;32mdef\u001b[0m \u001b[0mclose\u001b[0m\u001b[0;34m(\u001b[0m\u001b[0mself\u001b[0m\u001b[0;34m)\u001b[0m \u001b[0;34m->\u001b[0m \u001b[0;32mNone\u001b[0m\u001b[0;34m:\u001b[0m\u001b[0;34m\u001b[0m\u001b[0;34m\u001b[0m\u001b[0m\n",
            "\u001b[0;32m/usr/local/lib/python3.10/dist-packages/pandas/io/parsers/readers.py\u001b[0m in \u001b[0;36m_make_engine\u001b[0;34m(self, f, engine)\u001b[0m\n\u001b[1;32m   1733\u001b[0m                 \u001b[0;32mif\u001b[0m \u001b[0;34m\"b\"\u001b[0m \u001b[0;32mnot\u001b[0m \u001b[0;32min\u001b[0m \u001b[0mmode\u001b[0m\u001b[0;34m:\u001b[0m\u001b[0;34m\u001b[0m\u001b[0;34m\u001b[0m\u001b[0m\n\u001b[1;32m   1734\u001b[0m                     \u001b[0mmode\u001b[0m \u001b[0;34m+=\u001b[0m \u001b[0;34m\"b\"\u001b[0m\u001b[0;34m\u001b[0m\u001b[0;34m\u001b[0m\u001b[0m\n\u001b[0;32m-> 1735\u001b[0;31m             self.handles = get_handle(\n\u001b[0m\u001b[1;32m   1736\u001b[0m                 \u001b[0mf\u001b[0m\u001b[0;34m,\u001b[0m\u001b[0;34m\u001b[0m\u001b[0;34m\u001b[0m\u001b[0m\n\u001b[1;32m   1737\u001b[0m                 \u001b[0mmode\u001b[0m\u001b[0;34m,\u001b[0m\u001b[0;34m\u001b[0m\u001b[0;34m\u001b[0m\u001b[0m\n",
            "\u001b[0;32m/usr/local/lib/python3.10/dist-packages/pandas/io/common.py\u001b[0m in \u001b[0;36mget_handle\u001b[0;34m(path_or_buf, mode, encoding, compression, memory_map, is_text, errors, storage_options)\u001b[0m\n\u001b[1;32m    854\u001b[0m         \u001b[0;32mif\u001b[0m \u001b[0mioargs\u001b[0m\u001b[0;34m.\u001b[0m\u001b[0mencoding\u001b[0m \u001b[0;32mand\u001b[0m \u001b[0;34m\"b\"\u001b[0m \u001b[0;32mnot\u001b[0m \u001b[0;32min\u001b[0m \u001b[0mioargs\u001b[0m\u001b[0;34m.\u001b[0m\u001b[0mmode\u001b[0m\u001b[0;34m:\u001b[0m\u001b[0;34m\u001b[0m\u001b[0;34m\u001b[0m\u001b[0m\n\u001b[1;32m    855\u001b[0m             \u001b[0;31m# Encoding\u001b[0m\u001b[0;34m\u001b[0m\u001b[0;34m\u001b[0m\u001b[0m\n\u001b[0;32m--> 856\u001b[0;31m             handle = open(\n\u001b[0m\u001b[1;32m    857\u001b[0m                 \u001b[0mhandle\u001b[0m\u001b[0;34m,\u001b[0m\u001b[0;34m\u001b[0m\u001b[0;34m\u001b[0m\u001b[0m\n\u001b[1;32m    858\u001b[0m                 \u001b[0mioargs\u001b[0m\u001b[0;34m.\u001b[0m\u001b[0mmode\u001b[0m\u001b[0;34m,\u001b[0m\u001b[0;34m\u001b[0m\u001b[0;34m\u001b[0m\u001b[0m\n",
            "\u001b[0;31mFileNotFoundError\u001b[0m: [Errno 2] No such file or directory: 'preds_test.csv'"
          ]
        }
      ]
    },
    {
      "cell_type": "code",
      "source": [
        "#for tf_idf: prepare the data\n",
        "\n",
        "# clean the data\n",
        "\n",
        "def clean_preds(df_preds):\n",
        "\n",
        "      df_preds['Race Location'] = df_preds['Race Location'].str.replace(r'\\(.*?\\)', '', regex=True)\n",
        "\n",
        "      df_preds = df_preds[df_preds['Date'] != 'Date']  #deleting rows with the column titles\n",
        "      df_preds = df_preds.reset_index()\n",
        "      df_preds = df_preds.drop(\"index\", axis = 1)  #dropping index columns\n",
        "      df_preds = df_preds.replace('[\\'NaN\\']', np.nan)\n",
        "\n",
        "      #just want horse-race id and the predictions\n",
        "      df_preds['race_id'] = df_preds['Date']+ \"_\" + df_preds['Time'] + \"_\" + df_preds[\"Race Location\"] #create race id\n",
        "      df_preds['horse_race_id'] = df_preds['Date']+ \"_\" + df_preds['Time'] + \"_\" + df_preds[\"Race Location\"]+ \"_\" + df_preds[\"Horse Name\"] #create horse id\n",
        "      df_preds = df_preds.drop([\"Date\", \"Time\", \"Race Location\", \"Going\", \"Horse Name\"], axis = 1) #drop all data now stored in horse id\n",
        "      df_preds = df_preds.drop_duplicates()\n",
        "      df_preds.Prediction = df_preds.Prediction.astype(str)\n",
        "      df_preds.horse_race_id = df_preds.horse_race_id.astype(str)\n",
        "      df_preds = df_preds.replace('-', np.nan)\n",
        "\n",
        "      for i in df_preds.columns[df_preds.isnull().any(axis=0)]:     # replace nan with the mean of a column\n",
        "          df_preds[i].fillna(pd.to_numeric(df_preds[i]).mean(),inplace=True)\n",
        "\n",
        "\n",
        "      cols_to_norm = ['Horse Age', 'Horse Top Speed', 'Horse RPRS Ranking', 'Horse ORS Ranking', 'Horse Weight', 'Jockey Last 14', 'Trainer Last 14']\n",
        "\n",
        "      normalized_df_preds = df_preds[cols_to_norm].astype(float)  #standardize the data\n",
        "      normalized_df_preds = (normalized_df_preds-normalized_df_preds.mean())/normalized_df_preds.std()\n",
        "\n",
        "\n",
        "      df_preds[cols_to_norm] = normalized_df_preds\n",
        "      df_preds['Prediction'] = df_preds['Prediction'].apply(lambda x: x.lower())  #make all lowercase\n",
        "      df_preds[\"Prediction\"] = df_preds['Prediction'].str.replace('[^\\w\\s]','')\n",
        "      df_preds['race_id'] = df_preds['race_id'].apply(lambda x: x.strip())\n",
        "      return df_preds\n",
        "\n",
        "df_pred_test = clean_preds(df_pred_test)\n",
        "df_pred_test.head()"
      ],
      "metadata": {
        "id": "MmgVz2Be4k9U"
      },
      "execution_count": null,
      "outputs": []
    },
    {
      "cell_type": "code",
      "source": [
        "df_res_test = pd.read_csv(\"results_test.csv\")"
      ],
      "metadata": {
        "id": "hIhc3OqS5bhP"
      },
      "execution_count": null,
      "outputs": []
    },
    {
      "cell_type": "code",
      "source": [
        "\n",
        "def clean_res(df_res):\n",
        "    df_res['Race Location'] = df_res['Race Location'].str.replace(r'\\(.*?\\)', '', regex=True)\n",
        "\n",
        "    df_res = df_res[df_res['Date'] != 'Date']\n",
        "    df_res = df_res.drop_duplicates()\n",
        "    df_res = df_res.reset_index()\n",
        "    df_res = df_res.drop(\"index\", axis = 1)\n",
        "    df_res['race_id'] = df_res['Date']+ \"_\" + df_res['Time'] + \"_\" + df_res[\"Race Location\"]\n",
        "    df_res['horse_race_id'] = df_res['Date']+ \"_\" + df_res['Time'] + \"_\" + df_res[\"Race Location\"]+ \"_\" + df_res[\"Horse Name\"]\n",
        "    df_res = df_res[[\"race_id\", \"horse_race_id\", \"Position\"]]\n",
        "\n",
        "    def get_type(x):  #sometimes position is text ie NR for the horse being a Non_Runne, want to penalise this so give a high score\n",
        "        try:\n",
        "            return float(x)\n",
        "        except:\n",
        "            return 100\n",
        "\n",
        "\n",
        "    df_res['Position'] = df_res['Position'].apply(get_type) #apply the above function to Position values\n",
        "    df_res.reset_index(inplace = True)\n",
        "    df_res = df_res.drop([\"index\"], axis = 1)\n",
        "    df_res.horse_race_id = df_res.horse_race_id.astype(str)\n",
        "    df_res['race_id'] = df_res['race_id'].apply(lambda x: x.strip())\n",
        "    return df_res\n",
        "\n",
        "df_res_test = clean_res(df_res_test)"
      ],
      "metadata": {
        "id": "liZeZs325n23"
      },
      "execution_count": null,
      "outputs": []
    },
    {
      "cell_type": "code",
      "source": [
        "grouped = df_res_test.groupby('race_id')\n",
        "\n",
        "results = pd.DataFrame(columns=['Race_id', 'Predictions'])\n",
        "\n",
        "\n",
        "\n",
        "for name, group in grouped:\n",
        "    h_pos = []\n",
        "\n",
        "    for i, j in enumerate(group['Position'].values):\n",
        "        h_name = group['horse_race_id'].iloc[i]\n",
        "        h_pos.append((h_name, j))\n",
        "\n",
        "    sorted_scores = sorted(h_pos, key = lambda x: x[1])  #although already in order, sort just to make sure\n",
        "\n",
        "    horse_ranks = [i[0] for i in sorted_scores]\n",
        "\n",
        "    df = pd.DataFrame({'Race_id': name, 'Predictions': [horse_ranks]})\n",
        "    results = pd.concat([results, df])\n",
        "\n",
        "results.head()\n",
        "\n"
      ],
      "metadata": {
        "id": "h8sqsLlRq5QV"
      },
      "execution_count": null,
      "outputs": []
    },
    {
      "cell_type": "markdown",
      "source": [
        "##TF_IDF\n"
      ],
      "metadata": {
        "id": "6hBiseAS7QZz"
      }
    },
    {
      "cell_type": "code",
      "source": [
        "def add_tf_idf(df, n):\n",
        "    tfidf_vectorizer = TfidfVectorizer()\n",
        "\n",
        "    # Fit and transform the \"Prediction\" column\n",
        "    tfidf_separate = tfidf_vectorizer.fit_transform(df[\"Prediction\"])\n",
        "\n",
        "    # Get the vocabulary and its corresponding indices\n",
        "    vocab = tfidf_vectorizer.vocabulary_\n",
        "    vocab_indices = tfidf_vectorizer.get_feature_names_out()\n",
        "\n",
        "    # Sum the tf-idf values for each word for each document (i.e., summing the columns of the tfidf_separate matrix above)\n",
        "    combined_tfidf = tfidf_separate.toarray().sum(axis=0)\n",
        "\n",
        "    # Sort the combined_tfidf values in descending order and take the first n indices\n",
        "    indices_n_highest = combined_tfidf.argsort()[::-1][:n]\n",
        "\n",
        "    # Get the words corresponding to the highest tf-idf values\n",
        "    words_n_highest = [vocab_indices[i] for i in indices_n_highest]\n",
        "\n",
        "    #perform BOW using the highest tfidf words as our set of words\n",
        "    bow_counter = CountVectorizer()\n",
        "    bow_counter.fit(words_n_highest)\n",
        "    bow_applied = bow_counter.transform(df['Prediction'])\n",
        "\n",
        "    #add these new values to the dataframe\n",
        "    df = pd.concat([df.reset_index(drop=True), pd.DataFrame(bow_applied.toarray()).reset_index(drop=True)], axis=1)\n",
        "    return(df)\n",
        "\n",
        "#add this new data, can go higher than 100\n",
        "df_pred_test = add_tf_idf(df_pred_test, 100)\n",
        "\n",
        "#drop the prediction sentences\n",
        "df_pred_test = df_pred_test.drop('Prediction', axis = 1)\n"
      ],
      "metadata": {
        "id": "uGNRrN0y7Orv"
      },
      "execution_count": null,
      "outputs": []
    },
    {
      "cell_type": "markdown",
      "source": [
        "###Pointwise"
      ],
      "metadata": {
        "id": "pNwbKNkqFl91"
      }
    },
    {
      "cell_type": "code",
      "source": [
        "grouped = df_pred_test.groupby('race_id')\n",
        "\n",
        "pt_preds = pd.DataFrame(columns=['Race_id', 'Predictions'])\n",
        "\n",
        "for name, group in grouped:\n",
        "\n",
        "  data = group.drop(['horse_race_id', 'race_id'], axis =1)\n",
        "  torch_tensor = torch.tensor(data.values)\n",
        "  pred_scores = pointwise(torch_tensor.to(torch.float32))\n",
        "  indices = torch.argsort(pred_scores, dim = 0, descending = False)\n",
        "  horse_names = []\n",
        "  for i in indices:\n",
        "    h_name = group['horse_race_id'].iloc[i.item()]\n",
        "    horse_names.append(h_name)\n",
        "\n",
        "  df = pd.DataFrame({'Race_id': name, 'Predictions': [horse_names]})\n",
        "  pt_preds = pd.concat([pt_preds, df])\n",
        "\n",
        "pt_preds.head()"
      ],
      "metadata": {
        "id": "zEYzMD6G6N33"
      },
      "execution_count": null,
      "outputs": []
    },
    {
      "cell_type": "code",
      "source": [
        "#merge\n",
        "pred_test_df = pd.merge(pt_preds, results, on='Race_id', how = 'inner')\n",
        "\n",
        "pred_test_df.head()"
      ],
      "metadata": {
        "id": "zXkxWZkjsg_Y"
      },
      "execution_count": null,
      "outputs": []
    },
    {
      "cell_type": "markdown",
      "source": [
        "###Pairwise"
      ],
      "metadata": {
        "id": "UldbvL-cFpJR"
      }
    },
    {
      "cell_type": "code",
      "source": [
        "#prep data for pairwise\n",
        "\n",
        "# Initialize a defaultdict to store the results\n",
        "pr_test = defaultdict(list)\n",
        "\n",
        "# Get unique race IDs\n",
        "race_ids = df_pred_test['race_id'].unique()\n",
        "\n",
        "# Iterate over race IDs\n",
        "for race_id in race_ids:\n",
        "    # Get the rows for the current race ID\n",
        "    rows = df_pred_test[df_pred_test['race_id'] == race_id]\n",
        "\n",
        "    # Iterate over all combinations of horse IDs in the current race\n",
        "    for i, j in combinations(rows.index, 2):\n",
        "        # Store the common information\n",
        "        pr_test['Race_Id'].append(race_id)\n",
        "        pr_test['Horse_Id_x'].append(rows.loc[i, 'horse_race_id'])\n",
        "        pr_test['Horse_Id_y'].append(rows.loc[j, 'horse_race_id'])\n",
        "\n",
        "        # Calculate the differences between the values for each column\n",
        "        # Calculate the differences between the values for each column\n",
        "        for col_name in [col for col in rows.columns if col not in ['horse_race_id', 'race_id']]:\n",
        "            col_diff = float(rows.loc[i, col_name]) - float(rows.loc[j, col_name])\n",
        "            pr_test[col_name].append(col_diff)\n",
        "\n",
        "# Create a DataFrame from the dictionary\n",
        "pr_test = pd.DataFrame(pr_test)\n",
        "pr_test.head()"
      ],
      "metadata": {
        "id": "Vg3hqlRQE-J9"
      },
      "execution_count": null,
      "outputs": []
    },
    {
      "cell_type": "code",
      "source": [
        "grouped = pr_test.groupby('Race_Id')\n",
        "\n",
        "pr_preds = pd.DataFrame(columns=['Race_id', 'Predictions'])\n",
        "\n",
        "for name, group in grouped:\n",
        "  df_horses = {}\n",
        "\n",
        "  for i in group['Horse_Id_x'].values:\n",
        "    if i not in df_horses:\n",
        "      df_horses[i] = 0\n",
        "\n",
        "  for i in group['Horse_Id_y'].values:\n",
        "    if i not in df_horses:\n",
        "      df_horses[i] = 0\n",
        "\n",
        "  data = group.drop(['Horse_Id_x', 'Horse_Id_y', 'Race_Id'], axis =1)\n",
        "  torch_tensor = torch.tensor(data.values)\n",
        "  pred_scores = pairwise(torch_tensor.to(torch.float32))\n",
        "\n",
        "  for i, j in enumerate(pred_scores):\n",
        "    h_1_name = group['Horse_Id_x'].iloc[i]\n",
        "    h_2_name = group['Horse_Id_y'].iloc[i]\n",
        "\n",
        "    df_horses[h_1_name] += j[0].item()\n",
        "    df_horses[h_2_name] += j[1].item()\n",
        "\n",
        "  horse_scores = []\n",
        "\n",
        "  for i in df_horses.keys():\n",
        "    horse_scores.append((i, df_horses[i]))\n",
        "\n",
        "  sorted_scores = sorted(horse_scores, key = lambda x: x[1], reverse = False)\n",
        "\n",
        "  horse_ranks = [i[0] for i in sorted_scores]\n",
        "\n",
        "  df = pd.DataFrame({'Race_id': name, 'Predictions': [horse_ranks]})\n",
        "  pr_preds = pd.concat([pr_preds, df])\n",
        "\n",
        "\n",
        "\n",
        "pr_preds.head()"
      ],
      "metadata": {
        "id": "nYQ073AMZTl9"
      },
      "execution_count": null,
      "outputs": []
    },
    {
      "cell_type": "code",
      "source": [
        "#merge\n",
        "pred_test_df = pd.merge(pr_preds, results, on='Race_id', how = 'inner')\n",
        "\n",
        "pred_test_df.head()"
      ],
      "metadata": {
        "id": "r_gue3o8xheK"
      },
      "execution_count": null,
      "outputs": []
    },
    {
      "cell_type": "markdown",
      "source": [
        "###Listwise"
      ],
      "metadata": {
        "id": "GbMm2r2Oe9Cw"
      }
    },
    {
      "cell_type": "code",
      "source": [
        "grouped = df_pred_test.groupby('race_id')\n",
        "\n",
        "ls_ndcg_1_preds = pd.DataFrame(columns=['Race_id', 'Predictions'])\n",
        "\n",
        "for name, group in grouped:\n",
        "\n",
        "  data = group.drop(['horse_race_id', 'race_id'], axis =1)\n",
        "  torch_tensor = torch.tensor(data.values)\n",
        "  pred_scores = listwise_ndcg_1(torch_tensor.to(torch.float32))\n",
        "  indices = torch.argsort(pred_scores, dim = 0, descending = False)\n",
        "\n",
        "  horse_names = []\n",
        "\n",
        "  for i in indices:\n",
        "    if i.item() < group.shape[0]:\n",
        "      h_name = group['horse_race_id'].iloc[i.item()]\n",
        "      horse_names.append(h_name)\n",
        "\n",
        "  df = pd.DataFrame({'Race_id': name, 'Predictions': [horse_names]})\n",
        "  ls_ndcg_1_preds = pd.concat([ls_ndcg_1_preds, df])\n",
        "\n",
        "ls_ndcg_1_preds.head()"
      ],
      "metadata": {
        "id": "MlvrcKrCe7TA"
      },
      "execution_count": null,
      "outputs": []
    },
    {
      "cell_type": "code",
      "source": [
        "#merge\n",
        "pred_test_df = pd.merge(ls_ndcg_1_preds, results, on='Race_id', how = 'inner')\n",
        "\n",
        "pred_test_df.head()"
      ],
      "metadata": {
        "id": "Lpd0FjAb03NC"
      },
      "execution_count": null,
      "outputs": []
    },
    {
      "cell_type": "code",
      "source": [
        "grouped = df_pred_test.groupby('race_id')\n",
        "\n",
        "ls_ndcg_2_preds = pd.DataFrame(columns=['Race_id', 'Predictions'])\n",
        "\n",
        "for name, group in grouped:\n",
        "\n",
        "  data = group.drop(['horse_race_id', 'race_id'], axis =1)\n",
        "  torch_tensor = torch.tensor(data.values)\n",
        "  pred_scores = listwise_ndcg_2(torch_tensor.to(torch.float32))\n",
        "  indices = torch.argsort(pred_scores, dim = 0, descending = False)\n",
        "\n",
        "  horse_names = []\n",
        "\n",
        "  for i in indices:\n",
        "    if i.item() < group.shape[0]:\n",
        "      h_name = group['horse_race_id'].iloc[i.item()]\n",
        "      horse_names.append(h_name)\n",
        "\n",
        "  df = pd.DataFrame({'Race_id': name, 'Predictions': [horse_names]})\n",
        "  ls_ndcg_2_preds = pd.concat([ls_ndcg_2_preds, df])\n",
        "\n",
        "ls_ndcg_2_preds.head()"
      ],
      "metadata": {
        "id": "c5e0tSNwg8ZU"
      },
      "execution_count": null,
      "outputs": []
    },
    {
      "cell_type": "code",
      "source": [
        "#merge\n",
        "pred_test_df = pd.merge(ls_ndcg_2_preds, results, on='Race_id', how = 'inner')\n",
        "\n",
        "pred_test_df.head()"
      ],
      "metadata": {
        "id": "wDsgQozl0heT"
      },
      "execution_count": null,
      "outputs": []
    },
    {
      "cell_type": "code",
      "source": [
        "grouped = df_pred_test.groupby('race_id')\n",
        "\n",
        "ls_ndcg_3_preds = pd.DataFrame(columns=['Race_id', 'Predictions'])\n",
        "\n",
        "for name, group in grouped:\n",
        "\n",
        "  data = group.drop(['horse_race_id', 'race_id'], axis =1)\n",
        "  torch_tensor = torch.tensor(data.values)\n",
        "  pred_scores = listwise_ndcg_3(torch_tensor.to(torch.float32))\n",
        "  indices = torch.argsort(pred_scores, dim = 0, descending = True)\n",
        "\n",
        "  horse_names = []\n",
        "\n",
        "  for i in indices:\n",
        "    if i.item() < group.shape[0]:\n",
        "      h_name = group['horse_race_id'].iloc[i.item()]\n",
        "      horse_names.append(h_name)\n",
        "\n",
        "  df = pd.DataFrame({'Race_id': name, 'Predictions': [horse_names]})\n",
        "  ls_ndcg_3_preds = pd.concat([ls_ndcg_3_preds, df])\n",
        "\n",
        "ls_ndcg_3_preds.head()"
      ],
      "metadata": {
        "id": "ufyunlcUg9OU"
      },
      "execution_count": null,
      "outputs": []
    },
    {
      "cell_type": "code",
      "source": [
        "#merge\n",
        "pred_test_df = pd.merge(ls_ndcg_3_preds, results, on='Race_id', how = 'inner')\n",
        "\n",
        "pred_test_df.head()"
      ],
      "metadata": {
        "id": "4GFzThls0CWB"
      },
      "execution_count": null,
      "outputs": []
    },
    {
      "cell_type": "markdown",
      "source": [
        "###CNN"
      ],
      "metadata": {
        "id": "IUSY91PhhqdY"
      }
    },
    {
      "cell_type": "code",
      "source": [
        "grouped = df_pred_test.groupby('race_id')\n",
        "\n",
        "cnn_df = pd.DataFrame(columns=['Race_id', 'Predictions'])\n",
        "\n",
        "for name, group in grouped:\n",
        "\n",
        "  data = group.drop(['horse_race_id', 'race_id'], axis =1)\n",
        "  torch_tensor = torch.tensor(data.values).to(torch.float32)\n",
        "  data_transposed = torch.transpose(torch_tensor, 0, 1)\n",
        "\n",
        "  result = torch.matmul(data_transposed, torch_tensor).unsqueeze(0)   # M.t * M to get matrices of size emb_seize x emb_size\n",
        "  pred_scores = cnn_regression(result)\n",
        "\n",
        "  index = round(pred_scores.item())\n",
        "  if index < group.shape[0]:\n",
        "    h_name = group['horse_race_id'].iloc[index]\n",
        "  else:\n",
        "    h_name = group['horse_race_id'].iloc[group.shape[0]]\n",
        "\n",
        "\n",
        "  df = pd.DataFrame({'Race_id': name, 'Predictions': [h_name]})\n",
        "  cnn_df = pd.concat([cnn_df, df])\n",
        "\n",
        "cnn_df.head()\n"
      ],
      "metadata": {
        "id": "mklmc6Ttl1f7"
      },
      "execution_count": null,
      "outputs": []
    },
    {
      "cell_type": "code",
      "source": [
        "#merge\n",
        "pred_test_df = pd.merge(cnn_df, results, on='Race_id', how = 'inner')\n",
        "\n",
        "pred_test_df['Predictions_y'] = pred_test_df['Predictions_y'].apply(lambda x: x[0])\n",
        "\n",
        "pred_test_df.head()"
      ],
      "metadata": {
        "id": "jjEnBA7q1Yku"
      },
      "execution_count": null,
      "outputs": []
    },
    {
      "cell_type": "markdown",
      "source": [
        "##BERT"
      ],
      "metadata": {
        "id": "jB_QWhnu1wSw"
      }
    },
    {
      "cell_type": "code",
      "source": [
        "df_pred_test = pd.read_csv(\"preds_test.csv\")\n",
        "#for tf_idf: prepare the data\n",
        "\n",
        "# clean the data\n",
        "\n",
        "def clean_preds(df_preds):\n",
        "\n",
        "      df_preds['Race Location'] = df_preds['Race Location'].str.replace(r'\\(.*?\\)', '', regex=True)\n",
        "\n",
        "      df_preds = df_preds[df_preds['Date'] != 'Date']  #deleting rows with the column titles\n",
        "      df_preds = df_preds.reset_index()\n",
        "      df_preds = df_preds.drop(\"index\", axis = 1)  #dropping index columns\n",
        "      df_preds = df_preds.replace('[\\'NaN\\']', np.nan)\n",
        "\n",
        "      #just want horse-race id and the predictions\n",
        "      df_preds['race_id'] = df_preds['Date']+ \"_\" + df_preds['Time'] + \"_\" + df_preds[\"Race Location\"] #create race id\n",
        "      df_preds['horse_race_id'] = df_preds['Date']+ \"_\" + df_preds['Time'] + \"_\" + df_preds[\"Race Location\"]+ \"_\" + df_preds[\"Horse Name\"] #create horse id\n",
        "      df_preds = df_preds.drop([\"Date\", \"Time\", \"Race Location\", \"Going\", \"Horse Name\"], axis = 1) #drop all data now stored in horse id\n",
        "      df_preds = df_preds.drop_duplicates()\n",
        "      df_preds.Prediction = df_preds.Prediction.astype(str)\n",
        "      df_preds.horse_race_id = df_preds.horse_race_id.astype(str)\n",
        "      df_preds = df_preds.replace('-', np.nan)\n",
        "\n",
        "      for i in df_preds.columns[df_preds.isnull().any(axis=0)]:     # replace nan with the mean of a column\n",
        "          df_preds[i].fillna(pd.to_numeric(df_preds[i]).mean(),inplace=True)\n",
        "\n",
        "\n",
        "      cols_to_norm = ['Horse Age', 'Horse Top Speed', 'Horse RPRS Ranking', 'Horse ORS Ranking', 'Horse Weight', 'Jockey Last 14', 'Trainer Last 14']\n",
        "\n",
        "      normalized_df_preds = df_preds[cols_to_norm].astype(float)  #standardize the data\n",
        "      normalized_df_preds = (normalized_df_preds-normalized_df_preds.mean())/normalized_df_preds.std()\n",
        "\n",
        "\n",
        "      df_preds[cols_to_norm] = normalized_df_preds\n",
        "      df_preds['Prediction'] = df_preds['Prediction'].apply(lambda x: x.lower())  #make all lowercase\n",
        "      df_preds[\"Prediction\"] = df_preds['Prediction'].str.replace('[^\\w\\s]','')\n",
        "      df_preds['race_id'] = df_preds['race_id'].apply(lambda x: x.strip())\n",
        "      return df_preds\n",
        "\n",
        "df_pred_test = clean_preds(df_pred_test)\n",
        "df_pred_test.head()"
      ],
      "metadata": {
        "id": "T-GEBI9TNLUL"
      },
      "execution_count": null,
      "outputs": []
    },
    {
      "cell_type": "markdown",
      "source": [
        "###Pointwise"
      ],
      "metadata": {
        "id": "Gy1Xe9ds13hB"
      }
    },
    {
      "cell_type": "code",
      "source": [
        "# Extract the input features and target\n",
        "num_features = torch.tensor(self.df.drop(['index', 'Prediction', 'Position'], axis=1).iloc[index].values, dtype=torch.float32)\n",
        "\n",
        "#Select the sentence and label at the specified index in the data frame\n",
        "pred = self.df.loc[index, 'Prediction']\n",
        "try:\n",
        "    position = self.df.loc[index, 'Position']\n",
        "except:\n",
        "    position = -1.0\n",
        "\n",
        "#Preprocess the text to be suitable for the transformer\n",
        "tokens = self.tokenizer.tokenize(pred)\n",
        "tokens = ['[CLS]'] + tokens + ['[SEP]']\n",
        "if len(tokens) < self.maxlen:\n",
        "    tokens = tokens + ['[PAD]' for _ in range(self.maxlen - len(tokens))]\n",
        "else:\n",
        "    tokens = tokens[:self.maxlen-1] + ['[SEP]']\n",
        "#Obtain the indices of the tokens in the BERT Vocabulary\n",
        "input_ids = self.tokenizer.convert_tokens_to_ids(tokens)\n",
        "input_ids = torch.tensor(input_ids)\n",
        "#Obtain the attention mask i.e a tensor containing 1s for no padded tokens and 0s for padded ones\n",
        "attention_mask = (input_ids != 0).long()"
      ],
      "metadata": {
        "id": "mRhfTVkqL0q_"
      },
      "execution_count": null,
      "outputs": []
    },
    {
      "cell_type": "code",
      "source": [
        "grouped = df_pred_test.groupby('race_id')\n",
        "\n",
        "bert_pt_preds = pd.DataFrame(columns=['Race_id', 'Predictions'])\n",
        "\n",
        "for name, group in grouped:\n",
        "\n",
        "  num_features = torch.tensor(group.drop(['Prediction', 'race_id', 'horse_race_id'], axis=1).values, dtype=torch.float32)\n",
        "  pred = group['Prediction'].values\n",
        "\n",
        "  word_count = group['Prediction'].apply(lambda x: len(x.split()))\n",
        "  max_word_count = word_count.max()\n",
        "\n",
        "  ids_msk_per_horse = []\n",
        "\n",
        "  tokens = tokenizer.tokenize(pred)\n",
        "  tokens = ['[CLS]'] + tokens + ['[SEP]']\n",
        "\n",
        "  if len(tokens) < max_word_count:\n",
        "      tokens = tokens + ['[PAD]' for _ in range(max_word_count - len(tokens))]\n",
        "  else:\n",
        "      tokens = tokens[:max_word_count-1] + ['[SEP]']\n",
        "  #Obtain the indices of the tokens in the BERT Vocabulary\n",
        "  input_ids = tokenizer.convert_tokens_to_ids(tokens)\n",
        "  input_ids = torch.tensor(input_ids)\n",
        "  #Obtain the attention mask i.e a tensor containing 1s for no padded tokens and 0s for padded ones\n",
        "  attention_mask = (input_ids != 0).long()\n",
        "\n",
        "\n",
        "  print(num_features.shape)\n",
        "  print(bert_pointwise(num_features, input_ids, attention_mask))\n",
        "\n",
        "#bert_pt_preds.head()"
      ],
      "metadata": {
        "id": "eyQyq-EJ15bk"
      },
      "execution_count": null,
      "outputs": []
    },
    {
      "cell_type": "code",
      "source": [
        "#merge\n",
        "pred_test_df = pd.merge(bert_pt_preds, results, on='Race_id', how = 'inner')\n",
        "\n",
        "pred_test_df.head()"
      ],
      "metadata": {
        "id": "LtiFDneW2JWU"
      },
      "execution_count": null,
      "outputs": []
    }
  ]
}